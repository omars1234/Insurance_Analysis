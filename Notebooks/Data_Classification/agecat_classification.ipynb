{
 "cells": [
  {
   "cell_type": "markdown",
   "metadata": {},
   "source": [
    "## <u>*Classsification Modelling for Area as a Target Feature*</u>"
   ]
  },
  {
   "cell_type": "code",
   "execution_count": 1,
   "metadata": {},
   "outputs": [],
   "source": [
    "import pandas as pd\n",
    "import numpy as np\n",
    "from matplotlib import pyplot as plt\n",
    "%matplotlib inline\n",
    "import matplotlib\n",
    "matplotlib.rcParams[\"figure.figsize\"]=(20,10)\n",
    "import seaborn as sns;sns.set()\n",
    "import warnings\n",
    "warnings.filterwarnings('ignore')\n",
    "import plotly.express as px\n",
    "from datetime import datetime,time\n",
    "import os"
   ]
  },
  {
   "cell_type": "code",
   "execution_count": 2,
   "metadata": {},
   "outputs": [],
   "source": [
    "from sklearn.metrics import (\n",
    "    r2_score,accuracy_score,roc_auc_score,auc,roc_curve,precision_score,\n",
    "    recall_score,precision_recall_curve,r2_score,classification_report,RocCurveDisplay,\n",
    "    confusion_matrix,f1_score,ConfusionMatrixDisplay\n",
    "    )\n",
    "from sklearn.ensemble import RandomForestClassifier,GradientBoostingClassifier,AdaBoostClassifier\n",
    "from sklearn.tree import DecisionTreeClassifier\n",
    "import xgboost as xgb\n",
    "from xgboost import XGBRFClassifier\n",
    "import graphviz\n",
    "from sklearn.model_selection import train_test_split, GridSearchCV,RandomizedSearchCV,cross_val_score,KFold\n",
    "import warnings                                  \n",
    "warnings.filterwarnings('ignore')\n",
    "from sklearn.preprocessing import LabelEncoder,StandardScaler\n",
    "from tqdm import tqdm\n",
    "from sklearn.utils.multiclass import unique_labels\n",
    "import plotclassification ,plotly\n",
    "# import matplotlib.pyplot as plt\n",
    "from yellowbrick.classifier import ClassificationReport\n",
    "from hyperopt import fmin, tpe, hp, SparkTrials, STATUS_OK,Trials"
   ]
  },
  {
   "cell_type": "markdown",
   "metadata": {},
   "source": [
    "---"
   ]
  },
  {
   "cell_type": "code",
   "execution_count": 3,
   "metadata": {},
   "outputs": [
    {
     "data": {
      "text/html": [
       "<div>\n",
       "<style scoped>\n",
       "    .dataframe tbody tr th:only-of-type {\n",
       "        vertical-align: middle;\n",
       "    }\n",
       "\n",
       "    .dataframe tbody tr th {\n",
       "        vertical-align: top;\n",
       "    }\n",
       "\n",
       "    .dataframe thead th {\n",
       "        text-align: right;\n",
       "    }\n",
       "</style>\n",
       "<table border=\"1\" class=\"dataframe\">\n",
       "  <thead>\n",
       "    <tr style=\"text-align: right;\">\n",
       "      <th></th>\n",
       "      <th>veh_value</th>\n",
       "      <th>exposure</th>\n",
       "      <th>claimcst0</th>\n",
       "      <th>veh_body</th>\n",
       "      <th>veh_age</th>\n",
       "      <th>gender</th>\n",
       "      <th>area</th>\n",
       "      <th>agecat</th>\n",
       "    </tr>\n",
       "  </thead>\n",
       "  <tbody>\n",
       "    <tr>\n",
       "      <th>0</th>\n",
       "      <td>1.06</td>\n",
       "      <td>0.303901</td>\n",
       "      <td>0.0</td>\n",
       "      <td>HBACK</td>\n",
       "      <td>3</td>\n",
       "      <td>F</td>\n",
       "      <td>C</td>\n",
       "      <td>2</td>\n",
       "    </tr>\n",
       "    <tr>\n",
       "      <th>1</th>\n",
       "      <td>1.03</td>\n",
       "      <td>0.648871</td>\n",
       "      <td>0.0</td>\n",
       "      <td>HBACK</td>\n",
       "      <td>2</td>\n",
       "      <td>F</td>\n",
       "      <td>A</td>\n",
       "      <td>4</td>\n",
       "    </tr>\n",
       "    <tr>\n",
       "      <th>2</th>\n",
       "      <td>3.26</td>\n",
       "      <td>0.569473</td>\n",
       "      <td>0.0</td>\n",
       "      <td>UTE</td>\n",
       "      <td>2</td>\n",
       "      <td>F</td>\n",
       "      <td>E</td>\n",
       "      <td>2</td>\n",
       "    </tr>\n",
       "    <tr>\n",
       "      <th>3</th>\n",
       "      <td>4.14</td>\n",
       "      <td>0.317591</td>\n",
       "      <td>0.0</td>\n",
       "      <td>STNWG</td>\n",
       "      <td>2</td>\n",
       "      <td>F</td>\n",
       "      <td>D</td>\n",
       "      <td>2</td>\n",
       "    </tr>\n",
       "    <tr>\n",
       "      <th>4</th>\n",
       "      <td>0.72</td>\n",
       "      <td>0.648871</td>\n",
       "      <td>0.0</td>\n",
       "      <td>HBACK</td>\n",
       "      <td>4</td>\n",
       "      <td>F</td>\n",
       "      <td>C</td>\n",
       "      <td>2</td>\n",
       "    </tr>\n",
       "  </tbody>\n",
       "</table>\n",
       "</div>"
      ],
      "text/plain": [
       "   veh_value  exposure  claimcst0 veh_body veh_age gender area agecat\n",
       "0       1.06  0.303901        0.0    HBACK       3      F    C      2\n",
       "1       1.03  0.648871        0.0    HBACK       2      F    A      4\n",
       "2       3.26  0.569473        0.0      UTE       2      F    E      2\n",
       "3       4.14  0.317591        0.0    STNWG       2      F    D      2\n",
       "4       0.72  0.648871        0.0    HBACK       4      F    C      2"
      ]
     },
     "execution_count": 3,
     "metadata": {},
     "output_type": "execute_result"
    }
   ],
   "source": [
    "df=pd.read_csv(r\"C:/Users/Omar/Desktop/Omar_Files/Python_Analysis/Auto_Insurance/Data_Sets/data_car.csv\")\n",
    "df=df.drop([\"X_OBSTAT_\",\"clm\",\"numclaims\"],axis=1)\n",
    "df[\"agecat\"]=df[\"agecat\"].astype(\"object\")\n",
    "df[\"veh_age\"]=df[\"veh_age\"].astype(\"object\")\n",
    "df.head()"
   ]
  },
  {
   "cell_type": "code",
   "execution_count": 4,
   "metadata": {},
   "outputs": [
    {
     "data": {
      "text/html": [
       "<div>\n",
       "<style scoped>\n",
       "    .dataframe tbody tr th:only-of-type {\n",
       "        vertical-align: middle;\n",
       "    }\n",
       "\n",
       "    .dataframe tbody tr th {\n",
       "        vertical-align: top;\n",
       "    }\n",
       "\n",
       "    .dataframe thead th {\n",
       "        text-align: right;\n",
       "    }\n",
       "</style>\n",
       "<table border=\"1\" class=\"dataframe\">\n",
       "  <thead>\n",
       "    <tr style=\"text-align: right;\">\n",
       "      <th></th>\n",
       "      <th>veh_value</th>\n",
       "      <th>exposure</th>\n",
       "      <th>claimcst0</th>\n",
       "      <th>veh_body</th>\n",
       "      <th>veh_age</th>\n",
       "      <th>gender</th>\n",
       "      <th>area</th>\n",
       "      <th>agecat</th>\n",
       "    </tr>\n",
       "  </thead>\n",
       "  <tbody>\n",
       "    <tr>\n",
       "      <th>0</th>\n",
       "      <td>1.59</td>\n",
       "      <td>0.229979</td>\n",
       "      <td>0.0</td>\n",
       "      <td>SEDAN</td>\n",
       "      <td>1</td>\n",
       "      <td>F</td>\n",
       "      <td>A</td>\n",
       "      <td>1</td>\n",
       "    </tr>\n",
       "    <tr>\n",
       "      <th>1</th>\n",
       "      <td>1.46</td>\n",
       "      <td>0.221766</td>\n",
       "      <td>0.0</td>\n",
       "      <td>HBACK</td>\n",
       "      <td>1</td>\n",
       "      <td>F</td>\n",
       "      <td>A</td>\n",
       "      <td>1</td>\n",
       "    </tr>\n",
       "    <tr>\n",
       "      <th>2</th>\n",
       "      <td>1.54</td>\n",
       "      <td>0.238193</td>\n",
       "      <td>0.0</td>\n",
       "      <td>SEDAN</td>\n",
       "      <td>1</td>\n",
       "      <td>F</td>\n",
       "      <td>A</td>\n",
       "      <td>1</td>\n",
       "    </tr>\n",
       "    <tr>\n",
       "      <th>3</th>\n",
       "      <td>1.57</td>\n",
       "      <td>0.522930</td>\n",
       "      <td>0.0</td>\n",
       "      <td>SEDAN</td>\n",
       "      <td>1</td>\n",
       "      <td>F</td>\n",
       "      <td>A</td>\n",
       "      <td>1</td>\n",
       "    </tr>\n",
       "    <tr>\n",
       "      <th>4</th>\n",
       "      <td>1.41</td>\n",
       "      <td>0.219028</td>\n",
       "      <td>0.0</td>\n",
       "      <td>HBACK</td>\n",
       "      <td>1</td>\n",
       "      <td>F</td>\n",
       "      <td>A</td>\n",
       "      <td>1</td>\n",
       "    </tr>\n",
       "  </tbody>\n",
       "</table>\n",
       "</div>"
      ],
      "text/plain": [
       "   veh_value  exposure  claimcst0 veh_body veh_age gender area agecat\n",
       "0       1.59  0.229979        0.0    SEDAN       1      F    A      1\n",
       "1       1.46  0.221766        0.0    HBACK       1      F    A      1\n",
       "2       1.54  0.238193        0.0    SEDAN       1      F    A      1\n",
       "3       1.57  0.522930        0.0    SEDAN       1      F    A      1\n",
       "4       1.41  0.219028        0.0    HBACK       1      F    A      1"
      ]
     },
     "execution_count": 4,
     "metadata": {},
     "output_type": "execute_result"
    }
   ],
   "source": [
    "df=df.sort_values(by=['veh_age', 'agecat','area','gender']).reset_index().drop(\"index\",axis=1)\n",
    "df.head()"
   ]
  },
  {
   "cell_type": "markdown",
   "metadata": {},
   "source": [
    "*Date preprocessing*"
   ]
  },
  {
   "cell_type": "code",
   "execution_count": 5,
   "metadata": {},
   "outputs": [],
   "source": [
    "categories_encoder=LabelEncoder()\n",
    "for col in df:\n",
    "    if col in list(df.select_dtypes(include=\"object\").columns):\n",
    "        df[col]=categories_encoder.fit_transform(df[col])"
   ]
  },
  {
   "cell_type": "code",
   "execution_count": 6,
   "metadata": {},
   "outputs": [
    {
     "data": {
      "text/html": [
       "<div>\n",
       "<style scoped>\n",
       "    .dataframe tbody tr th:only-of-type {\n",
       "        vertical-align: middle;\n",
       "    }\n",
       "\n",
       "    .dataframe tbody tr th {\n",
       "        vertical-align: top;\n",
       "    }\n",
       "\n",
       "    .dataframe thead th {\n",
       "        text-align: right;\n",
       "    }\n",
       "</style>\n",
       "<table border=\"1\" class=\"dataframe\">\n",
       "  <thead>\n",
       "    <tr style=\"text-align: right;\">\n",
       "      <th></th>\n",
       "      <th>veh_value</th>\n",
       "      <th>exposure</th>\n",
       "      <th>claimcst0</th>\n",
       "      <th>veh_body</th>\n",
       "      <th>veh_age</th>\n",
       "      <th>gender</th>\n",
       "      <th>area</th>\n",
       "      <th>agecat</th>\n",
       "    </tr>\n",
       "  </thead>\n",
       "  <tbody>\n",
       "    <tr>\n",
       "      <th>21</th>\n",
       "      <td>2.560</td>\n",
       "      <td>0.810404</td>\n",
       "      <td>11653.230000</td>\n",
       "      <td>4</td>\n",
       "      <td>0</td>\n",
       "      <td>0</td>\n",
       "      <td>0</td>\n",
       "      <td>0</td>\n",
       "    </tr>\n",
       "    <tr>\n",
       "      <th>40</th>\n",
       "      <td>1.399</td>\n",
       "      <td>0.862423</td>\n",
       "      <td>1259.189999</td>\n",
       "      <td>3</td>\n",
       "      <td>0</td>\n",
       "      <td>0</td>\n",
       "      <td>0</td>\n",
       "      <td>0</td>\n",
       "    </tr>\n",
       "    <tr>\n",
       "      <th>50</th>\n",
       "      <td>3.130</td>\n",
       "      <td>0.407940</td>\n",
       "      <td>850.830000</td>\n",
       "      <td>10</td>\n",
       "      <td>0</td>\n",
       "      <td>0</td>\n",
       "      <td>0</td>\n",
       "      <td>0</td>\n",
       "    </tr>\n",
       "    <tr>\n",
       "      <th>63</th>\n",
       "      <td>1.399</td>\n",
       "      <td>0.358658</td>\n",
       "      <td>367.730000</td>\n",
       "      <td>3</td>\n",
       "      <td>0</td>\n",
       "      <td>0</td>\n",
       "      <td>0</td>\n",
       "      <td>0</td>\n",
       "    </tr>\n",
       "    <tr>\n",
       "      <th>65</th>\n",
       "      <td>1.470</td>\n",
       "      <td>0.353183</td>\n",
       "      <td>200.000000</td>\n",
       "      <td>3</td>\n",
       "      <td>0</td>\n",
       "      <td>0</td>\n",
       "      <td>0</td>\n",
       "      <td>0</td>\n",
       "    </tr>\n",
       "  </tbody>\n",
       "</table>\n",
       "</div>"
      ],
      "text/plain": [
       "    veh_value  exposure     claimcst0  veh_body  veh_age  gender  area  agecat\n",
       "21      2.560  0.810404  11653.230000         4        0       0     0       0\n",
       "40      1.399  0.862423   1259.189999         3        0       0     0       0\n",
       "50      3.130  0.407940    850.830000        10        0       0     0       0\n",
       "63      1.399  0.358658    367.730000         3        0       0     0       0\n",
       "65      1.470  0.353183    200.000000         3        0       0     0       0"
      ]
     },
     "execution_count": 6,
     "metadata": {},
     "output_type": "execute_result"
    }
   ],
   "source": [
    "df=df[df[\"claimcst0\"]>0]\n",
    "df.head()"
   ]
  },
  {
   "cell_type": "markdown",
   "metadata": {},
   "source": [
    "*Define x and y*"
   ]
  },
  {
   "cell_type": "code",
   "execution_count": 7,
   "metadata": {},
   "outputs": [],
   "source": [
    "x=df.drop(\"agecat\",axis=1)\n",
    "y=df[\"agecat\"]"
   ]
  },
  {
   "cell_type": "code",
   "execution_count": 8,
   "metadata": {},
   "outputs": [],
   "source": [
    "sc=StandardScaler()\n",
    "for col in x:\n",
    "        x[[col]]=StandardScaler().fit_transform(x[[col]])"
   ]
  },
  {
   "cell_type": "code",
   "execution_count": 9,
   "metadata": {},
   "outputs": [
    {
     "data": {
      "text/plain": [
       "agecat\n",
       "2    1113\n",
       "3    1104\n",
       "1     932\n",
       "4     614\n",
       "0     496\n",
       "5     365\n",
       "Name: count, dtype: int64"
      ]
     },
     "execution_count": 9,
     "metadata": {},
     "output_type": "execute_result"
    }
   ],
   "source": [
    "df[\"agecat\"].value_counts()"
   ]
  },
  {
   "cell_type": "markdown",
   "metadata": {},
   "source": [
    "*apply data balance method*"
   ]
  },
  {
   "cell_type": "code",
   "execution_count": 10,
   "metadata": {},
   "outputs": [],
   "source": [
    "from imblearn.over_sampling import SMOTE\n",
    "smk=SMOTE(random_state=41)\n",
    "x,y=smk.fit_resample(x,y)"
   ]
  },
  {
   "cell_type": "markdown",
   "metadata": {},
   "source": [
    "*Splitting data into training and testing subsets*"
   ]
  },
  {
   "cell_type": "code",
   "execution_count": 11,
   "metadata": {},
   "outputs": [
    {
     "name": "stdout",
     "output_type": "stream",
     "text": [
      "Train data shape of X = (5008, 7) and Y = (5008,) : \n",
      "Test data shape of X = (1670, 7) and Y = (1670,) : \n"
     ]
    }
   ],
   "source": [
    "x_train, x_test, y_train, y_test = train_test_split(x,y ,test_size= 0.25)\n",
    "\n",
    "print(\"Train data shape of X = % s and Y = % s : \"%(\n",
    "\tx_train.shape, y_train.shape))\n",
    "\n",
    "print(\"Test data shape of X = % s and Y = % s : \"%(\n",
    "\tx_test.shape, y_test.shape))"
   ]
  },
  {
   "cell_type": "code",
   "execution_count": 12,
   "metadata": {},
   "outputs": [],
   "source": [
    "def evaluation_preds(y_true,predicted):\n",
    "    accuracy=accuracy_score(y_true,predicted)\n",
    "    metrics_dict={\n",
    "       \"accuracy\": round(accuracy,3),\n",
    "    \n",
    "    }\n",
    "   \n",
    "    return metrics_dict"
   ]
  },
  {
   "cell_type": "markdown",
   "metadata": {},
   "source": [
    "---"
   ]
  },
  {
   "cell_type": "markdown",
   "metadata": {},
   "source": [
    "## *Hyperparamers tunning*"
   ]
  },
  {
   "cell_type": "markdown",
   "metadata": {},
   "source": [
    "* *Defining models and its parameters*"
   ]
  },
  {
   "cell_type": "code",
   "execution_count": 39,
   "metadata": {},
   "outputs": [],
   "source": [
    "models = {\n",
    "        \n",
    "        \"XGBRFClassifier\": XGBRFClassifier(),\n",
    "        \"GradientBoostingClassifier\":GradientBoostingClassifier(),\n",
    "        \"RandomForestClassifier\": RandomForestClassifier(),\n",
    "        \"AdaBoostClassifier\":AdaBoostClassifier(),\n",
    "        \"DecisionTreeClassifier\": DecisionTreeClassifier(),\n",
    "        \n",
    "}\n",
    "\n",
    "search_spaces ={        \n",
    "        \"XGBRFClassifier\":{\n",
    "            \"learning_rate\": hp.uniform(\"learning_rate\",0.01,1.0),    # 0.3 is the default\n",
    "            \"max_depth\": hp.choice(\"max_depth\", [2, 4, 5, 6,7,8]),\n",
    "            \"subsample\": hp.uniform(\"subsample\",0.5,1.0),\n",
    "            \"n_estimators\": hp.choice(\"n_estimators\", [100, 200, 300, 400,500,600]),\n",
    "            'colsample_bytree': hp.uniform(\"colsample_bytree\",0.5,1.0), \n",
    "            'colsample_bynode': hp.uniform(\"colsample_bynode\",0.5,1.0),\n",
    "            \"reg_lambda\": hp.quniform(\"reg_lambda\",0,2,1),           #L2 regularization term on weights. Increasing this value will make model more conservative\n",
    "            \"reg_alpha\": hp.quniform(\"reg_alpha\",0,2,1)\n",
    "            },\n",
    "        \"GradientBoostingClassifier\":{\n",
    "            \"n_estimators\": hp.choice(\"n_estimators\", [100, 200, 300, 400,500,600]),\n",
    "            \"max_depth\": hp.choice(\"max_depth\", [None,2, 4, 5, 6,7,8]),\n",
    "            \"max_features\": hp.choice(\"max_features\",[\"sqrt\", \"log2\"]),\n",
    "            \"learning_rate\": hp.uniform(\"learning_rate\",0.01,1.0),\n",
    "            \"subsample\": hp.uniform(\"subsample\",0.8,1.0),\n",
    "            \"min_samples_split\": hp.uniform(\"min_samples_split\",0.8,1.0),\n",
    "            \"min_samples_leaf\": hp.uniform(\"min_samples_leaf\",0.8,1.0)\n",
    "            },\n",
    "        \"RandomForestClassifier\":{\n",
    "            \"n_estimators\": hp.choice(\"n_estimators\", [100, 200, 300, 400,500,600]), \n",
    "            \"min_samples_split\": hp.uniform(\"min_samples_split\",0.8,1.0),\n",
    "            \"min_samples_leaf\": hp.uniform(\"min_samples_leaf\",0.8,1.0),\n",
    "            #\"bootstrap\": hp.choice(\"bootstrap\",[True, False]),                                                                                                    \n",
    "            #\"max_features\": hp.choice(\"max_features\",[\"sqrt\", \"log2\"]),                                    \n",
    "            \"max_depth\": hp.choice(\"max_depth\", [2, 4, 5, 6,7,8]),\n",
    "            #\"criterion\": hp.choice(\"criterion\",[\"gini\", \"entropy\", \"log_loss\"])                    \n",
    "        },\n",
    "        \"AdaBoostClassifier\":{\n",
    "            \"n_estimators\": hp.choice(\"n_estimators\", [100, 200, 300, 400,500,600]),\n",
    "            \"learning_rate\": hp.uniform(\"learning_rate\",0.01,1.0)\n",
    "        },\n",
    "        \"DecisionTreeClassifier\": {\n",
    "                    \"criterion\": hp.choice(\"criterion\",[\"gini\", \"entropy\", \"log_loss\"]),\n",
    "                    'splitter': hp.choice(\"splitter\",[\"best\", \"random\"]),\n",
    "                    \"max_depth\": hp.choice(\"max_depth\", [2, 4, 5, 6,7,8]),\n",
    "                    \"min_samples_split\": hp.uniform(\"min_samples_split\",0.8,1.0),\n",
    "                    \"min_samples_leaf\": hp.uniform(\"min_samples_leaf\",0.8,1.0),\n",
    "                    \"max_features\": hp.choice(\"max_features\",[\"sqrt\", \"log2\"])\n",
    "        }                    \n",
    "}"
   ]
  },
  {
   "cell_type": "code",
   "execution_count": 14,
   "metadata": {},
   "outputs": [],
   "source": [
    "np.random.seed(42)\n",
    "clf=RandomForestClassifier()\n",
    "clf.fit(x_train,y_train)\n",
    "predicted=clf.predict(x_test)"
   ]
  },
  {
   "cell_type": "code",
   "execution_count": 15,
   "metadata": {},
   "outputs": [
    {
     "data": {
      "text/plain": [
       "0.4347305389221557"
      ]
     },
     "execution_count": 15,
     "metadata": {},
     "output_type": "execute_result"
    }
   ],
   "source": [
    "accuracy_score(y_test,predicted)"
   ]
  },
  {
   "cell_type": "code",
   "execution_count": 16,
   "metadata": {},
   "outputs": [
    {
     "name": "stdout",
     "output_type": "stream",
     "text": [
      "              precision    recall  f1-score   support\n",
      "\n",
      "           0       0.52      0.63      0.57       261\n",
      "           1       0.33      0.32      0.32       280\n",
      "           2       0.29      0.27      0.28       268\n",
      "           3       0.27      0.21      0.23       299\n",
      "           4       0.51      0.50      0.51       270\n",
      "           5       0.60      0.69      0.65       292\n",
      "\n",
      "    accuracy                           0.43      1670\n",
      "   macro avg       0.42      0.44      0.43      1670\n",
      "weighted avg       0.42      0.43      0.42      1670\n",
      "\n"
     ]
    }
   ],
   "source": [
    "print(classification_report(y_test,predicted))"
   ]
  },
  {
   "cell_type": "code",
   "execution_count": 17,
   "metadata": {},
   "outputs": [
    {
     "data": {
      "text/plain": [
       "<Axes: >"
      ]
     },
     "execution_count": 17,
     "metadata": {},
     "output_type": "execute_result"
    },
    {
     "data": {
      "image/png": "[encoded data removed]",
      "text/plain": [
       "<Figure size 1700x500 with 2 Axes>"
      ]
     },
     "metadata": {},
     "output_type": "display_data"
    }
   ],
   "source": [
    "fig=plt.figure(figsize=(17,5))\n",
    "sns.heatmap(confusion_matrix(y_test,predicted),annot = True, fmt = \".0f\",cmap=\"Blues\")"
   ]
  },
  {
   "cell_type": "code",
   "execution_count": 18,
   "metadata": {},
   "outputs": [
    {
     "name": "stdout",
     "output_type": "stream",
     "text": [
      "===========================================rf_base_evaluation===========================================\n",
      "RF_cross_val_evaluation_preds :\n",
      " {'accuracy': 0.435}\n",
      "===========\n",
      "===========================================XGBRF_base_evaluation===========================================\n",
      "RF_cross_val_evaluation_preds :\n",
      " {'accuracy': 0.287}\n",
      "===========\n",
      "===========================================ADAboost_base_evaluation===========================================\n",
      "RF_cross_val_evaluation_preds :\n",
      " {'accuracy': 0.274}\n",
      "===========\n",
      "===========================================GradientBoostingClassifier===========================================\n",
      "RF_cross_val_evaluation_preds :\n",
      " {'accuracy': 0.301}\n",
      "==================================================================\n"
     ]
    }
   ],
   "source": [
    "\n",
    "print(\"===========================================rf_base_evaluation===========================================\")\n",
    "np.random.seed(42)\n",
    "clf=RandomForestClassifier()\n",
    "clf.fit(x_train,y_train)\n",
    "predicted=clf.predict(x_test)\n",
    "rf_base_evaluation=evaluation_preds(y_test,predicted)\n",
    "print(\"RF_cross_val_evaluation_preds :\\n\" , rf_base_evaluation)\n",
    "print(\"===========\")\n",
    "\n",
    "print(\"===========================================XGBRF_base_evaluation===========================================\")\n",
    "np.random.seed(42)\n",
    "clf=XGBRFClassifier()\n",
    "clf.fit(x_train,y_train)\n",
    "predicted=clf.predict(x_test)\n",
    "XGBRF_base_evaluation=evaluation_preds(y_test,predicted)\n",
    "print(\"RF_cross_val_evaluation_preds :\\n\" , XGBRF_base_evaluation)\n",
    "print(\"===========\")\n",
    "\n",
    "print(\"===========================================ADAboost_base_evaluation===========================================\")\n",
    "np.random.seed(42)\n",
    "clf=AdaBoostClassifier()\n",
    "clf.fit(x_train,y_train)\n",
    "predicted=clf.predict(x_test)\n",
    "ADAboost_base_evaluation=evaluation_preds(y_test,predicted)\n",
    "print(\"RF_cross_val_evaluation_preds :\\n\" , ADAboost_base_evaluation)\n",
    "print(\"===========\")\n",
    "\n",
    "print(\"===========================================GradientBoostingClassifier===========================================\")\n",
    "np.random.seed(42)\n",
    "clf=GradientBoostingClassifier()\n",
    "clf.fit(x_train,y_train)\n",
    "predicted=clf.predict(x_test)\n",
    "GBOOST_base_evaluation=evaluation_preds(y_test,predicted)\n",
    "print(\"RF_cross_val_evaluation_preds :\\n\" , GBOOST_base_evaluation)\n",
    "print(\"==================================================================\")  "
   ]
  },
  {
   "cell_type": "code",
   "execution_count": 19,
   "metadata": {},
   "outputs": [
    {
     "data": {
      "text/html": [
       "<div>\n",
       "<style scoped>\n",
       "    .dataframe tbody tr th:only-of-type {\n",
       "        vertical-align: middle;\n",
       "    }\n",
       "\n",
       "    .dataframe tbody tr th {\n",
       "        vertical-align: top;\n",
       "    }\n",
       "\n",
       "    .dataframe thead th {\n",
       "        text-align: right;\n",
       "    }\n",
       "</style>\n",
       "<table border=\"1\" class=\"dataframe\">\n",
       "  <thead>\n",
       "    <tr style=\"text-align: right;\">\n",
       "      <th></th>\n",
       "      <th>rf_base_evaluation</th>\n",
       "      <th>ADAboost_base_evaluation</th>\n",
       "      <th>XGBRF_base_evaluation</th>\n",
       "      <th>GBOOST_base_evaluation</th>\n",
       "    </tr>\n",
       "  </thead>\n",
       "  <tbody>\n",
       "    <tr>\n",
       "      <th>accuracy</th>\n",
       "      <td>0.435</td>\n",
       "      <td>0.274</td>\n",
       "      <td>0.287</td>\n",
       "      <td>0.301</td>\n",
       "    </tr>\n",
       "  </tbody>\n",
       "</table>\n",
       "</div>"
      ],
      "text/plain": [
       "          rf_base_evaluation  ADAboost_base_evaluation  XGBRF_base_evaluation  \\\n",
       "accuracy               0.435                     0.274                  0.287   \n",
       "\n",
       "          GBOOST_base_evaluation  \n",
       "accuracy                   0.301  "
      ]
     },
     "execution_count": 19,
     "metadata": {},
     "output_type": "execute_result"
    }
   ],
   "source": [
    "np.random.seed(42)\n",
    "basemodels=pd.DataFrame({\n",
    "    \"rf_base_evaluation\":rf_base_evaluation,\n",
    "    \"ADAboost_base_evaluation\":ADAboost_base_evaluation,\n",
    "    \"XGBRF_base_evaluation\":XGBRF_base_evaluation,\n",
    "    \"GBOOST_base_evaluation\":GBOOST_base_evaluation\n",
    "})\n",
    "basemodels"
   ]
  },
  {
   "cell_type": "code",
   "execution_count": 20,
   "metadata": {},
   "outputs": [
    {
     "data": {
      "image/png": "[encoded data removed]",
      "text/plain": [
       "<Figure size 2000x500 with 1 Axes>"
      ]
     },
     "metadata": {},
     "output_type": "display_data"
    }
   ],
   "source": [
    "basemodels.plot(kind=\"bar\",figsize=(20,5));"
   ]
  },
  {
   "cell_type": "markdown",
   "metadata": {},
   "source": [
    "* *DecisionTreeClassifier hyperparameter*"
   ]
  },
  {
   "cell_type": "code",
   "execution_count": 16,
   "metadata": {},
   "outputs": [
    {
     "name": "stdout",
     "output_type": "stream",
     "text": [
      "100%|██████████| 10/10 [00:00<00:00, 31.02trial/s, best loss: -0.17222017847195215]\n",
      "{'criterion': np.int64(0), 'max_depth': np.int64(4), 'max_features': np.int64(1), 'min_samples_leaf': np.float64(0.8460564886814239), 'min_samples_split': np.float64(0.9008580180532874), 'splitter': np.int64(0)}\n"
     ]
    }
   ],
   "source": [
    "space=search_spaces[\"DecisionTreeClassifier\"]\n",
    "def hyperparameter_tuning(space):\n",
    "    clf = DecisionTreeClassifier(**space)\n",
    "    clf.fit(x_train,y_train)\n",
    "    acc = accuracy_score(y_test,clf.predict(x_test))\n",
    "    return {\"loss\": acc, \"status\": STATUS_OK}\n",
    "\n",
    "trials = Trials()\n",
    "best_DecisionTreeClassifier = fmin(\n",
    "    fn=hyperparameter_tuning,\n",
    "    space = space, \n",
    "    algo=tpe.suggest, \n",
    "    max_evals=10, \n",
    "    trials=trials\n",
    ")\n",
    "print(best_DecisionTreeClassifier)   "
   ]
  },
  {
   "cell_type": "markdown",
   "metadata": {},
   "source": [
    "* *AdaBoostClassifier hyperparameter*"
   ]
  },
  {
   "cell_type": "code",
   "execution_count": 21,
   "metadata": {},
   "outputs": [
    {
     "name": "stdout",
     "output_type": "stream",
     "text": [
      "100%|██████████| 10/10 [00:35<00:00,  3.51s/trial, best loss: 0.2634730538922156]\n"
     ]
    }
   ],
   "source": [
    "space=search_spaces[\"AdaBoostClassifier\"]\n",
    "def hyperparameter_tuning(space):\n",
    "    clf = AdaBoostClassifier(**space)\n",
    "    clf.fit(x_train,y_train)\n",
    "    acc = accuracy_score(y_test,clf.predict(x_test))\n",
    "    return {\"loss\": acc, \"status\": STATUS_OK}\n",
    "\n",
    "trials = Trials()\n",
    "best_AdaBoostClassifier = fmin(\n",
    "    fn=hyperparameter_tuning,\n",
    "    space = space, \n",
    "    algo=tpe.suggest, \n",
    "    max_evals=10, \n",
    "    trials=trials\n",
    ")"
   ]
  },
  {
   "cell_type": "markdown",
   "metadata": {},
   "source": [
    "* *GradientBoostingClassifier hyperparameter*"
   ]
  },
  {
   "cell_type": "code",
   "execution_count": 37,
   "metadata": {},
   "outputs": [
    {
     "name": "stdout",
     "output_type": "stream",
     "text": [
      "  0%|          | 0/10 [00:00<?, ?trial/s, best loss=?]"
     ]
    },
    {
     "name": "stdout",
     "output_type": "stream",
     "text": [
      "100%|██████████| 10/10 [00:33<00:00,  3.31s/trial, best loss: 0.1562874251497006]\n"
     ]
    }
   ],
   "source": [
    "space=search_spaces[\"GradientBoostingClassifier\"]\n",
    "def hyperparameter_tuning(space):\n",
    "    clf = GradientBoostingClassifier(**space)\n",
    "    clf.fit(x_train,y_train)\n",
    "    acc = accuracy_score(y_test,clf.predict(x_test))\n",
    "    return {\"loss\": acc, \"status\": STATUS_OK}\n",
    "\n",
    "trials = Trials()\n",
    "best_GradientBoostingClassifier = fmin(\n",
    "    fn=hyperparameter_tuning,\n",
    "    space = space, \n",
    "    algo=tpe.suggest, \n",
    "    max_evals=10, \n",
    "    trials=trials\n",
    ")   "
   ]
  },
  {
   "cell_type": "markdown",
   "metadata": {},
   "source": [
    "* *RandomForestClassifier hyperparameter*"
   ]
  },
  {
   "cell_type": "code",
   "execution_count": 40,
   "metadata": {},
   "outputs": [
    {
     "name": "stdout",
     "output_type": "stream",
     "text": [
      "  0%|          | 0/10 [00:00<?, ?trial/s, best loss=?]"
     ]
    },
    {
     "name": "stdout",
     "output_type": "stream",
     "text": [
      "100%|██████████| 10/10 [00:05<00:00,  1.67trial/s, best loss: 0.1562874251497006]\n"
     ]
    }
   ],
   "source": [
    "space=search_spaces[\"RandomForestClassifier\"]\n",
    "def hyperparameter_tuning(space):\n",
    "    clf = RandomForestClassifier(**space)\n",
    "    clf.fit(x_train,y_train)\n",
    "    acc = accuracy_score(y_test,clf.predict(x_test))\n",
    "    return {\"loss\": acc, \"status\": STATUS_OK}\n",
    "\n",
    "trials = Trials()\n",
    "best_RandomForestClassifier = fmin(\n",
    "    fn=hyperparameter_tuning,\n",
    "    space = space, \n",
    "    algo=tpe.suggest, \n",
    "    max_evals=10, \n",
    "    trials=trials\n",
    ")         "
   ]
  },
  {
   "cell_type": "markdown",
   "metadata": {},
   "source": [
    "* *XGBRFClassifier hyperparameter*"
   ]
  },
  {
   "cell_type": "code",
   "execution_count": 22,
   "metadata": {},
   "outputs": [
    {
     "name": "stdout",
     "output_type": "stream",
     "text": [
      "100%|██████████| 10/10 [00:41<00:00,  4.17s/trial, best loss: 0.24311377245508983]\n"
     ]
    }
   ],
   "source": [
    "space=search_spaces[\"XGBRFClassifier\"]\n",
    "def hyperparameter_tuning(space):\n",
    "    clf = XGBRFClassifier(**space)\n",
    "    clf.fit(x_train,y_train)\n",
    "    acc = accuracy_score(y_test,clf.predict(x_test))\n",
    "    return {\"loss\": acc, \"status\": STATUS_OK}\n",
    "\n",
    "trials = Trials()\n",
    "best_XGBRFClassifier = fmin(\n",
    "    fn=hyperparameter_tuning,\n",
    "    space = space, \n",
    "    algo=tpe.suggest, \n",
    "    max_evals=10, \n",
    "    trials=trials\n",
    ")         "
   ]
  },
  {
   "cell_type": "code",
   "execution_count": 41,
   "metadata": {},
   "outputs": [
    {
     "name": "stdout",
     "output_type": "stream",
     "text": [
      "===========================================best_AdaBoostClassifier===========================================\n",
      "evaluation_preds :\n",
      " {'accuracy': 0.204}\n",
      "===========\n",
      "===========================================GradientBoostingClassifier===========================================\n",
      "evaluation_preds :\n",
      " {'accuracy': 0.156}\n",
      "===========\n",
      "===========================================XGBRFClassifier===========================================\n",
      "evaluation_preds :\n",
      " {'accuracy': 0.33}\n",
      "===========\n",
      "===========================================RandomForestClassifier===========================================\n",
      "evaluation_preds :\n",
      " {'accuracy': 0.16}\n",
      "===========\n"
     ]
    }
   ],
   "source": [
    "print(\"===========================================best_AdaBoostClassifier===========================================\")\n",
    "model = AdaBoostClassifier(**best_AdaBoostClassifier)\n",
    "model.fit(x_train,y_train)\n",
    "predicted=model.predict(x_test)\n",
    "print(\"evaluation_preds :\\n\" , evaluation_preds(y_test,predicted))\n",
    "ADAboost_evaluation_preds=evaluation_preds(y_test,predicted) \n",
    "print(\"===========\")\n",
    "\n",
    "print(\"===========================================GradientBoostingClassifier===========================================\")\n",
    "model = GradientBoostingClassifier(**best_GradientBoostingClassifier)\n",
    "model.fit(x_train,y_train)\n",
    "predicted=model.predict(x_test)\n",
    "print(\"evaluation_preds :\\n\" , evaluation_preds(y_test,predicted))\n",
    "GBOOST_evaluation_preds=evaluation_preds(y_test,predicted)  \n",
    "print(\"===========\")\n",
    "\n",
    "print(\"===========================================XGBRFClassifier===========================================\")\n",
    "model = XGBRFClassifier(**best_XGBRFClassifier)\n",
    "model.fit(x_train,y_train)\n",
    "predicted=model.predict(x_test)\n",
    "print(\"evaluation_preds :\\n\" , evaluation_preds(y_test,predicted))\n",
    "XGBRF_evaluation_preds=evaluation_preds(y_test,predicted)     \n",
    "print(\"===========\")\n",
    "\n",
    "print(\"===========================================RandomForestClassifier===========================================\")\n",
    "model = RandomForestClassifier(**best_RandomForestClassifier)\n",
    "model.fit(x_train,y_train)\n",
    "predicted=model.predict(x_test)\n",
    "print(\"evaluation_preds :\\n\" , evaluation_preds(y_test,predicted))\n",
    "RF_evaluation_preds=evaluation_preds(y_test,predicted)\n",
    "print(\"===========\")"
   ]
  },
  {
   "cell_type": "code",
   "execution_count": 42,
   "metadata": {},
   "outputs": [],
   "source": [
    "import json\n",
    "# Serializing json\n",
    "json_object = json.dumps({\n",
    "    \"best_AdaBoostClassifier\" : best_AdaBoostClassifier,\n",
    "    \"best_GradientBoostingClassifier\" :best_GradientBoostingClassifier,\n",
    "    \"best_RandomForestClassifier\" :best_RandomForestClassifier,\n",
    "    \"best_XGBRFClassifier\" :best_XGBRFClassifier}, indent=4,default=str)\n",
    " \n",
    "# Writing to sample.json\n",
    "with open(\"C:/Users/Omar/Desktop/Omar_Files/Python_Analysis/Auto_Insurance/outcomes/bestParams/agecat_classification_all_best_params.json\", \"w\") as f:\n",
    "    f.write(json_object)"
   ]
  },
  {
   "cell_type": "code",
   "execution_count": 43,
   "metadata": {},
   "outputs": [],
   "source": [
    "import json\n",
    "# Serializing json\n",
    "json_object = json.dumps({\"ADAboost_evaluation_preds\" : ADAboost_evaluation_preds,\n",
    "    \"GBOOST_evaluation_preds\" :GBOOST_evaluation_preds,\n",
    "    \"XGBRF_evaluation_preds\" :XGBRF_evaluation_preds,\n",
    "    \"RF_evaluation_preds\" :RF_evaluation_preds,\n",
    "    \"rf_base_evaluation\":rf_base_evaluation,\n",
    "    \"ADAboost_base_evaluation\":ADAboost_base_evaluation,\n",
    "    \"XGBRF_base_evaluation\":XGBRF_base_evaluation,\n",
    "    \"GBOOST_base_evaluation\":GBOOST_base_evaluation}, indent=4)\n",
    " \n",
    "# Writing to sample.json\n",
    "with open(\"C:/Users/Omar/Desktop/Omar_Files/Python_Analysis/Auto_Insurance/outcomes/modelsEvaluations/agecat_classification_all_evaluations.json\", \"w\") as f:\n",
    "    f.write(json_object)"
   ]
  },
  {
   "cell_type": "code",
   "execution_count": 44,
   "metadata": {},
   "outputs": [
    {
     "data": {
      "text/html": [
       "<div>\n",
       "<style scoped>\n",
       "    .dataframe tbody tr th:only-of-type {\n",
       "        vertical-align: middle;\n",
       "    }\n",
       "\n",
       "    .dataframe tbody tr th {\n",
       "        vertical-align: top;\n",
       "    }\n",
       "\n",
       "    .dataframe thead th {\n",
       "        text-align: right;\n",
       "    }\n",
       "</style>\n",
       "<table border=\"1\" class=\"dataframe\">\n",
       "  <thead>\n",
       "    <tr style=\"text-align: right;\">\n",
       "      <th></th>\n",
       "      <th>ADAboost_evaluation_preds</th>\n",
       "      <th>GBOOST_evaluation_preds</th>\n",
       "      <th>XGBRF_evaluation_preds</th>\n",
       "      <th>RF_evaluation_preds</th>\n",
       "      <th>rf_base_evaluation</th>\n",
       "      <th>ADAboost_base_evaluation</th>\n",
       "      <th>XGBRF_base_evaluation</th>\n",
       "      <th>GBOOST_base_evaluation</th>\n",
       "    </tr>\n",
       "  </thead>\n",
       "  <tbody>\n",
       "    <tr>\n",
       "      <th>accuracy</th>\n",
       "      <td>0.204</td>\n",
       "      <td>0.156</td>\n",
       "      <td>0.33</td>\n",
       "      <td>0.16</td>\n",
       "      <td>0.435</td>\n",
       "      <td>0.274</td>\n",
       "      <td>0.287</td>\n",
       "      <td>0.301</td>\n",
       "    </tr>\n",
       "  </tbody>\n",
       "</table>\n",
       "</div>"
      ],
      "text/plain": [
       "          ADAboost_evaluation_preds  GBOOST_evaluation_preds  \\\n",
       "accuracy                      0.204                    0.156   \n",
       "\n",
       "          XGBRF_evaluation_preds  RF_evaluation_preds  rf_base_evaluation  \\\n",
       "accuracy                    0.33                 0.16               0.435   \n",
       "\n",
       "          ADAboost_base_evaluation  XGBRF_base_evaluation  \\\n",
       "accuracy                     0.274                  0.287   \n",
       "\n",
       "          GBOOST_base_evaluation  \n",
       "accuracy                   0.301  "
      ]
     },
     "execution_count": 44,
     "metadata": {},
     "output_type": "execute_result"
    }
   ],
   "source": [
    "comparison=pd.DataFrame({\n",
    "    \"ADAboost_evaluation_preds\" : ADAboost_evaluation_preds,\n",
    "    \"GBOOST_evaluation_preds\" :GBOOST_evaluation_preds,\n",
    "    \"XGBRF_evaluation_preds\" :XGBRF_evaluation_preds,\n",
    "    \"RF_evaluation_preds\" :RF_evaluation_preds,\n",
    "    \"rf_base_evaluation\":rf_base_evaluation,\n",
    "    \"ADAboost_base_evaluation\":ADAboost_base_evaluation,\n",
    "    \"XGBRF_base_evaluation\":XGBRF_base_evaluation,\n",
    "    \"GBOOST_base_evaluation\":GBOOST_base_evaluation\n",
    "})\n",
    "comparison\n"
   ]
  },
  {
   "cell_type": "code",
   "execution_count": 45,
   "metadata": {},
   "outputs": [
    {
     "data": {
      "image/png": "[encoded data removed]",
      "text/plain": [
       "<Figure size 2000x500 with 1 Axes>"
      ]
     },
     "metadata": {},
     "output_type": "display_data"
    }
   ],
   "source": [
    "comparison.plot(kind=\"bar\",figsize=(20,5))\n",
    "plt.savefig('C:/Users/Omar/Desktop/Omar_Files/Python_Analysis/Auto_Insurance/outcomes/modelsEvaluationsGraphs/area_EvaluationsGraph.png',dpi=500); \n"
   ]
  },
  {
   "cell_type": "code",
   "execution_count": null,
   "metadata": {},
   "outputs": [],
   "source": []
  },
  {
   "cell_type": "code",
   "execution_count": null,
   "metadata": {},
   "outputs": [],
   "source": []
  },
  {
   "cell_type": "markdown",
   "metadata": {},
   "source": [
    "### *Final Result*"
   ]
  },
  {
   "cell_type": "code",
   "execution_count": 46,
   "metadata": {},
   "outputs": [
    {
     "name": "stdout",
     "output_type": "stream",
     "text": [
      "              precision    recall  f1-score   support\n",
      "\n",
      "           0       0.52      0.63      0.57       261\n",
      "           1       0.33      0.32      0.32       280\n",
      "           2       0.29      0.27      0.28       268\n",
      "           3       0.27      0.21      0.23       299\n",
      "           4       0.51      0.50      0.51       270\n",
      "           5       0.60      0.69      0.65       292\n",
      "\n",
      "    accuracy                           0.43      1670\n",
      "   macro avg       0.42      0.44      0.43      1670\n",
      "weighted avg       0.42      0.43      0.42      1670\n",
      "\n"
     ]
    }
   ],
   "source": [
    "np.random.seed(42)\n",
    "clf=RandomForestClassifier()\n",
    "clf.fit(x_train,y_train)\n",
    "predicted=clf.predict(x_test)\n",
    "print(classification_report(y_test,predicted))\n"
   ]
  },
  {
   "cell_type": "code",
   "execution_count": 47,
   "metadata": {},
   "outputs": [
    {
     "data": {
      "image/png": "[encoded data removed]",
      "text/plain": [
       "<Figure size 1700x500 with 2 Axes>"
      ]
     },
     "metadata": {},
     "output_type": "display_data"
    }
   ],
   "source": [
    "fig=plt.figure(figsize=(17,5))\n",
    "sns.heatmap(confusion_matrix(y_test,predicted),annot = True, fmt = \".0f\",cmap=\"Blues\")\n",
    "plt.savefig('C:/Users/Omar/Desktop/Omar_Files/Python_Analysis/Auto_Insurance/outcomes/confusionMatrixGraphs/agecat_confusion_matrixPlot.png',dpi=500); "
   ]
  },
  {
   "cell_type": "code",
   "execution_count": 48,
   "metadata": {},
   "outputs": [
    {
     "data": {
      "text/html": [
       "<div>\n",
       "<style scoped>\n",
       "    .dataframe tbody tr th:only-of-type {\n",
       "        vertical-align: middle;\n",
       "    }\n",
       "\n",
       "    .dataframe tbody tr th {\n",
       "        vertical-align: top;\n",
       "    }\n",
       "\n",
       "    .dataframe thead th {\n",
       "        text-align: right;\n",
       "    }\n",
       "</style>\n",
       "<table border=\"1\" class=\"dataframe\">\n",
       "  <thead>\n",
       "    <tr style=\"text-align: right;\">\n",
       "      <th>predicted</th>\n",
       "      <th>0</th>\n",
       "      <th>1</th>\n",
       "      <th>2</th>\n",
       "      <th>3</th>\n",
       "      <th>4</th>\n",
       "      <th>5</th>\n",
       "    </tr>\n",
       "    <tr>\n",
       "      <th>Actual</th>\n",
       "      <th></th>\n",
       "      <th></th>\n",
       "      <th></th>\n",
       "      <th></th>\n",
       "      <th></th>\n",
       "      <th></th>\n",
       "    </tr>\n",
       "  </thead>\n",
       "  <tbody>\n",
       "    <tr>\n",
       "      <th>0</th>\n",
       "      <td>165</td>\n",
       "      <td>23</td>\n",
       "      <td>23</td>\n",
       "      <td>22</td>\n",
       "      <td>10</td>\n",
       "      <td>18</td>\n",
       "    </tr>\n",
       "    <tr>\n",
       "      <th>1</th>\n",
       "      <td>30</td>\n",
       "      <td>89</td>\n",
       "      <td>52</td>\n",
       "      <td>51</td>\n",
       "      <td>26</td>\n",
       "      <td>32</td>\n",
       "    </tr>\n",
       "    <tr>\n",
       "      <th>2</th>\n",
       "      <td>34</td>\n",
       "      <td>61</td>\n",
       "      <td>72</td>\n",
       "      <td>48</td>\n",
       "      <td>31</td>\n",
       "      <td>22</td>\n",
       "    </tr>\n",
       "    <tr>\n",
       "      <th>3</th>\n",
       "      <td>43</td>\n",
       "      <td>62</td>\n",
       "      <td>52</td>\n",
       "      <td>62</td>\n",
       "      <td>48</td>\n",
       "      <td>32</td>\n",
       "    </tr>\n",
       "    <tr>\n",
       "      <th>4</th>\n",
       "      <td>18</td>\n",
       "      <td>23</td>\n",
       "      <td>35</td>\n",
       "      <td>30</td>\n",
       "      <td>136</td>\n",
       "      <td>28</td>\n",
       "    </tr>\n",
       "    <tr>\n",
       "      <th>5</th>\n",
       "      <td>30</td>\n",
       "      <td>13</td>\n",
       "      <td>16</td>\n",
       "      <td>17</td>\n",
       "      <td>14</td>\n",
       "      <td>202</td>\n",
       "    </tr>\n",
       "  </tbody>\n",
       "</table>\n",
       "</div>"
      ],
      "text/plain": [
       "predicted    0   1   2   3    4    5\n",
       "Actual                              \n",
       "0          165  23  23  22   10   18\n",
       "1           30  89  52  51   26   32\n",
       "2           34  61  72  48   31   22\n",
       "3           43  62  52  62   48   32\n",
       "4           18  23  35  30  136   28\n",
       "5           30  13  16  17   14  202"
      ]
     },
     "execution_count": 48,
     "metadata": {},
     "output_type": "execute_result"
    }
   ],
   "source": [
    "pd.crosstab(y_test,predicted,rownames=[\"Actual\"],colnames=[\"predicted\"])"
   ]
  },
  {
   "cell_type": "code",
   "execution_count": 49,
   "metadata": {},
   "outputs": [
    {
     "data": {
      "text/html": [
       "<div>\n",
       "<style scoped>\n",
       "    .dataframe tbody tr th:only-of-type {\n",
       "        vertical-align: middle;\n",
       "    }\n",
       "\n",
       "    .dataframe tbody tr th {\n",
       "        vertical-align: top;\n",
       "    }\n",
       "\n",
       "    .dataframe thead th {\n",
       "        text-align: right;\n",
       "    }\n",
       "</style>\n",
       "<table border=\"1\" class=\"dataframe\">\n",
       "  <thead>\n",
       "    <tr style=\"text-align: right;\">\n",
       "      <th></th>\n",
       "      <th>feature_names</th>\n",
       "      <th>feature_importances</th>\n",
       "    </tr>\n",
       "  </thead>\n",
       "  <tbody>\n",
       "    <tr>\n",
       "      <th>0</th>\n",
       "      <td>veh_value</td>\n",
       "      <td>0.234974</td>\n",
       "    </tr>\n",
       "    <tr>\n",
       "      <th>1</th>\n",
       "      <td>exposure</td>\n",
       "      <td>0.240160</td>\n",
       "    </tr>\n",
       "    <tr>\n",
       "      <th>2</th>\n",
       "      <td>claimcst0</td>\n",
       "      <td>0.213339</td>\n",
       "    </tr>\n",
       "    <tr>\n",
       "      <th>3</th>\n",
       "      <td>veh_body</td>\n",
       "      <td>0.082321</td>\n",
       "    </tr>\n",
       "    <tr>\n",
       "      <th>4</th>\n",
       "      <td>veh_age</td>\n",
       "      <td>0.075539</td>\n",
       "    </tr>\n",
       "    <tr>\n",
       "      <th>5</th>\n",
       "      <td>gender</td>\n",
       "      <td>0.035281</td>\n",
       "    </tr>\n",
       "    <tr>\n",
       "      <th>6</th>\n",
       "      <td>area</td>\n",
       "      <td>0.118386</td>\n",
       "    </tr>\n",
       "  </tbody>\n",
       "</table>\n",
       "</div>"
      ],
      "text/plain": [
       "  feature_names  feature_importances\n",
       "0     veh_value             0.234974\n",
       "1      exposure             0.240160\n",
       "2     claimcst0             0.213339\n",
       "3      veh_body             0.082321\n",
       "4       veh_age             0.075539\n",
       "5        gender             0.035281\n",
       "6          area             0.118386"
      ]
     },
     "execution_count": 49,
     "metadata": {},
     "output_type": "execute_result"
    }
   ],
   "source": [
    "clf.feature_names_in=x.columns\n",
    "importance=pd.concat([pd.DataFrame(clf.feature_names_in,columns=[\"feature_names\"]),\n",
    "           pd.DataFrame(clf.feature_importances_,columns=[\"feature_importances\"])],axis=1)\n",
    "importance"
   ]
  },
  {
   "cell_type": "code",
   "execution_count": 50,
   "metadata": {},
   "outputs": [
    {
     "data": {
      "image/png": "[encoded data removed]",
      "text/plain": [
       "<Figure size 2000x700 with 1 Axes>"
      ]
     },
     "metadata": {},
     "output_type": "display_data"
    }
   ],
   "source": [
    "matplotlib.rcParams[\"figure.figsize\"]=(20,7)\n",
    "ax=sns.barplot(x=np.round(importance[\"feature_importances\"],3),y=importance[\"feature_names\"])\n",
    "plt.title('Features importance for age category feature')\n",
    "ax.bar_label(ax.containers[0]);\n",
    "plt.savefig('C:/Users/Omar/Desktop/Omar_Files/Python_Analysis/Auto_Insurance/outcomes/featuresImportanceGraphs/agecat_featureImportanc.png',dpi=500);"
   ]
  },
  {
   "cell_type": "code",
   "execution_count": 51,
   "metadata": {},
   "outputs": [],
   "source": [
    "import pickle\n",
    "with open (\"C:/Users/Omar/Desktop/Omar_Files/Python_Analysis/Auto_Insurance/outcomes/bestModels/agecat_prediction_model.pkl\",\"wb\") as f:\n",
    "    pickle.dump(clf,f)"
   ]
  },
  {
   "cell_type": "code",
   "execution_count": null,
   "metadata": {},
   "outputs": [],
   "source": []
  }
 ],
 "metadata": {
  "kernelspec": {
   "display_name": "Python 3",
   "language": "python",
   "name": "python3"
  },
  "language_info": {
   "codemirror_mode": {
    "name": "ipython",
    "version": 3
   },
   "file_extension": ".py",
   "mimetype": "text/x-python",
   "name": "python",
   "nbconvert_exporter": "python",
   "pygments_lexer": "ipython3",
   "version": "3.10.8"
  }
 },
 "nbformat": 4,
 "nbformat_minor": 2
}
