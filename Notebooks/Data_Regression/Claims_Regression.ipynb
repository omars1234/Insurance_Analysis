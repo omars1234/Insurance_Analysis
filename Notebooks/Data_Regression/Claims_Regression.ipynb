{
 "cells": [
  {
   "cell_type": "markdown",
   "metadata": {},
   "source": [
    "## <u>*Regression Modelling for Severity as a Target Feature*</u>"
   ]
  },
  {
   "cell_type": "code",
   "execution_count": 1,
   "metadata": {},
   "outputs": [],
   "source": [
    "import pandas as pd\n",
    "import numpy as np\n",
    "from matplotlib import pyplot as plt\n",
    "%matplotlib inline\n",
    "import matplotlib\n",
    "matplotlib.rcParams[\"figure.figsize\"]=(20,10)\n",
    "import seaborn as sns;sns.set()\n",
    "import warnings\n",
    "warnings.filterwarnings('ignore')\n",
    "from sklearn.metrics import mean_squared_error,mean_absolute_percentage_error,r2_score,mean_absolute_error,accuracy_score,root_mean_squared_error\n",
    "from sklearn.ensemble import RandomForestRegressor,GradientBoostingRegressor,AdaBoostRegressor,BaggingRegressor\n",
    "from sklearn.tree import DecisionTreeRegressor\n",
    "import xgboost as xgb\n",
    "from xgboost import XGBRFRegressor\n",
    "from sklearn.linear_model import LinearRegression\n",
    "from sklearn.model_selection import train_test_split, GridSearchCV,RandomizedSearchCV,cross_val_score,KFold\n",
    "from sklearn.preprocessing import LabelEncoder,StandardScaler\n",
    "from tqdm import tqdm"
   ]
  },
  {
   "cell_type": "code",
   "execution_count": 29,
   "metadata": {
    "slideshow": {
     "slide_type": "fragment"
    }
   },
   "outputs": [],
   "source": [
    "df=pd.read_csv(r\"C:/Users/Omar/Desktop/Omar_Files/Python_Analysis/Auto_Insurance/Data_Sets/data_car.csv\")"
   ]
  },
  {
   "cell_type": "code",
   "execution_count": 31,
   "metadata": {},
   "outputs": [],
   "source": [
    "df.drop([\"clm\",\"X_OBSTAT_\"],axis=1,inplace=True)"
   ]
  },
  {
   "cell_type": "markdown",
   "metadata": {},
   "source": [
    "---"
   ]
  },
  {
   "cell_type": "markdown",
   "metadata": {},
   "source": [
    "*Date preprocessing*"
   ]
  },
  {
   "cell_type": "code",
   "execution_count": 32,
   "metadata": {},
   "outputs": [],
   "source": [
    "categories_encoder=LabelEncoder()\n",
    "for col in df:\n",
    "    if col in list(df.select_dtypes(include=\"object\").columns):\n",
    "        df[col]=categories_encoder.fit_transform(df[col])"
   ]
  },
  {
   "cell_type": "code",
   "execution_count": 33,
   "metadata": {},
   "outputs": [
    {
     "data": {
      "text/html": [
       "<div>\n",
       "<style scoped>\n",
       "    .dataframe tbody tr th:only-of-type {\n",
       "        vertical-align: middle;\n",
       "    }\n",
       "\n",
       "    .dataframe tbody tr th {\n",
       "        vertical-align: top;\n",
       "    }\n",
       "\n",
       "    .dataframe thead th {\n",
       "        text-align: right;\n",
       "    }\n",
       "</style>\n",
       "<table border=\"1\" class=\"dataframe\">\n",
       "  <thead>\n",
       "    <tr style=\"text-align: right;\">\n",
       "      <th></th>\n",
       "      <th>veh_value</th>\n",
       "      <th>exposure</th>\n",
       "      <th>numclaims</th>\n",
       "      <th>claimcst0</th>\n",
       "      <th>veh_body</th>\n",
       "      <th>veh_age</th>\n",
       "      <th>gender</th>\n",
       "      <th>area</th>\n",
       "      <th>agecat</th>\n",
       "    </tr>\n",
       "  </thead>\n",
       "  <tbody>\n",
       "    <tr>\n",
       "      <th>14</th>\n",
       "      <td>1.66</td>\n",
       "      <td>0.484600</td>\n",
       "      <td>1</td>\n",
       "      <td>669.509999</td>\n",
       "      <td>9</td>\n",
       "      <td>3</td>\n",
       "      <td>1</td>\n",
       "      <td>1</td>\n",
       "      <td>6</td>\n",
       "    </tr>\n",
       "    <tr>\n",
       "      <th>16</th>\n",
       "      <td>1.51</td>\n",
       "      <td>0.993840</td>\n",
       "      <td>1</td>\n",
       "      <td>806.609999</td>\n",
       "      <td>9</td>\n",
       "      <td>3</td>\n",
       "      <td>0</td>\n",
       "      <td>5</td>\n",
       "      <td>4</td>\n",
       "    </tr>\n",
       "    <tr>\n",
       "      <th>17</th>\n",
       "      <td>0.76</td>\n",
       "      <td>0.539357</td>\n",
       "      <td>1</td>\n",
       "      <td>401.805451</td>\n",
       "      <td>3</td>\n",
       "      <td>3</td>\n",
       "      <td>1</td>\n",
       "      <td>2</td>\n",
       "      <td>4</td>\n",
       "    </tr>\n",
       "    <tr>\n",
       "      <th>40</th>\n",
       "      <td>1.89</td>\n",
       "      <td>0.654346</td>\n",
       "      <td>2</td>\n",
       "      <td>1811.709997</td>\n",
       "      <td>10</td>\n",
       "      <td>3</td>\n",
       "      <td>1</td>\n",
       "      <td>5</td>\n",
       "      <td>2</td>\n",
       "    </tr>\n",
       "    <tr>\n",
       "      <th>64</th>\n",
       "      <td>4.06</td>\n",
       "      <td>0.851472</td>\n",
       "      <td>1</td>\n",
       "      <td>5434.439987</td>\n",
       "      <td>10</td>\n",
       "      <td>2</td>\n",
       "      <td>1</td>\n",
       "      <td>5</td>\n",
       "      <td>3</td>\n",
       "    </tr>\n",
       "  </tbody>\n",
       "</table>\n",
       "</div>"
      ],
      "text/plain": [
       "    veh_value  exposure  numclaims    claimcst0  veh_body  veh_age  gender  \\\n",
       "14       1.66  0.484600          1   669.509999         9        3       1   \n",
       "16       1.51  0.993840          1   806.609999         9        3       0   \n",
       "17       0.76  0.539357          1   401.805451         3        3       1   \n",
       "40       1.89  0.654346          2  1811.709997        10        3       1   \n",
       "64       4.06  0.851472          1  5434.439987        10        2       1   \n",
       "\n",
       "    area  agecat  \n",
       "14     1       6  \n",
       "16     5       4  \n",
       "17     2       4  \n",
       "40     5       2  \n",
       "64     5       3  "
      ]
     },
     "execution_count": 33,
     "metadata": {},
     "output_type": "execute_result"
    }
   ],
   "source": [
    "df=df[df[\"claimcst0\"]>0]\n",
    "df.head()"
   ]
  },
  {
   "cell_type": "markdown",
   "metadata": {},
   "source": [
    "*Define x and y*"
   ]
  },
  {
   "cell_type": "code",
   "execution_count": 34,
   "metadata": {},
   "outputs": [],
   "source": [
    "x=df.drop([\"claimcst0\"],axis=1)\n",
    "y=df[\"claimcst0\"]"
   ]
  },
  {
   "cell_type": "markdown",
   "metadata": {},
   "source": [
    "*Splitting data into training and testing subsets*"
   ]
  },
  {
   "cell_type": "code",
   "execution_count": 35,
   "metadata": {},
   "outputs": [
    {
     "name": "stdout",
     "output_type": "stream",
     "text": [
      "Train data shape of X = (3699, 8) and Y = (3699,) : \n",
      "Test data shape of X = (925, 8) and Y = (925,) : \n"
     ]
    }
   ],
   "source": [
    "x_train, x_test, y_train, y_test = train_test_split(x,y ,test_size= 0.20)\n",
    "\n",
    "print(\"Train data shape of X = % s and Y = % s : \"%(\n",
    "\tx_train.shape, y_train.shape))\n",
    "\n",
    "print(\"Test data shape of X = % s and Y = % s : \"%(\n",
    "\tx_test.shape, y_test.shape))"
   ]
  },
  {
   "cell_type": "markdown",
   "metadata": {},
   "source": [
    "*Data Scalling*"
   ]
  },
  {
   "cell_type": "code",
   "execution_count": 36,
   "metadata": {},
   "outputs": [],
   "source": [
    "sc=StandardScaler()\n",
    "x_train=sc.fit_transform(x_train)\n",
    "x_test=sc.transform(x_test)"
   ]
  },
  {
   "cell_type": "code",
   "execution_count": 37,
   "metadata": {},
   "outputs": [],
   "source": [
    "models = {\n",
    "                \"RandomForestRegressor\": RandomForestRegressor(),\n",
    "                \"DecisionTreeRegressor\": DecisionTreeRegressor(),\n",
    "                \"XGBRFRegressor\": XGBRFRegressor(),\n",
    "                \"GradientBoostingRegressor\":GradientBoostingRegressor(),\n",
    "                \"AdaBoostRegressor\": AdaBoostRegressor()\n",
    "                \n",
    "                \n",
    "            }\n",
    "\n",
    "params={        \n",
    "                \"RandomForestRegressor\":{\n",
    "                    \"n_estimators\":[90,100,110], \n",
    "                    \"min_samples_split\":[2,4,6],\n",
    "                    \"min_samples_leaf\":[0.8,1],\n",
    "                    \"bootstrap\":[True, False],                                                                                                    \n",
    "                    \"max_features\":[\"sqrt\",\"log2\",\"auto\"],                                     \n",
    "                    \"max_depth\":[2,3,4],\n",
    "                    \"criterion\":['poisson', 'squared_error','friedman_mse','absolute_error']\n",
    "                    },\n",
    "\n",
    "                \"DecisionTreeRegressor\": {\n",
    "                    'criterion':['poisson', 'squared_error','friedman_mse','absolute_error'],\n",
    "                    'splitter': ['best', 'random'],\n",
    "                    \"max_depth\":[2,3,4], \n",
    "                    \"min_samples_split\":[2,4,6],\n",
    "                    \"min_samples_leaf\":[0.5,0.8],\n",
    "                    #'max_features': [1,2,3,4],\n",
    "                },\n",
    "                \n",
    "                \"XGBRFRegressor\":{\n",
    "                    'learning_rate': [0.001,0.1,1],\n",
    "                    'n_estimators': [90, 100, 110], \n",
    "                    \"booster\":[\"gbtree\"],\n",
    "                    'colsample_bytree': [0.5,0.8], \n",
    "                    'colsample_bynode': [0.5,0.8],\n",
    "                    'random_state':[42]\n",
    "                },\n",
    "\n",
    "                \n",
    "                \"GradientBoostingRegressor\":{\n",
    "                    #'loss':['squared_error', 'huber', 'absolute_error', 'quantile'],\n",
    "                    'learning_rate': [0.01,0.1,1],\n",
    "                    'n_estimators': [90, 100, 110],\n",
    "                    'subsample': [0.8,1],\n",
    "                    #'criterion':['squared_error', 'friedman_mse'],\n",
    "                    'min_samples_split': [2, 4, 6],\n",
    "                    'min_samples_leaf': [0.8, 1],\n",
    "                    'max_depth':[2,3,4],\n",
    "                    #'max_features': ['sqrt', 'log2', 'auto']\n",
    "                },\n",
    "                \"AdaBoostRegressor\":{\n",
    "                    'n_estimators': [45,50,55],\n",
    "                    'learning_rate': [0.0001,0.001,0.01],\n",
    "                    'loss':['linear','square','exponential'],\n",
    "                    #'random_state':[42]\n",
    "                    \n",
    "                }\n",
    "                \n",
    "            }"
   ]
  },
  {
   "cell_type": "code",
   "execution_count": 38,
   "metadata": {},
   "outputs": [],
   "source": [
    "def evaluate_models(x_train,y_train,x_test,y_test,models,params):            \n",
    "                report = {}\n",
    "                #report2={}\n",
    "                for i in tqdm(range(len(list(models)))):\n",
    "                    model=list(models.values())[i]\n",
    "                    para=params[list(models.keys())[i]]\n",
    "\n",
    "                    RandomSearchCV=RandomizedSearchCV(model,param_distributions= para,cv=3)\n",
    "                    RandomSearchCV.fit(x_train,y_train)\n",
    "\n",
    "                    model.set_params(**RandomSearchCV.best_params_)\n",
    "                    model.fit(x_train,y_train)\n",
    "\n",
    "                    y_train_prediction=model.predict(x_train)\n",
    "                    y_test_prediction=model.predict(x_test)\n",
    "\n",
    "                    model_train_root_mean_squared_error=root_mean_squared_error(y_train,y_train_prediction)\n",
    "                    model_test_root_mean_squared_error=root_mean_squared_error(y_test,y_test_prediction)\n",
    "\n",
    "                    model_train_r2_score=r2_score(y_train,y_train_prediction)\n",
    "                    model_test_r2_score=r2_score(y_test,y_test_prediction)\n",
    "\n",
    "                    #report[list(models.keys())[i]] = model_train_mean_absolute_percentage_error\n",
    "                    report[list(models.keys())[i]] = (model_train_root_mean_squared_error,model_test_root_mean_squared_error,model_train_r2_score,model_test_r2_score,\n",
    "                                                      RandomSearchCV.best_params_)\n",
    "\n",
    "\n",
    "                return report"
   ]
  },
  {
   "cell_type": "code",
   "execution_count": 39,
   "metadata": {},
   "outputs": [
    {
     "name": "stderr",
     "output_type": "stream",
     "text": [
      "100%|██████████| 5/5 [00:23<00:00,  4.74s/it]\n"
     ]
    }
   ],
   "source": [
    "model_report:dict=evaluate_models(x_train, y_train, x_test, y_test,models=models,params=params)"
   ]
  },
  {
   "cell_type": "code",
   "execution_count": 40,
   "metadata": {},
   "outputs": [],
   "source": [
    "model_report_df=pd.DataFrame(model_report).iloc[:-1] \n",
    "model_report_df[\"metrices\"]=[\"model_train_mean_absolute_percentage_error\",\"model_test_mean_absolute_percentage_error\",\"model_train_r2_score\",\"model_test_r2_score\"]"
   ]
  },
  {
   "cell_type": "code",
   "execution_count": 41,
   "metadata": {},
   "outputs": [
    {
     "data": {
      "text/html": [
       "<div>\n",
       "<style scoped>\n",
       "    .dataframe tbody tr th:only-of-type {\n",
       "        vertical-align: middle;\n",
       "    }\n",
       "\n",
       "    .dataframe tbody tr th {\n",
       "        vertical-align: top;\n",
       "    }\n",
       "\n",
       "    .dataframe thead th {\n",
       "        text-align: right;\n",
       "    }\n",
       "</style>\n",
       "<table border=\"1\" class=\"dataframe\">\n",
       "  <thead>\n",
       "    <tr style=\"text-align: right;\">\n",
       "      <th></th>\n",
       "      <th>RandomForestRegressor</th>\n",
       "      <th>DecisionTreeRegressor</th>\n",
       "      <th>XGBRFRegressor</th>\n",
       "      <th>GradientBoostingRegressor</th>\n",
       "      <th>AdaBoostRegressor</th>\n",
       "      <th>metrices</th>\n",
       "    </tr>\n",
       "  </thead>\n",
       "  <tbody>\n",
       "    <tr>\n",
       "      <th>0</th>\n",
       "      <td>3607.941815</td>\n",
       "      <td>3607.941815</td>\n",
       "      <td>3322.566547</td>\n",
       "      <td>3520.383652</td>\n",
       "      <td>3405.497056</td>\n",
       "      <td>model_train_mean_absolute_percentage_error</td>\n",
       "    </tr>\n",
       "    <tr>\n",
       "      <th>1</th>\n",
       "      <td>3301.136379</td>\n",
       "      <td>3301.136379</td>\n",
       "      <td>3230.75513</td>\n",
       "      <td>3253.056718</td>\n",
       "      <td>3150.745894</td>\n",
       "      <td>model_test_mean_absolute_percentage_error</td>\n",
       "    </tr>\n",
       "    <tr>\n",
       "      <th>2</th>\n",
       "      <td>0.0</td>\n",
       "      <td>0.0</td>\n",
       "      <td>0.151937</td>\n",
       "      <td>0.047947</td>\n",
       "      <td>0.109073</td>\n",
       "      <td>model_train_r2_score</td>\n",
       "    </tr>\n",
       "    <tr>\n",
       "      <th>3</th>\n",
       "      <td>-0.002736</td>\n",
       "      <td>-0.002736</td>\n",
       "      <td>0.039565</td>\n",
       "      <td>0.02626</td>\n",
       "      <td>0.086546</td>\n",
       "      <td>model_test_r2_score</td>\n",
       "    </tr>\n",
       "  </tbody>\n",
       "</table>\n",
       "</div>"
      ],
      "text/plain": [
       "  RandomForestRegressor DecisionTreeRegressor XGBRFRegressor  \\\n",
       "0           3607.941815           3607.941815    3322.566547   \n",
       "1           3301.136379           3301.136379     3230.75513   \n",
       "2                   0.0                   0.0       0.151937   \n",
       "3             -0.002736             -0.002736       0.039565   \n",
       "\n",
       "  GradientBoostingRegressor AdaBoostRegressor  \\\n",
       "0               3520.383652       3405.497056   \n",
       "1               3253.056718       3150.745894   \n",
       "2                  0.047947          0.109073   \n",
       "3                   0.02626          0.086546   \n",
       "\n",
       "                                     metrices  \n",
       "0  model_train_mean_absolute_percentage_error  \n",
       "1   model_test_mean_absolute_percentage_error  \n",
       "2                        model_train_r2_score  \n",
       "3                         model_test_r2_score  "
      ]
     },
     "execution_count": 41,
     "metadata": {},
     "output_type": "execute_result"
    }
   ],
   "source": [
    "model_report_df"
   ]
  },
  {
   "cell_type": "code",
   "execution_count": 42,
   "metadata": {},
   "outputs": [
    {
     "data": {
      "text/plain": [
       "[{'random_state': 42,\n",
       "  'n_estimators': 110,\n",
       "  'learning_rate': 1,\n",
       "  'colsample_bytree': 0.5,\n",
       "  'colsample_bynode': 0.5,\n",
       "  'booster': 'gbtree'}]"
      ]
     },
     "execution_count": 42,
     "metadata": {},
     "output_type": "execute_result"
    }
   ],
   "source": [
    "XGBRFRegressor_best_paramerts=[k[4] for i,k in model_report.items() if i==\"XGBRFRegressor\"]\n",
    "XGBRFRegressor_best_paramerts"
   ]
  },
  {
   "cell_type": "code",
   "execution_count": 43,
   "metadata": {},
   "outputs": [],
   "source": [
    "model=XGBRFRegressor(subsample=0.8,\n",
    "                     random_state=42,\n",
    "                     n_estimators=110,\n",
    "                     colsample_bytree=.5,\n",
    "                     colsample_bynode=.5,\n",
    "                     booster=\"gbtree\",\n",
    "                     learning_rate=1\n",
    "   ).fit(x_train,y_train)"
   ]
  },
  {
   "cell_type": "code",
   "execution_count": 44,
   "metadata": {},
   "outputs": [],
   "source": [
    "predicted=model.predict(x_test)"
   ]
  },
  {
   "cell_type": "code",
   "execution_count": 49,
   "metadata": {},
   "outputs": [
    {
     "data": {
      "text/html": [
       "<div>\n",
       "<style scoped>\n",
       "    .dataframe tbody tr th:only-of-type {\n",
       "        vertical-align: middle;\n",
       "    }\n",
       "\n",
       "    .dataframe tbody tr th {\n",
       "        vertical-align: top;\n",
       "    }\n",
       "\n",
       "    .dataframe thead th {\n",
       "        text-align: right;\n",
       "    }\n",
       "</style>\n",
       "<table border=\"1\" class=\"dataframe\">\n",
       "  <thead>\n",
       "    <tr style=\"text-align: right;\">\n",
       "      <th></th>\n",
       "      <th>feature_names</th>\n",
       "      <th>feature_importances</th>\n",
       "    </tr>\n",
       "  </thead>\n",
       "  <tbody>\n",
       "    <tr>\n",
       "      <th>0</th>\n",
       "      <td>veh_value</td>\n",
       "      <td>0.168528</td>\n",
       "    </tr>\n",
       "    <tr>\n",
       "      <th>1</th>\n",
       "      <td>exposure</td>\n",
       "      <td>0.278121</td>\n",
       "    </tr>\n",
       "    <tr>\n",
       "      <th>2</th>\n",
       "      <td>numclaims</td>\n",
       "      <td>0.115615</td>\n",
       "    </tr>\n",
       "    <tr>\n",
       "      <th>3</th>\n",
       "      <td>veh_body</td>\n",
       "      <td>0.084998</td>\n",
       "    </tr>\n",
       "    <tr>\n",
       "      <th>4</th>\n",
       "      <td>veh_age</td>\n",
       "      <td>0.085001</td>\n",
       "    </tr>\n",
       "    <tr>\n",
       "      <th>5</th>\n",
       "      <td>gender</td>\n",
       "      <td>0.079868</td>\n",
       "    </tr>\n",
       "    <tr>\n",
       "      <th>6</th>\n",
       "      <td>area</td>\n",
       "      <td>0.105845</td>\n",
       "    </tr>\n",
       "    <tr>\n",
       "      <th>7</th>\n",
       "      <td>agecat</td>\n",
       "      <td>0.082024</td>\n",
       "    </tr>\n",
       "  </tbody>\n",
       "</table>\n",
       "</div>"
      ],
      "text/plain": [
       "  feature_names  feature_importances\n",
       "0     veh_value             0.168528\n",
       "1      exposure             0.278121\n",
       "2     numclaims             0.115615\n",
       "3      veh_body             0.084998\n",
       "4       veh_age             0.085001\n",
       "5        gender             0.079868\n",
       "6          area             0.105845\n",
       "7        agecat             0.082024"
      ]
     },
     "execution_count": 49,
     "metadata": {},
     "output_type": "execute_result"
    }
   ],
   "source": [
    "model.feature_names=x.columns\n",
    "importance=pd.concat([pd.DataFrame(model.feature_names,columns=[\"feature_names\"]),\n",
    "           pd.DataFrame(model.feature_importances_,columns=[\"feature_importances\"])],axis=1)\n",
    "importance"
   ]
  },
  {
   "cell_type": "code",
   "execution_count": 50,
   "metadata": {},
   "outputs": [
    {
     "data": {
      "image/png": "[encoded data removed]",
      "text/plain": [
       "<Figure size 2000x700 with 1 Axes>"
      ]
     },
     "metadata": {},
     "output_type": "display_data"
    }
   ],
   "source": [
    "matplotlib.rcParams[\"figure.figsize\"]=(20,7)\n",
    "ax=sns.barplot(x=np.round(importance[\"feature_importances\"],3),y=importance[\"feature_names\"])\n",
    "plt.title('Features importance for Area feature')\n",
    "ax.bar_label(ax.containers[0]);"
   ]
  },
  {
   "cell_type": "markdown",
   "metadata": {},
   "source": [
    "---"
   ]
  }
 ],
 "metadata": {
  "kernelspec": {
   "display_name": "Python 3",
   "language": "python",
   "name": "python3"
  },
  "language_info": {
   "codemirror_mode": {
    "name": "ipython",
    "version": 3
   },
   "file_extension": ".py",
   "mimetype": "text/x-python",
   "name": "python",
   "nbconvert_exporter": "python",
   "pygments_lexer": "ipython3",
   "version": "3.10.8"
  }
 },
 "nbformat": 4,
 "nbformat_minor": 2
}
