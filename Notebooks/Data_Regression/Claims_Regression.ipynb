{
 "cells": [
  {
   "cell_type": "markdown",
   "metadata": {},
   "source": [
    "## <u>*Regression Modelling for Severity as a Target Feature*</u>"
   ]
  },
  {
   "cell_type": "code",
   "execution_count": 147,
   "metadata": {},
   "outputs": [],
   "source": [
    "import pandas as pd\n",
    "import numpy as np\n",
    "from matplotlib import pyplot as plt\n",
    "%matplotlib inline\n",
    "import matplotlib\n",
    "matplotlib.rcParams[\"figure.figsize\"]=(20,10)\n",
    "import seaborn as sns;sns.set()\n",
    "import warnings\n",
    "warnings.filterwarnings('ignore')\n",
    "from sklearn.metrics import mean_squared_error,mean_absolute_percentage_error,r2_score,mean_absolute_error,root_mean_squared_error\n",
    "from sklearn.ensemble import RandomForestRegressor,GradientBoostingRegressor,AdaBoostRegressor,BaggingRegressor\n",
    "from sklearn.tree import DecisionTreeRegressor\n",
    "import xgboost as xgb\n",
    "from xgboost import XGBRFRegressor\n",
    "from sklearn.linear_model import LinearRegression\n",
    "from sklearn.model_selection import train_test_split, GridSearchCV,RandomizedSearchCV,cross_val_score,KFold\n",
    "from sklearn.preprocessing import LabelEncoder,StandardScaler\n",
    "from tqdm import tqdm\n",
    "from hyperopt import fmin, tpe, hp, SparkTrials, STATUS_OK,Trials"
   ]
  },
  {
   "cell_type": "code",
   "execution_count": 148,
   "metadata": {
    "slideshow": {
     "slide_type": "fragment"
    }
   },
   "outputs": [
    {
     "data": {
      "text/html": [
       "<div>\n",
       "<style scoped>\n",
       "    .dataframe tbody tr th:only-of-type {\n",
       "        vertical-align: middle;\n",
       "    }\n",
       "\n",
       "    .dataframe tbody tr th {\n",
       "        vertical-align: top;\n",
       "    }\n",
       "\n",
       "    .dataframe thead th {\n",
       "        text-align: right;\n",
       "    }\n",
       "</style>\n",
       "<table border=\"1\" class=\"dataframe\">\n",
       "  <thead>\n",
       "    <tr style=\"text-align: right;\">\n",
       "      <th></th>\n",
       "      <th>veh_value</th>\n",
       "      <th>exposure</th>\n",
       "      <th>claimcst0</th>\n",
       "      <th>veh_body</th>\n",
       "      <th>veh_age</th>\n",
       "      <th>gender</th>\n",
       "      <th>area</th>\n",
       "      <th>agecat</th>\n",
       "    </tr>\n",
       "  </thead>\n",
       "  <tbody>\n",
       "    <tr>\n",
       "      <th>0</th>\n",
       "      <td>1.06</td>\n",
       "      <td>0.303901</td>\n",
       "      <td>0.0</td>\n",
       "      <td>HBACK</td>\n",
       "      <td>3</td>\n",
       "      <td>F</td>\n",
       "      <td>C</td>\n",
       "      <td>2</td>\n",
       "    </tr>\n",
       "    <tr>\n",
       "      <th>1</th>\n",
       "      <td>1.03</td>\n",
       "      <td>0.648871</td>\n",
       "      <td>0.0</td>\n",
       "      <td>HBACK</td>\n",
       "      <td>2</td>\n",
       "      <td>F</td>\n",
       "      <td>A</td>\n",
       "      <td>4</td>\n",
       "    </tr>\n",
       "    <tr>\n",
       "      <th>2</th>\n",
       "      <td>3.26</td>\n",
       "      <td>0.569473</td>\n",
       "      <td>0.0</td>\n",
       "      <td>UTE</td>\n",
       "      <td>2</td>\n",
       "      <td>F</td>\n",
       "      <td>E</td>\n",
       "      <td>2</td>\n",
       "    </tr>\n",
       "    <tr>\n",
       "      <th>3</th>\n",
       "      <td>4.14</td>\n",
       "      <td>0.317591</td>\n",
       "      <td>0.0</td>\n",
       "      <td>STNWG</td>\n",
       "      <td>2</td>\n",
       "      <td>F</td>\n",
       "      <td>D</td>\n",
       "      <td>2</td>\n",
       "    </tr>\n",
       "    <tr>\n",
       "      <th>4</th>\n",
       "      <td>0.72</td>\n",
       "      <td>0.648871</td>\n",
       "      <td>0.0</td>\n",
       "      <td>HBACK</td>\n",
       "      <td>4</td>\n",
       "      <td>F</td>\n",
       "      <td>C</td>\n",
       "      <td>2</td>\n",
       "    </tr>\n",
       "  </tbody>\n",
       "</table>\n",
       "</div>"
      ],
      "text/plain": [
       "   veh_value  exposure  claimcst0 veh_body veh_age gender area agecat\n",
       "0       1.06  0.303901        0.0    HBACK       3      F    C      2\n",
       "1       1.03  0.648871        0.0    HBACK       2      F    A      4\n",
       "2       3.26  0.569473        0.0      UTE       2      F    E      2\n",
       "3       4.14  0.317591        0.0    STNWG       2      F    D      2\n",
       "4       0.72  0.648871        0.0    HBACK       4      F    C      2"
      ]
     },
     "execution_count": 148,
     "metadata": {},
     "output_type": "execute_result"
    }
   ],
   "source": [
    "df=pd.read_csv(r\"C:/Users/Omar/Desktop/Omar_Files/Python_Analysis/Auto_Insurance/Data_Sets/data_car.csv\")\n",
    "df=df.drop([\"X_OBSTAT_\",\"clm\",\"numclaims\"],axis=1)\n",
    "df[\"agecat\"]=df[\"agecat\"].astype(\"object\")\n",
    "df[\"veh_age\"]=df[\"veh_age\"].astype(\"object\")\n",
    "df.head()"
   ]
  },
  {
   "cell_type": "markdown",
   "metadata": {},
   "source": [
    "---"
   ]
  },
  {
   "cell_type": "code",
   "execution_count": 149,
   "metadata": {},
   "outputs": [
    {
     "data": {
      "text/html": [
       "<div>\n",
       "<style scoped>\n",
       "    .dataframe tbody tr th:only-of-type {\n",
       "        vertical-align: middle;\n",
       "    }\n",
       "\n",
       "    .dataframe tbody tr th {\n",
       "        vertical-align: top;\n",
       "    }\n",
       "\n",
       "    .dataframe thead th {\n",
       "        text-align: right;\n",
       "    }\n",
       "</style>\n",
       "<table border=\"1\" class=\"dataframe\">\n",
       "  <thead>\n",
       "    <tr style=\"text-align: right;\">\n",
       "      <th></th>\n",
       "      <th>veh_value</th>\n",
       "      <th>exposure</th>\n",
       "      <th>claimcst0</th>\n",
       "      <th>veh_body</th>\n",
       "      <th>veh_age</th>\n",
       "      <th>gender</th>\n",
       "      <th>area</th>\n",
       "      <th>agecat</th>\n",
       "    </tr>\n",
       "  </thead>\n",
       "  <tbody>\n",
       "    <tr>\n",
       "      <th>0</th>\n",
       "      <td>1.59</td>\n",
       "      <td>0.229979</td>\n",
       "      <td>0.0</td>\n",
       "      <td>SEDAN</td>\n",
       "      <td>1</td>\n",
       "      <td>F</td>\n",
       "      <td>A</td>\n",
       "      <td>1</td>\n",
       "    </tr>\n",
       "    <tr>\n",
       "      <th>1</th>\n",
       "      <td>1.46</td>\n",
       "      <td>0.221766</td>\n",
       "      <td>0.0</td>\n",
       "      <td>HBACK</td>\n",
       "      <td>1</td>\n",
       "      <td>F</td>\n",
       "      <td>A</td>\n",
       "      <td>1</td>\n",
       "    </tr>\n",
       "    <tr>\n",
       "      <th>2</th>\n",
       "      <td>1.54</td>\n",
       "      <td>0.238193</td>\n",
       "      <td>0.0</td>\n",
       "      <td>SEDAN</td>\n",
       "      <td>1</td>\n",
       "      <td>F</td>\n",
       "      <td>A</td>\n",
       "      <td>1</td>\n",
       "    </tr>\n",
       "    <tr>\n",
       "      <th>3</th>\n",
       "      <td>1.57</td>\n",
       "      <td>0.522930</td>\n",
       "      <td>0.0</td>\n",
       "      <td>SEDAN</td>\n",
       "      <td>1</td>\n",
       "      <td>F</td>\n",
       "      <td>A</td>\n",
       "      <td>1</td>\n",
       "    </tr>\n",
       "    <tr>\n",
       "      <th>4</th>\n",
       "      <td>1.41</td>\n",
       "      <td>0.219028</td>\n",
       "      <td>0.0</td>\n",
       "      <td>HBACK</td>\n",
       "      <td>1</td>\n",
       "      <td>F</td>\n",
       "      <td>A</td>\n",
       "      <td>1</td>\n",
       "    </tr>\n",
       "  </tbody>\n",
       "</table>\n",
       "</div>"
      ],
      "text/plain": [
       "   veh_value  exposure  claimcst0 veh_body veh_age gender area agecat\n",
       "0       1.59  0.229979        0.0    SEDAN       1      F    A      1\n",
       "1       1.46  0.221766        0.0    HBACK       1      F    A      1\n",
       "2       1.54  0.238193        0.0    SEDAN       1      F    A      1\n",
       "3       1.57  0.522930        0.0    SEDAN       1      F    A      1\n",
       "4       1.41  0.219028        0.0    HBACK       1      F    A      1"
      ]
     },
     "execution_count": 149,
     "metadata": {},
     "output_type": "execute_result"
    }
   ],
   "source": [
    "df=df.sort_values(by=['veh_age', 'agecat','area','gender']).reset_index().drop(\"index\",axis=1)\n",
    "df.head()"
   ]
  },
  {
   "cell_type": "markdown",
   "metadata": {},
   "source": [
    "*Date preprocessing*"
   ]
  },
  {
   "cell_type": "code",
   "execution_count": 150,
   "metadata": {},
   "outputs": [
    {
     "data": {
      "text/html": [
       "<div>\n",
       "<style scoped>\n",
       "    .dataframe tbody tr th:only-of-type {\n",
       "        vertical-align: middle;\n",
       "    }\n",
       "\n",
       "    .dataframe tbody tr th {\n",
       "        vertical-align: top;\n",
       "    }\n",
       "\n",
       "    .dataframe thead th {\n",
       "        text-align: right;\n",
       "    }\n",
       "</style>\n",
       "<table border=\"1\" class=\"dataframe\">\n",
       "  <thead>\n",
       "    <tr style=\"text-align: right;\">\n",
       "      <th></th>\n",
       "      <th>veh_value</th>\n",
       "      <th>exposure</th>\n",
       "      <th>claimcst0</th>\n",
       "      <th>veh_body</th>\n",
       "      <th>veh_age</th>\n",
       "      <th>gender</th>\n",
       "      <th>area</th>\n",
       "      <th>agecat</th>\n",
       "    </tr>\n",
       "  </thead>\n",
       "  <tbody>\n",
       "    <tr>\n",
       "      <th>0</th>\n",
       "      <td>1.59</td>\n",
       "      <td>0.229979</td>\n",
       "      <td>0.0</td>\n",
       "      <td>9</td>\n",
       "      <td>0</td>\n",
       "      <td>0</td>\n",
       "      <td>0</td>\n",
       "      <td>0</td>\n",
       "    </tr>\n",
       "    <tr>\n",
       "      <th>1</th>\n",
       "      <td>1.46</td>\n",
       "      <td>0.221766</td>\n",
       "      <td>0.0</td>\n",
       "      <td>3</td>\n",
       "      <td>0</td>\n",
       "      <td>0</td>\n",
       "      <td>0</td>\n",
       "      <td>0</td>\n",
       "    </tr>\n",
       "    <tr>\n",
       "      <th>2</th>\n",
       "      <td>1.54</td>\n",
       "      <td>0.238193</td>\n",
       "      <td>0.0</td>\n",
       "      <td>9</td>\n",
       "      <td>0</td>\n",
       "      <td>0</td>\n",
       "      <td>0</td>\n",
       "      <td>0</td>\n",
       "    </tr>\n",
       "    <tr>\n",
       "      <th>3</th>\n",
       "      <td>1.57</td>\n",
       "      <td>0.522930</td>\n",
       "      <td>0.0</td>\n",
       "      <td>9</td>\n",
       "      <td>0</td>\n",
       "      <td>0</td>\n",
       "      <td>0</td>\n",
       "      <td>0</td>\n",
       "    </tr>\n",
       "    <tr>\n",
       "      <th>4</th>\n",
       "      <td>1.41</td>\n",
       "      <td>0.219028</td>\n",
       "      <td>0.0</td>\n",
       "      <td>3</td>\n",
       "      <td>0</td>\n",
       "      <td>0</td>\n",
       "      <td>0</td>\n",
       "      <td>0</td>\n",
       "    </tr>\n",
       "  </tbody>\n",
       "</table>\n",
       "</div>"
      ],
      "text/plain": [
       "   veh_value  exposure  claimcst0  veh_body  veh_age  gender  area  agecat\n",
       "0       1.59  0.229979        0.0         9        0       0     0       0\n",
       "1       1.46  0.221766        0.0         3        0       0     0       0\n",
       "2       1.54  0.238193        0.0         9        0       0     0       0\n",
       "3       1.57  0.522930        0.0         9        0       0     0       0\n",
       "4       1.41  0.219028        0.0         3        0       0     0       0"
      ]
     },
     "execution_count": 150,
     "metadata": {},
     "output_type": "execute_result"
    }
   ],
   "source": [
    "categories_encoder=LabelEncoder()\n",
    "for col in df:\n",
    "    if col in list(df.select_dtypes(include=\"object\").columns):\n",
    "        df[col]=categories_encoder.fit_transform(df[col])\n",
    "\n",
    "df.head()"
   ]
  },
  {
   "cell_type": "code",
   "execution_count": 151,
   "metadata": {},
   "outputs": [
    {
     "data": {
      "text/html": [
       "<div>\n",
       "<style scoped>\n",
       "    .dataframe tbody tr th:only-of-type {\n",
       "        vertical-align: middle;\n",
       "    }\n",
       "\n",
       "    .dataframe tbody tr th {\n",
       "        vertical-align: top;\n",
       "    }\n",
       "\n",
       "    .dataframe thead th {\n",
       "        text-align: right;\n",
       "    }\n",
       "</style>\n",
       "<table border=\"1\" class=\"dataframe\">\n",
       "  <thead>\n",
       "    <tr style=\"text-align: right;\">\n",
       "      <th></th>\n",
       "      <th>veh_value</th>\n",
       "      <th>exposure</th>\n",
       "      <th>claimcst0</th>\n",
       "      <th>veh_body</th>\n",
       "      <th>veh_age</th>\n",
       "      <th>gender</th>\n",
       "      <th>area</th>\n",
       "      <th>agecat</th>\n",
       "    </tr>\n",
       "  </thead>\n",
       "  <tbody>\n",
       "    <tr>\n",
       "      <th>21</th>\n",
       "      <td>2.560</td>\n",
       "      <td>0.810404</td>\n",
       "      <td>11653.230000</td>\n",
       "      <td>4</td>\n",
       "      <td>0</td>\n",
       "      <td>0</td>\n",
       "      <td>0</td>\n",
       "      <td>0</td>\n",
       "    </tr>\n",
       "    <tr>\n",
       "      <th>40</th>\n",
       "      <td>1.399</td>\n",
       "      <td>0.862423</td>\n",
       "      <td>1259.189999</td>\n",
       "      <td>3</td>\n",
       "      <td>0</td>\n",
       "      <td>0</td>\n",
       "      <td>0</td>\n",
       "      <td>0</td>\n",
       "    </tr>\n",
       "    <tr>\n",
       "      <th>50</th>\n",
       "      <td>3.130</td>\n",
       "      <td>0.407940</td>\n",
       "      <td>850.830000</td>\n",
       "      <td>10</td>\n",
       "      <td>0</td>\n",
       "      <td>0</td>\n",
       "      <td>0</td>\n",
       "      <td>0</td>\n",
       "    </tr>\n",
       "    <tr>\n",
       "      <th>63</th>\n",
       "      <td>1.399</td>\n",
       "      <td>0.358658</td>\n",
       "      <td>367.730000</td>\n",
       "      <td>3</td>\n",
       "      <td>0</td>\n",
       "      <td>0</td>\n",
       "      <td>0</td>\n",
       "      <td>0</td>\n",
       "    </tr>\n",
       "    <tr>\n",
       "      <th>65</th>\n",
       "      <td>1.470</td>\n",
       "      <td>0.353183</td>\n",
       "      <td>200.000000</td>\n",
       "      <td>3</td>\n",
       "      <td>0</td>\n",
       "      <td>0</td>\n",
       "      <td>0</td>\n",
       "      <td>0</td>\n",
       "    </tr>\n",
       "  </tbody>\n",
       "</table>\n",
       "</div>"
      ],
      "text/plain": [
       "    veh_value  exposure     claimcst0  veh_body  veh_age  gender  area  agecat\n",
       "21      2.560  0.810404  11653.230000         4        0       0     0       0\n",
       "40      1.399  0.862423   1259.189999         3        0       0     0       0\n",
       "50      3.130  0.407940    850.830000        10        0       0     0       0\n",
       "63      1.399  0.358658    367.730000         3        0       0     0       0\n",
       "65      1.470  0.353183    200.000000         3        0       0     0       0"
      ]
     },
     "execution_count": 151,
     "metadata": {},
     "output_type": "execute_result"
    }
   ],
   "source": [
    "df=df[df[\"claimcst0\"]>0]\n",
    "df.head()"
   ]
  },
  {
   "cell_type": "markdown",
   "metadata": {},
   "source": [
    "*Define x and y*"
   ]
  },
  {
   "cell_type": "code",
   "execution_count": 152,
   "metadata": {},
   "outputs": [],
   "source": [
    "x=df.drop(\"claimcst0\",axis=1)\n",
    "y=df[\"claimcst0\"]"
   ]
  },
  {
   "cell_type": "code",
   "execution_count": 153,
   "metadata": {},
   "outputs": [],
   "source": [
    "sc=StandardScaler()\n",
    "for col in x:\n",
    "        x[[col]]=StandardScaler().fit_transform(x[[col]])"
   ]
  },
  {
   "cell_type": "code",
   "execution_count": 154,
   "metadata": {},
   "outputs": [
    {
     "name": "stdout",
     "output_type": "stream",
     "text": [
      "Train data shape of X = (3468, 7) and Y = (3468,) : \n",
      "Test data shape of X = (1156, 7) and Y = (1156,) : \n"
     ]
    }
   ],
   "source": [
    "x_train, x_test, y_train, y_test = train_test_split(x,y ,test_size= 0.25)\n",
    "\n",
    "print(\"Train data shape of X = % s and Y = % s : \"%(\n",
    "\tx_train.shape, y_train.shape))\n",
    "\n",
    "print(\"Test data shape of X = % s and Y = % s : \"%(\n",
    "\tx_test.shape, y_test.shape))"
   ]
  },
  {
   "cell_type": "markdown",
   "metadata": {},
   "source": [
    "*Create cross validation evaluation_fucntion*"
   ]
  },
  {
   "cell_type": "code",
   "execution_count": 158,
   "metadata": {},
   "outputs": [],
   "source": [
    "def evaluation_preds(y_true,predicted):\n",
    "    RMSE=root_mean_squared_error(y_true,predicted)\n",
    "    metrics_dict={\n",
    "       \"RMSE\": round(RMSE,3)\n",
    "    }\n",
    "   \n",
    "    return metrics_dict"
   ]
  },
  {
   "cell_type": "markdown",
   "metadata": {},
   "source": [
    "---"
   ]
  },
  {
   "cell_type": "markdown",
   "metadata": {},
   "source": [
    "## *Hyperparamers tunning*"
   ]
  },
  {
   "cell_type": "markdown",
   "metadata": {},
   "source": [
    "* *Defining models and its parameters*"
   ]
  },
  {
   "cell_type": "code",
   "execution_count": 156,
   "metadata": {},
   "outputs": [],
   "source": [
    "models = {\n",
    "                \"RandomForestRegressor\": RandomForestRegressor(),\n",
    "                \"DecisionTreeRegressor\": DecisionTreeRegressor(),\n",
    "                \"XGBRFRegressor\": XGBRFRegressor(),\n",
    "                \"GradientBoostingRegressor\":GradientBoostingRegressor(),\n",
    "                \"AdaBoostRegressor\": AdaBoostRegressor()\n",
    "        \n",
    "}\n",
    "\n",
    "search_spaces ={        \n",
    "        \"XGBRFRegressor\":{\n",
    "            \"learning_rate\": hp.uniform(\"learning_rate\",0.01,1.0),    # 0.3 is the default\n",
    "            \"max_depth\": hp.choice(\"max_depth\", [None,2, 4, 5, 6,7,8]),\n",
    "            \"subsample\": hp.uniform(\"subsample\",0.5,1.0),\n",
    "            \"n_estimators\": hp.choice(\"n_estimators\", [100, 200, 300, 400,500,600]),\n",
    "            'colsample_bytree': hp.uniform(\"colsample_bytree\",0.5,1.0), \n",
    "            'colsample_bynode': hp.uniform(\"colsample_bynode\",0.5,1.0),\n",
    "            \"reg_lambda\": hp.quniform(\"reg_lambda\",0,2,1),           #L2 regularization term on weights. Increasing this value will make model more conservative\n",
    "            \"reg_alpha\": hp.quniform(\"reg_alpha\",0,2,1),\n",
    "            \"num_parallel_tree\": hp.choice(\"num_parallel_tree\", [100,110])\n",
    "            },\n",
    "                    \n",
    "        \"GradientBoostingRegressor\":{\n",
    "            #\"loss\": hp.choice(\"loss\",['squared_error', 'huber', 'absolute_error', 'quantile']),\n",
    "            \"n_estimators\": hp.choice(\"n_estimators\", [100, 200, 300, 400,500,600]),\n",
    "            \"max_depth\": hp.choice(\"max_depth\", [2, 4, 5, 6,7,8]),\n",
    "            #\"max_features\": hp.choice(\"max_features\",[\"sqrt\", \"log2\"]),\n",
    "            \"learning_rate\": hp.uniform(\"learning_rate\",0.01,1.0),\n",
    "            \"subsample\": hp.uniform(\"subsample\",0.8,1.0),\n",
    "            \"min_samples_split\": hp.uniform(\"min_samples_split\",0.8,1.0),\n",
    "            \"min_samples_leaf\": hp.uniform(\"min_samples_leaf\",0.8,1.0),\n",
    "            #\"criterion\": hp.choice(\"criterion\",[\"squared_error\", \"friedman_mse\"]) \n",
    "            },\n",
    "        \"RandomForestRegressor\":{\n",
    "            \"n_estimators\": hp.choice(\"n_estimators\", [100, 200, 300, 400,500,600]), \n",
    "            \"min_samples_split\": hp.uniform(\"min_samples_split\",0.8,1.0),\n",
    "            \"min_samples_leaf\": hp.uniform(\"min_samples_leaf\",0.8,1.0),\n",
    "            #\"bootstrap\": hp.choice(\"bootstrap\",[True, False]),                                                                                                    \n",
    "            #\"max_features\": hp.choice(\"max_features\",[\"sqrt\", \"log2\"]),                                    \n",
    "            \"max_depth\": hp.choice(\"max_depth\", [2, 4, 5, 6,7,8]),\n",
    "            #\"criterion\": hp.choice(\"criterion\",[\"poisson\", \"squared_error\", \"friedman_mse\",\"absolute_error\"])                    \n",
    "        },\n",
    "\n",
    "        \"AdaBoostRegressor\":{\n",
    "            \"n_estimators\": hp.choice(\"n_estimators\", [100, 200, 300, 400,500,600]),\n",
    "            \"learning_rate\": hp.uniform(\"learning_rate\",0.01,1.0),\n",
    "            #\"loss\": hp.choice(\"loss\",[\"linear\",\"square\",\"exponential\"])\n",
    "        },\n",
    "        \"DecisionTreeRegressor\": {\n",
    "                    \"criterion\": hp.choice(\"criterion\",[\"poisson\", \"squared_error\", \"friedman_mse\",\"absolute_error\"]),\n",
    "                    'splitter': hp.choice(\"splitter\",[\"best\", \"random\"]),\n",
    "                    \"max_depth\": hp.choice(\"max_depth\", [2, 4, 5, 6,7,8]),\n",
    "                    \"min_samples_split\": hp.uniform(\"min_samples_split\",0.8,1.0),\n",
    "                    \"min_samples_leaf\": hp.uniform(\"min_samples_leaf\",0.8,1.0),\n",
    "                    \"max_features\": hp.choice(\"max_features\",[\"sqrt\", \"log2\"])\n",
    "        }                    \n",
    "}"
   ]
  },
  {
   "cell_type": "code",
   "execution_count": 159,
   "metadata": {},
   "outputs": [
    {
     "data": {
      "text/plain": [
       "{'RMSE': np.float64(3328.702)}"
      ]
     },
     "execution_count": 159,
     "metadata": {},
     "output_type": "execute_result"
    }
   ],
   "source": [
    "np.random.seed(42)\n",
    "clf=RandomForestRegressor()\n",
    "clf.fit(x_train,y_train)\n",
    "predicted=clf.predict(x_test)\n",
    "evaluation_preds(y_test,predicted)"
   ]
  },
  {
   "cell_type": "code",
   "execution_count": 160,
   "metadata": {},
   "outputs": [
    {
     "name": "stdout",
     "output_type": "stream",
     "text": [
      "===========================================rf_base_evaluation===========================================\n",
      "RF_cross_val_evaluation_preds :\n",
      " {'RMSE': np.float64(3328.702)}\n",
      "===========\n",
      "===========================================XGBRF_base_evaluation===========================================\n",
      "RF_cross_val_evaluation_preds :\n",
      " {'RMSE': np.float64(3141.203)}\n",
      "===========\n",
      "===========================================ADAboost_base_evaluation===========================================\n",
      "RF_cross_val_evaluation_preds :\n",
      " {'RMSE': np.float64(9049.567)}\n",
      "===========\n",
      "===========================================GradientBoostingClassifier===========================================\n",
      "RF_cross_val_evaluation_preds :\n",
      " {'RMSE': np.float64(3060.012)}\n",
      "==================================================================\n"
     ]
    }
   ],
   "source": [
    "\n",
    "print(\"===========================================rf_base_evaluation===========================================\")\n",
    "np.random.seed(42)\n",
    "clf=RandomForestRegressor()\n",
    "clf.fit(x_train,y_train)\n",
    "predicted=clf.predict(x_test)\n",
    "rf_base_evaluation=evaluation_preds(y_test,predicted)\n",
    "print(\"RF_cross_val_evaluation_preds :\\n\" , rf_base_evaluation)\n",
    "print(\"===========\")\n",
    "\n",
    "print(\"===========================================XGBRF_base_evaluation===========================================\")\n",
    "np.random.seed(42)\n",
    "clf=XGBRFRegressor()\n",
    "clf.fit(x_train,y_train)\n",
    "predicted=clf.predict(x_test)\n",
    "XGBRF_base_evaluation=evaluation_preds(y_test,predicted)\n",
    "print(\"RF_cross_val_evaluation_preds :\\n\" , XGBRF_base_evaluation)\n",
    "print(\"===========\")\n",
    "\n",
    "print(\"===========================================ADAboost_base_evaluation===========================================\")\n",
    "np.random.seed(42)\n",
    "clf=AdaBoostRegressor()\n",
    "clf.fit(x_train,y_train)\n",
    "predicted=clf.predict(x_test)\n",
    "ADAboost_base_evaluation=evaluation_preds(y_test,predicted)\n",
    "print(\"RF_cross_val_evaluation_preds :\\n\" , ADAboost_base_evaluation)\n",
    "print(\"===========\")\n",
    "\n",
    "print(\"===========================================GradientBoostingClassifier===========================================\")\n",
    "np.random.seed(42)\n",
    "clf=GradientBoostingRegressor()\n",
    "clf.fit(x_train,y_train)\n",
    "predicted=clf.predict(x_test)\n",
    "GBOOST_base_evaluation=evaluation_preds(y_test,predicted)\n",
    "print(\"RF_cross_val_evaluation_preds :\\n\" , GBOOST_base_evaluation)\n",
    "print(\"==================================================================\")  \n"
   ]
  },
  {
   "cell_type": "code",
   "execution_count": 161,
   "metadata": {},
   "outputs": [
    {
     "data": {
      "text/html": [
       "<div>\n",
       "<style scoped>\n",
       "    .dataframe tbody tr th:only-of-type {\n",
       "        vertical-align: middle;\n",
       "    }\n",
       "\n",
       "    .dataframe tbody tr th {\n",
       "        vertical-align: top;\n",
       "    }\n",
       "\n",
       "    .dataframe thead th {\n",
       "        text-align: right;\n",
       "    }\n",
       "</style>\n",
       "<table border=\"1\" class=\"dataframe\">\n",
       "  <thead>\n",
       "    <tr style=\"text-align: right;\">\n",
       "      <th></th>\n",
       "      <th>rf_base_evaluation</th>\n",
       "      <th>ADAboost_base_evaluation</th>\n",
       "      <th>XGBRF_base_evaluation</th>\n",
       "      <th>GBOOST_base_evaluation</th>\n",
       "    </tr>\n",
       "  </thead>\n",
       "  <tbody>\n",
       "    <tr>\n",
       "      <th>RMSE</th>\n",
       "      <td>3328.702</td>\n",
       "      <td>9049.567</td>\n",
       "      <td>3141.203</td>\n",
       "      <td>3060.012</td>\n",
       "    </tr>\n",
       "  </tbody>\n",
       "</table>\n",
       "</div>"
      ],
      "text/plain": [
       "      rf_base_evaluation  ADAboost_base_evaluation  XGBRF_base_evaluation  \\\n",
       "RMSE            3328.702                  9049.567               3141.203   \n",
       "\n",
       "      GBOOST_base_evaluation  \n",
       "RMSE                3060.012  "
      ]
     },
     "execution_count": 161,
     "metadata": {},
     "output_type": "execute_result"
    }
   ],
   "source": [
    "np.random.seed(42)\n",
    "basemodels=pd.DataFrame({\n",
    "    \"rf_base_evaluation\":rf_base_evaluation,\n",
    "    \"ADAboost_base_evaluation\":ADAboost_base_evaluation,\n",
    "    \"XGBRF_base_evaluation\":XGBRF_base_evaluation,\n",
    "    \"GBOOST_base_evaluation\":GBOOST_base_evaluation\n",
    "})\n",
    "basemodels"
   ]
  },
  {
   "cell_type": "code",
   "execution_count": 162,
   "metadata": {},
   "outputs": [
    {
     "data": {
      "text/plain": [
       "<Axes: >"
      ]
     },
     "execution_count": 162,
     "metadata": {},
     "output_type": "execute_result"
    },
    {
     "data": {
      "image/png": "[encoded data removed]",
      "text/plain": [
       "<Figure size 2000x500 with 1 Axes>"
      ]
     },
     "metadata": {},
     "output_type": "display_data"
    }
   ],
   "source": [
    "basemodels.plot(kind=\"bar\",figsize=(20,5))"
   ]
  },
  {
   "cell_type": "markdown",
   "metadata": {},
   "source": [
    "* *AdaBoostRegressor hyperparameter*"
   ]
  },
  {
   "cell_type": "code",
   "execution_count": 171,
   "metadata": {},
   "outputs": [
    {
     "name": "stdout",
     "output_type": "stream",
     "text": [
      "100%|██████████| 10/10 [00:01<00:00,  6.09trial/s, best loss: 4182.266]\n"
     ]
    }
   ],
   "source": [
    "space=search_spaces[\"AdaBoostRegressor\"]\n",
    "def hyperparameter_tuning(space):\n",
    "    clf = AdaBoostRegressor(**space)\n",
    "    clf.fit(x_train,y_train)\n",
    "    RMSE = root_mean_squared_error(y_test,clf.predict(x_test))\n",
    "    RMSE=round(RMSE,3)\n",
    "\n",
    "    return {\"loss\": RMSE, \"status\": STATUS_OK}\n",
    "\n",
    "trials = Trials()\n",
    "best_AdaBoostRegressor = fmin(\n",
    "    fn=hyperparameter_tuning,\n",
    "    space = space, \n",
    "    algo=tpe.suggest, \n",
    "    max_evals=10, \n",
    "    trials=trials\n",
    ")     "
   ]
  },
  {
   "cell_type": "markdown",
   "metadata": {},
   "source": [
    "* *GradientBoostingRegressor hyperparameter*"
   ]
  },
  {
   "cell_type": "code",
   "execution_count": 167,
   "metadata": {},
   "outputs": [
    {
     "name": "stdout",
     "output_type": "stream",
     "text": [
      "100%|██████████| 10/10 [00:02<00:00,  3.78trial/s, best loss: 3126.811]\n"
     ]
    }
   ],
   "source": [
    "space=search_spaces[\"GradientBoostingRegressor\"]\n",
    "def hyperparameter_tuning(space):\n",
    "    clf = GradientBoostingRegressor(**space)\n",
    "    clf.fit(x_train,y_train)\n",
    "    RMSE = root_mean_squared_error(y_test,clf.predict(x_test))\n",
    "    RMSE=round(RMSE,3)\n",
    "\n",
    "    return {\"loss\": RMSE, \"status\": STATUS_OK}\n",
    "\n",
    "trials = Trials()\n",
    "best_GradientBoostingRegressor = fmin(\n",
    "    fn=hyperparameter_tuning,\n",
    "    space = space, \n",
    "    algo=tpe.suggest, \n",
    "    max_evals=10, \n",
    "    trials=trials\n",
    ")  "
   ]
  },
  {
   "cell_type": "markdown",
   "metadata": {},
   "source": [
    "* *RandomForestRegressor hyperparameter*"
   ]
  },
  {
   "cell_type": "code",
   "execution_count": 177,
   "metadata": {},
   "outputs": [
    {
     "name": "stdout",
     "output_type": "stream",
     "text": [
      "100%|██████████| 10/10 [00:06<00:00,  1.55trial/s, best loss: 3127.617]\n"
     ]
    }
   ],
   "source": [
    "space=search_spaces[\"RandomForestRegressor\"]\n",
    "def hyperparameter_tuning(space):\n",
    "    clf = RandomForestRegressor(**space)\n",
    "    clf.fit(x_train,y_train)\n",
    "    RMSE = root_mean_squared_error(y_test,clf.predict(x_test))\n",
    "    RMSE=round(RMSE,3)\n",
    "\n",
    "    return {\"loss\": RMSE, \"status\": STATUS_OK}\n",
    "\n",
    "trials = Trials()\n",
    "best_RandomForestRegressor = fmin(\n",
    "    fn=hyperparameter_tuning,\n",
    "    space = space, \n",
    "    algo=tpe.suggest, \n",
    "    max_evals=10, \n",
    "    trials=trials\n",
    ")      "
   ]
  },
  {
   "cell_type": "markdown",
   "metadata": {},
   "source": [
    "* *XGBRFRegressor hyperparameter*"
   ]
  },
  {
   "cell_type": "code",
   "execution_count": 169,
   "metadata": {},
   "outputs": [
    {
     "name": "stdout",
     "output_type": "stream",
     "text": [
      "100%|██████████| 10/10 [00:04<00:00,  2.32trial/s, best loss: 3068.447]\n"
     ]
    }
   ],
   "source": [
    "space=search_spaces[\"XGBRFRegressor\"]\n",
    "def hyperparameter_tuning(space):\n",
    "    clf = XGBRFRegressor(**space)\n",
    "    clf.fit(x_train,y_train)\n",
    "    RMSE = root_mean_squared_error(y_test,clf.predict(x_test))\n",
    "    RMSE=round(RMSE,3)\n",
    "\n",
    "    return {\"loss\": RMSE, \"status\": STATUS_OK}\n",
    "\n",
    "trials = Trials()\n",
    "best_XGBRFRegressor = fmin(\n",
    "    fn=hyperparameter_tuning,\n",
    "    space = space, \n",
    "    algo=tpe.suggest, \n",
    "    max_evals=10, \n",
    "    trials=trials\n",
    ")"
   ]
  },
  {
   "cell_type": "code",
   "execution_count": 178,
   "metadata": {},
   "outputs": [
    {
     "name": "stdout",
     "output_type": "stream",
     "text": [
      "===========================================best_AdaBoostClassifier===========================================\n",
      "evaluation_preds :\n",
      " {'RMSE': np.float64(3045.615)}\n",
      "===========\n",
      "===========GradientBoostingRegressor===========\n",
      "evaluation_preds :\n",
      " {'RMSE': np.float64(3128.195)}\n",
      "===========\n",
      "===========XGBRFRegressor===========\n",
      "evaluation_preds :\n",
      " {'RMSE': np.float64(3110.705)}\n",
      "===========\n",
      "===========RandomForestRegressor===========\n",
      "evaluation_preds :\n",
      " {'RMSE': np.float64(3124.622)}\n",
      "=====================================================================\n"
     ]
    }
   ],
   "source": [
    "print(\"===========================================best_AdaBoostClassifier===========================================\")\n",
    "model = AdaBoostRegressor(**best_AdaBoostRegressor)\n",
    "model.fit(x_train,y_train)\n",
    "predicted=model.predict(x_test)\n",
    "print(\"evaluation_preds :\\n\" , evaluation_preds(y_test,predicted))\n",
    "ADAboost_evaluation_preds=evaluation_preds(y_test,predicted) \n",
    "print(\"===========\")\n",
    "\n",
    "print(\"===========GradientBoostingRegressor===========\")\n",
    "model = GradientBoostingRegressor(**best_GradientBoostingRegressor)\n",
    "model.fit(x_train,y_train)\n",
    "predicted=model.predict(x_test)\n",
    "print(\"evaluation_preds :\\n\" , evaluation_preds(y_test,predicted))\n",
    "GBOOST_evaluation_preds=evaluation_preds(y_test,predicted)  \n",
    "print(\"===========\")\n",
    "\n",
    "print(\"===========XGBRFRegressor===========\")\n",
    "model = XGBRFRegressor(**best_XGBRFRegressor)\n",
    "model.fit(x_train,y_train)\n",
    "predicted=model.predict(x_test)\n",
    "print(\"evaluation_preds :\\n\" , evaluation_preds(y_test,predicted))\n",
    "XGBRF_evaluation_preds=evaluation_preds(y_test,predicted)  \n",
    "print(\"===========\")\n",
    "\n",
    "print(\"===========RandomForestRegressor===========\")\n",
    "model = RandomForestRegressor(**best_RandomForestRegressor)\n",
    "model.fit(x_train,y_train)\n",
    "predicted=model.predict(x_test)\n",
    "print(\"evaluation_preds :\\n\" , evaluation_preds(y_test,predicted))\n",
    "RF_evaluation_preds=evaluation_preds(y_test,predicted)\n",
    "print(\"=====================================================================\")  \n"
   ]
  },
  {
   "cell_type": "markdown",
   "metadata": {},
   "source": [
    "*Saving all best hyperopt param*"
   ]
  },
  {
   "cell_type": "code",
   "execution_count": 179,
   "metadata": {},
   "outputs": [],
   "source": [
    "import json\n",
    "# Serializing json\n",
    "json_object = json.dumps({\n",
    "    \"best_AdaBoostRegressor\" : best_AdaBoostRegressor,\n",
    "    \"best_GradientBoostingRegressor\" :best_GradientBoostingRegressor,\n",
    "    \"best_RandomForestRegressor\" :best_RandomForestRegressor,\n",
    "    \"best_XGBRFRegressor\" :best_XGBRFRegressor}, indent=4,default=str)\n",
    " \n",
    "# Writing to sample.json\n",
    "with open(\"C:/Users/Omar/Desktop/Omar_Files/Python_Analysis/Auto_Insurance/outcomes/bestParams/claims_regression_all_best_params.json\", \"w\") as f:\n",
    "    f.write(json_object)"
   ]
  },
  {
   "cell_type": "markdown",
   "metadata": {},
   "source": [
    "*Saving all models evaluations*"
   ]
  },
  {
   "cell_type": "code",
   "execution_count": 180,
   "metadata": {},
   "outputs": [],
   "source": [
    "import json\n",
    "# Serializing json\n",
    "json_object = json.dumps({\"ADAboost_evaluation_preds\" : ADAboost_evaluation_preds,\n",
    "    \"GBOOST_evaluation_preds\" :GBOOST_evaluation_preds,\n",
    "    \"XGBRF_evaluation_preds\" :XGBRF_evaluation_preds,\n",
    "    \"RF_evaluation_preds\" :RF_evaluation_preds,\n",
    "    \"rf_base_evaluation\":rf_base_evaluation,\n",
    "    \"ADAboost_base_evaluation\":ADAboost_base_evaluation,\n",
    "    \"XGBRF_base_evaluation\":XGBRF_base_evaluation,\n",
    "    \"GBOOST_base_evaluation\":GBOOST_base_evaluation}, indent=4)\n",
    " \n",
    "# Writing to sample.json\n",
    "with open(\"C:/Users/Omar/Desktop/Omar_Files/Python_Analysis/Auto_Insurance/outcomes/modelsEvaluations/claims_regression_all_evaluations.json\", \"w\") as f:\n",
    "    f.write(json_object)"
   ]
  },
  {
   "cell_type": "code",
   "execution_count": 181,
   "metadata": {},
   "outputs": [
    {
     "data": {
      "image/png": "[encoded data removed]",
      "text/plain": [
       "<Figure size 2000x900 with 1 Axes>"
      ]
     },
     "metadata": {},
     "output_type": "display_data"
    }
   ],
   "source": [
    "np.random.seed(42)\n",
    "comparison=pd.DataFrame({\n",
    "    \"ADAboost_evaluation_preds\" : ADAboost_evaluation_preds,\n",
    "    \"GBOOST_evaluation_preds\" :GBOOST_evaluation_preds,\n",
    "    \"XGBRF_evaluation_preds\" :XGBRF_evaluation_preds,\n",
    "    \"RF_evaluation_preds\" :RF_evaluation_preds,\n",
    "    \"rf_base_evaluation\":rf_base_evaluation,\n",
    "    \"ADAboost_base_evaluation\":ADAboost_base_evaluation,\n",
    "    \"XGBRF_base_evaluation\":XGBRF_base_evaluation,\n",
    "    \"GBOOST_base_evaluation\":GBOOST_base_evaluation\n",
    "})\n",
    "comparison.plot(kind=\"bar\",figsize=(20,9))\n",
    "plt.savefig('C:/Users/Omar/Desktop/Omar_Files/Python_Analysis/Auto_Insurance/outcomes/modelsEvaluationsGraphs/claims_EvaluationsGraph.png',dpi=500); "
   ]
  },
  {
   "cell_type": "code",
   "execution_count": 182,
   "metadata": {},
   "outputs": [
    {
     "data": {
      "text/html": [
       "<div>\n",
       "<style scoped>\n",
       "    .dataframe tbody tr th:only-of-type {\n",
       "        vertical-align: middle;\n",
       "    }\n",
       "\n",
       "    .dataframe tbody tr th {\n",
       "        vertical-align: top;\n",
       "    }\n",
       "\n",
       "    .dataframe thead th {\n",
       "        text-align: right;\n",
       "    }\n",
       "</style>\n",
       "<table border=\"1\" class=\"dataframe\">\n",
       "  <thead>\n",
       "    <tr style=\"text-align: right;\">\n",
       "      <th></th>\n",
       "      <th>ADAboost_evaluation_preds</th>\n",
       "      <th>GBOOST_evaluation_preds</th>\n",
       "      <th>XGBRF_evaluation_preds</th>\n",
       "      <th>RF_evaluation_preds</th>\n",
       "      <th>rf_base_evaluation</th>\n",
       "      <th>ADAboost_base_evaluation</th>\n",
       "      <th>XGBRF_base_evaluation</th>\n",
       "      <th>GBOOST_base_evaluation</th>\n",
       "    </tr>\n",
       "  </thead>\n",
       "  <tbody>\n",
       "    <tr>\n",
       "      <th>RMSE</th>\n",
       "      <td>3045.615</td>\n",
       "      <td>3128.195</td>\n",
       "      <td>3110.705</td>\n",
       "      <td>3124.622</td>\n",
       "      <td>3328.702</td>\n",
       "      <td>9049.567</td>\n",
       "      <td>3141.203</td>\n",
       "      <td>3060.012</td>\n",
       "    </tr>\n",
       "  </tbody>\n",
       "</table>\n",
       "</div>"
      ],
      "text/plain": [
       "      ADAboost_evaluation_preds  GBOOST_evaluation_preds  \\\n",
       "RMSE                   3045.615                 3128.195   \n",
       "\n",
       "      XGBRF_evaluation_preds  RF_evaluation_preds  rf_base_evaluation  \\\n",
       "RMSE                3110.705             3124.622            3328.702   \n",
       "\n",
       "      ADAboost_base_evaluation  XGBRF_base_evaluation  GBOOST_base_evaluation  \n",
       "RMSE                  9049.567               3141.203                3060.012  "
      ]
     },
     "execution_count": 182,
     "metadata": {},
     "output_type": "execute_result"
    }
   ],
   "source": [
    "comparison"
   ]
  },
  {
   "cell_type": "markdown",
   "metadata": {},
   "source": [
    "### *Final Result*"
   ]
  },
  {
   "cell_type": "code",
   "execution_count": 185,
   "metadata": {},
   "outputs": [],
   "source": [
    "np.random.seed(42)\n",
    "model = AdaBoostRegressor(**best_AdaBoostRegressor)\n",
    "clf.fit(x_train,y_train)\n",
    "predicted=clf.predict(x_test)"
   ]
  },
  {
   "cell_type": "code",
   "execution_count": 187,
   "metadata": {},
   "outputs": [
    {
     "data": {
      "text/html": [
       "<div>\n",
       "<style scoped>\n",
       "    .dataframe tbody tr th:only-of-type {\n",
       "        vertical-align: middle;\n",
       "    }\n",
       "\n",
       "    .dataframe tbody tr th {\n",
       "        vertical-align: top;\n",
       "    }\n",
       "\n",
       "    .dataframe thead th {\n",
       "        text-align: right;\n",
       "    }\n",
       "</style>\n",
       "<table border=\"1\" class=\"dataframe\">\n",
       "  <thead>\n",
       "    <tr style=\"text-align: right;\">\n",
       "      <th></th>\n",
       "      <th>feature_names</th>\n",
       "      <th>feature_importances</th>\n",
       "    </tr>\n",
       "  </thead>\n",
       "  <tbody>\n",
       "    <tr>\n",
       "      <th>0</th>\n",
       "      <td>veh_value</td>\n",
       "      <td>0.417933</td>\n",
       "    </tr>\n",
       "    <tr>\n",
       "      <th>1</th>\n",
       "      <td>exposure</td>\n",
       "      <td>0.322131</td>\n",
       "    </tr>\n",
       "    <tr>\n",
       "      <th>2</th>\n",
       "      <td>veh_body</td>\n",
       "      <td>0.039395</td>\n",
       "    </tr>\n",
       "    <tr>\n",
       "      <th>3</th>\n",
       "      <td>veh_age</td>\n",
       "      <td>0.041302</td>\n",
       "    </tr>\n",
       "    <tr>\n",
       "      <th>4</th>\n",
       "      <td>gender</td>\n",
       "      <td>0.030803</td>\n",
       "    </tr>\n",
       "    <tr>\n",
       "      <th>5</th>\n",
       "      <td>area</td>\n",
       "      <td>0.115077</td>\n",
       "    </tr>\n",
       "    <tr>\n",
       "      <th>6</th>\n",
       "      <td>agecat</td>\n",
       "      <td>0.033359</td>\n",
       "    </tr>\n",
       "  </tbody>\n",
       "</table>\n",
       "</div>"
      ],
      "text/plain": [
       "  feature_names  feature_importances\n",
       "0     veh_value             0.417933\n",
       "1      exposure             0.322131\n",
       "2      veh_body             0.039395\n",
       "3       veh_age             0.041302\n",
       "4        gender             0.030803\n",
       "5          area             0.115077\n",
       "6        agecat             0.033359"
      ]
     },
     "execution_count": 187,
     "metadata": {},
     "output_type": "execute_result"
    }
   ],
   "source": [
    "clf.feature_names=x.columns\n",
    "importance=pd.concat([pd.DataFrame(clf.feature_names,columns=[\"feature_names\"]),\n",
    "           pd.DataFrame(clf.feature_importances_,columns=[\"feature_importances\"])],axis=1)\n",
    "importance"
   ]
  },
  {
   "cell_type": "code",
   "execution_count": 188,
   "metadata": {},
   "outputs": [
    {
     "data": {
      "image/png": "[encoded data removed]",
      "text/plain": [
       "<Figure size 2000x700 with 1 Axes>"
      ]
     },
     "metadata": {},
     "output_type": "display_data"
    }
   ],
   "source": [
    "matplotlib.rcParams[\"figure.figsize\"]=(20,7)\n",
    "ax=sns.barplot(x=np.round(importance[\"feature_importances\"],3),y=importance[\"feature_names\"])\n",
    "plt.title('Features importance for claims feature')\n",
    "ax.bar_label(ax.containers[0]);\n",
    "plt.savefig('C:/Users/Omar/Desktop/Omar_Files/Python_Analysis/Auto_Insurance/outcomes/featuresImportanceGraphs/claims_featureImportanc.png',dpi=500);"
   ]
  },
  {
   "cell_type": "code",
   "execution_count": 189,
   "metadata": {},
   "outputs": [],
   "source": [
    "import pickle\n",
    "with open (\"C:/Users/Omar/Desktop/Omar_Files/Python_Analysis/Auto_Insurance/outcomes/bestModels/claims_prediction_model.pkl\",\"wb\") as f:\n",
    "    pickle.dump(clf,f)"
   ]
  },
  {
   "cell_type": "markdown",
   "metadata": {},
   "source": [
    "---"
   ]
  }
 ],
 "metadata": {
  "kernelspec": {
   "display_name": "Python 3",
   "language": "python",
   "name": "python3"
  },
  "language_info": {
   "codemirror_mode": {
    "name": "ipython",
    "version": 3
   },
   "file_extension": ".py",
   "mimetype": "text/x-python",
   "name": "python",
   "nbconvert_exporter": "python",
   "pygments_lexer": "ipython3",
   "version": "3.10.8"
  }
 },
 "nbformat": 4,
 "nbformat_minor": 2
}
