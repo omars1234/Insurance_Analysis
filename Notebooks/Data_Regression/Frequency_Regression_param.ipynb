{
 "cells": [
  {
   "cell_type": "markdown",
   "metadata": {},
   "source": [
    "## <u>*Regression Modelling for Frequency as a Target Feature*</u>"
   ]
  },
  {
   "cell_type": "code",
   "execution_count": null,
   "metadata": {
    "slideshow": {
     "slide_type": "fragment"
    }
   },
   "outputs": [],
   "source": [
    "%run C:\\Users\\Omar\\Desktop\\Omar_Files\\Python_Analysis\\Auto_Insurance\\Notebooks\\Data_Analysis\\3_EDA.ipynb"
   ]
  },
  {
   "cell_type": "code",
   "execution_count": 2,
   "metadata": {},
   "outputs": [],
   "source": [
    "df5=df.copy()\n",
    "df5.drop([\"clm\"],axis=1,inplace=True)"
   ]
  },
  {
   "cell_type": "code",
   "execution_count": 8,
   "metadata": {},
   "outputs": [],
   "source": [
    "from sklearn.compose import ColumnTransformer\n",
    "from sklearn.pipeline import Pipeline\n",
    "from sklearn.impute import SimpleImputer\n",
    "from sklearn.preprocessing import OneHotEncoder,StandardScaler,LabelEncoder\n",
    "from sklearn.model_selection import train_test_split\n",
    "from sklearn.ensemble import RandomForestRegressor,AdaBoostRegressor\n",
    "from sklearn.metrics import mean_absolute_error,mean_squared_error, r2_score\n",
    "from sklearn.svm import SVR\n",
    "from sklearn.linear_model import LinearRegression, Ridge,Lasso\n",
    "from sklearn.model_selection import RandomizedSearchCV\n",
    "from sklearn.neighbors import KNeighborsRegressor\n",
    "from sklearn.tree import DecisionTreeRegressor\n",
    "from catboost import CatBoostRegressor\n",
    "from xgboost import XGBRegressor,XGBRFRegressor\n",
    "import warnings\n",
    "from catboost import CatBoostRegressor\n",
    "from sklearn.ensemble import (\n",
    "    AdaBoostRegressor,\n",
    "    GradientBoostingRegressor,\n",
    "    RandomForestRegressor,\n",
    ")\n",
    "\n",
    "from sklearn.linear_model import LinearRegression\n",
    "from sklearn.metrics import r2_score\n",
    "from sklearn.neighbors import KNeighborsRegressor\n",
    "from sklearn.tree import DecisionTreeRegressor\n",
    "from xgboost import XGBRegressor\n",
    "from hyperopt import fmin,tpe,STATUS_OK,Trials,hp\n"
   ]
  },
  {
   "cell_type": "markdown",
   "metadata": {},
   "source": [
    "---"
   ]
  },
  {
   "cell_type": "markdown",
   "metadata": {},
   "source": [
    "### *A.*<br> <u>*Models Preparation :*</u>"
   ]
  },
  {
   "cell_type": "markdown",
   "metadata": {},
   "source": [
    "#### *A.1. <br> <u>Regression Models to use :*</u>"
   ]
  },
  {
   "cell_type": "code",
   "execution_count": 9,
   "metadata": {},
   "outputs": [],
   "source": [
    "models = {\n",
    "                \"Random Forest\": RandomForestRegressor(random_state=41),\n",
    "                \"Decision Tree\": DecisionTreeRegressor(random_state=41),\n",
    "                \"XGBRFRegressor\":XGBRFRegressor(random_state=41),\n",
    "                \"CatBoosting Regressor\": CatBoostRegressor(verbose=False,random_state=41),\n",
    "                \"AdaBoost Regressor\": AdaBoostRegressor(random_state=41),\n",
    "            }"
   ]
  },
  {
   "cell_type": "markdown",
   "metadata": {},
   "source": [
    "#### *A.2. <br> <u>Regression Models spaces preperartion to use in hyperopt :*</u>"
   ]
  },
  {
   "cell_type": "code",
   "execution_count": 10,
   "metadata": {},
   "outputs": [],
   "source": [
    "space_rf = {    \n",
    "    'max_depth': hp.choice('max_depth', range(3, 15)),\n",
    "    'n_estimators': hp.quniform('n_estimators', 50, 200, 1),\n",
    "    #'criterion': hp.choice('criterion', ['poisson', 'squared_error','friedman_mse','absolute_error']),\n",
    "    'min_samples_split': hp.uniform('min_samples_split', 0.1, 1.0),\n",
    "    'min_samples_leaf': hp.uniform('min_samples_leaf', 0.1, 0.5),\n",
    "    #'max_features': hp.choice('max_features',range(1, 4)),\n",
    "    'bootstrap': hp.choice('bootstrap', [True, False])\n",
    "    }\n",
    "\n",
    "\n",
    "space_dt = {\n",
    "    #'criterion': hp.choice('criterion', ['poisson', 'squared_error','friedman_mse','absolute_error']),\n",
    "    #'splitter': hp.choice('splitter', ['best', 'random']),\n",
    "    'max_depth': hp.choice('max_depth', range(3, 15)),\n",
    "    'min_samples_split': hp.uniform('min_samples_split', 0.1, 1.0),\n",
    "    'min_samples_leaf': hp.uniform('min_samples_leaf', 0.1, 0.5),\n",
    "    #'max_features': hp.choice('max_features',range(1, 4)),\n",
    "    }\n",
    "\n",
    "space_XGBRFRegressor = {\n",
    "  'n_estimators': hp.quniform('n_estimators', 50, 200, 1),\n",
    "    'learning_rate': hp.loguniform('learning_rate', -5, 0),\n",
    "    'max_depth': hp.choice('max_depth', range(3, 15)),\n",
    "    'min_child_weight': hp.quniform('min_child_weight', 1, 10, 1),\n",
    "    'subsample': hp.uniform('subsample', 0.5, 1.0),\n",
    "    'gamma': hp.uniform('gamma', 0, 1),\n",
    "    'colsample_bynode': hp.uniform('colsample_bynode', 0.5, 1.0),\n",
    "    'reg_alpha': hp.uniform('reg_alpha', 0, 1),\n",
    "    'reg_lambda': hp.uniform('reg_lambda', 0, 1),\n",
    "}\n",
    "\n",
    "space_catboost = {\n",
    "    'learning_rate': hp.loguniform('learning_rate', -5, 0),\n",
    "    'depth': hp.choice('depth', range(1, 12)),\n",
    "    'iterations': hp.choice('iterations', range(50, 200)),\n",
    "    'l2_leaf_reg': hp.uniform('l2_leaf_reg', 0.1, 10),\n",
    "    'border_count': hp.choice('border_count', [32, 64, 128, 256]),\n",
    "    'bagging_temperature': hp.uniform('bagging_temperature', 0, 1),\n",
    "    'random_strength': hp.uniform('random_strength', 0, 1),\n",
    "}\n",
    "   \n",
    "\n",
    "space_adaboost = {\n",
    "    'n_estimators': hp.choice('n_estimators', range(50, 200)),\n",
    "    'learning_rate': hp.loguniform('learning_rate', -5, 0)\n",
    "}\n"
   ]
  },
  {
   "cell_type": "markdown",
   "metadata": {},
   "source": [
    "---"
   ]
  },
  {
   "cell_type": "markdown",
   "metadata": {},
   "source": [
    "### *B. <br> <u>Data preparation:*</u>"
   ]
  },
  {
   "cell_type": "markdown",
   "metadata": {},
   "source": [
    "#### *B.1. <br> <u>LabelEncoding for categorical features :*</u>"
   ]
  },
  {
   "cell_type": "code",
   "execution_count": 11,
   "metadata": {},
   "outputs": [],
   "source": [
    "LabelEncoder_cat = LabelEncoder()\n",
    "for col in df5:\n",
    "    if col in [\"numclaims\",\"veh_body\",\"veh_age\",\"gender\",\"area\",\"agecat\"]:\n",
    "        df5[col]=LabelEncoder_cat.fit_transform(df5[col])"
   ]
  },
  {
   "cell_type": "markdown",
   "metadata": {},
   "source": [
    "#### *B.2. <br> <u>Define x & y features :*</u>"
   ]
  },
  {
   "cell_type": "code",
   "execution_count": 12,
   "metadata": {},
   "outputs": [],
   "source": [
    "x=df5.drop(\"frequincy\",axis=1)\n",
    "y=df5[\"frequincy\"]"
   ]
  },
  {
   "cell_type": "markdown",
   "metadata": {},
   "source": [
    "#### *B.3. <br> <u>data splitting (training & testing) :*</u>"
   ]
  },
  {
   "cell_type": "code",
   "execution_count": 13,
   "metadata": {},
   "outputs": [],
   "source": [
    "xtrain,xtest, ytrain, ytest = train_test_split(x, y, train_size=0.7, test_size=0.3,random_state=41)"
   ]
  },
  {
   "cell_type": "markdown",
   "metadata": {},
   "source": [
    "---"
   ]
  },
  {
   "cell_type": "markdown",
   "metadata": {},
   "source": [
    "### *C. <br> <u>Modelling:*</u>"
   ]
  },
  {
   "cell_type": "markdown",
   "metadata": {},
   "source": [
    "* *Note : Data scalling is not required as we are applying Tree -based models*"
   ]
  },
  {
   "cell_type": "markdown",
   "metadata": {},
   "source": [
    "#### *C.1 <br> <u>* *XGBRFRegression:*</u>"
   ]
  },
  {
   "cell_type": "code",
   "execution_count": 14,
   "metadata": {},
   "outputs": [],
   "source": [
    "def model_XGBRFRegressor(space_XGBRFRegressor):\n",
    "    mae_scores =[]\n",
    "    model_opt = Pipeline(\n",
    "        steps=[\n",
    "            #('preprocessor', preprocessor),\n",
    "            (\"XGBRFRegressor\",XGBRFRegressor(\n",
    "                n_estimators=int(space_XGBRFRegressor['n_estimators']),\n",
    "                learning_rate=float(space_XGBRFRegressor[\"learning_rate\"]), \n",
    "                max_depth=int(space_XGBRFRegressor['max_depth']),\n",
    "                min_child_weight=int(space_XGBRFRegressor['min_child_weight']),\n",
    "                subsample=float(space_XGBRFRegressor['subsample']),\n",
    "                gamma=float(space_XGBRFRegressor['gamma']),\n",
    "                colsample_bynode=float(space_XGBRFRegressor['colsample_bynode']),\n",
    "                reg_alpha=float(space_XGBRFRegressor['reg_alpha']),\n",
    "                reg_lambda=float(space_XGBRFRegressor['reg_lambda'])))                   \n",
    "                                    \n",
    "\n",
    "                                    ])\n",
    "                                  \n",
    "    model_opt.fit(xtrain,ytrain)\n",
    "    mae=mean_absolute_error(ytest,model_opt.predict(xtest))\n",
    "    mae_scores.append(mae)                         \n",
    "    mean_mae=np.mean(mae_scores)                          \n",
    "    return { \n",
    "           'loss': mean_mae,\n",
    "           'status': STATUS_OK\n",
    "            }"
   ]
  },
  {
   "cell_type": "code",
   "execution_count": 15,
   "metadata": {},
   "outputs": [],
   "source": [
    "def model_XGBRFRegressor_best(best_model_XGBRFRegressor):\n",
    "    y_XGBRFRegressor_best=[]\n",
    "    model_opt_best = Pipeline(\n",
    "        steps=[\n",
    "            #('preprocessor', preprocessor),\n",
    "            (\"XGBRFRegressor\",XGBRFRegressor(\n",
    "                n_estimators=int(best_model_XGBRFRegressor['n_estimators']),\n",
    "                learning_rate=float(best_model_XGBRFRegressor[\"learning_rate\"]), \n",
    "                max_depth=int(best_model_XGBRFRegressor['max_depth']),\n",
    "                min_child_weight=int(best_model_XGBRFRegressor['min_child_weight']),\n",
    "                subsample=float(best_model_XGBRFRegressor['subsample']),\n",
    "                gamma=float(best_model_XGBRFRegressor['gamma']),\n",
    "                colsample_bynode=float(best_model_XGBRFRegressor['colsample_bynode']),\n",
    "                reg_alpha=float(best_model_XGBRFRegressor['reg_alpha']),\n",
    "                reg_lambda=float(best_model_XGBRFRegressor['reg_lambda']))) \n",
    "                 \n",
    "                  ])\n",
    "    \n",
    "    model_opt_best.fit(xtrain,ytrain)    \n",
    "    y_pred = model_opt_best.predict(xtest)\n",
    "    y_XGBRFRegressor_best.append(y_pred)\n",
    "\n",
    "    score = mean_absolute_error(ytest, y_pred)\n",
    "    print('model_XGBRFRegressor_best MAE:', score)\n",
    "    score = r2_score(ytest, y_pred)*100\n",
    "    print(\" Accuracy of the model_XGBRFRegressor_best is %.2f\" %score) "
   ]
  },
  {
   "cell_type": "code",
   "execution_count": 16,
   "metadata": {},
   "outputs": [
    {
     "name": "stdout",
     "output_type": "stream",
     "text": [
      "  0%|          | 0/10 [00:00<?, ?trial/s, best loss=?]"
     ]
    },
    {
     "name": "stdout",
     "output_type": "stream",
     "text": [
      "100%|██████████| 10/10 [00:07<00:00,  1.28trial/s, best loss: 0.05729530397451784]\n",
      "model_XGBRFRegressor_best MAE: 0.1186106713763616\n",
      " Accuracy of the model_XGBRFRegressor_best is 88.75\n"
     ]
    }
   ],
   "source": [
    "best_model_XGBRFRegressor = fmin(fn=model_XGBRFRegressor, space=space_XGBRFRegressor, algo=tpe.suggest, max_evals=10)\n",
    "model_XGBRFRegressor_best(best_model_XGBRFRegressor)"
   ]
  },
  {
   "cell_type": "markdown",
   "metadata": {},
   "source": [
    "---"
   ]
  },
  {
   "cell_type": "markdown",
   "metadata": {},
   "source": [
    "#### *C.2 <br> <u>* *RandomForestRegressor:*</u>"
   ]
  },
  {
   "cell_type": "code",
   "execution_count": 65,
   "metadata": {},
   "outputs": [],
   "source": [
    "def model_rf(space_rf):\n",
    "    model_opt = Pipeline(\n",
    "        steps=[\n",
    "            #('preprocessor', preprocessor),\n",
    "            (\"RandomForestRegressor\",RandomForestRegressor(\n",
    "                                    n_estimators=int(space_rf['n_estimators']),\n",
    "                                    max_depth=int(space_rf[\"max_depth\"]),                                                     \n",
    "                                    #criterion=str(space_rf['criterion']),\n",
    "                                    min_samples_split=float(space_rf['min_samples_split']),\n",
    "                                    min_samples_leaf=float(space_rf['min_samples_leaf']),\n",
    "                                    #max_features=int(space_rf['max_features']),\n",
    "                                    bootstrap=int(space_rf['bootstrap'])\n",
    "                                    ))\n",
    "\n",
    "                                    ])\n",
    "                                                 \n",
    "                                  \n",
    "    model_opt.fit(xtrain,ytrain)\n",
    "    mae_scores =[]\n",
    "    mae=mean_absolute_error(ytest,model_opt.predict(xtest))\n",
    "    mae_scores.append(mae)                         \n",
    "    mean_mae=np.mean(mae_scores)                          \n",
    "    return { \n",
    "           'loss': mean_mae,\n",
    "           'status': STATUS_OK\n",
    "            }  "
   ]
  },
  {
   "cell_type": "code",
   "execution_count": 66,
   "metadata": {},
   "outputs": [],
   "source": [
    "def model_rf_best(best_model_rf):\n",
    "    y_RandomForestRegressor_best=[]\n",
    "    model_opt_best = Pipeline(\n",
    "        steps=[\n",
    "            #('preprocessor', preprocessor),\n",
    "            (\"RandomForestRegressor\",RandomForestRegressor(\n",
    "                                    n_estimators=int(best_model_rf['n_estimators']),\n",
    "                                    max_depth=int(best_model_rf[\"max_depth\"]),                                                     \n",
    "                                    #criterion=str(best_model_rf['criterion']),\n",
    "                                    min_samples_split=float(best_model_rf['min_samples_split']),\n",
    "                                    min_samples_leaf=float(best_model_rf['min_samples_leaf']),\n",
    "                                    #max_features=int(best_model_rf['max_features']),\n",
    "                                    bootstrap=int(best_model_rf['bootstrap'])\n",
    "                                    ))\n",
    "\n",
    "                                    ]).fit(xtrain,ytrain)  \n",
    "    \n",
    "    y_pred = model_opt_best.predict(xtest)\n",
    "    y_RandomForestRegressor_best.append(y_pred)\n",
    "\n",
    "    score = mean_absolute_error(ytest, y_pred)\n",
    "    print('model_rf_best MAE:', score)\n",
    "    score = r2_score(ytest, y_pred)*100\n",
    "    print(\" Accuracy of the model_rf_best is %.2f\" %score) "
   ]
  },
  {
   "cell_type": "code",
   "execution_count": 67,
   "metadata": {},
   "outputs": [
    {
     "name": "stdout",
     "output_type": "stream",
     "text": [
      "  0%|          | 0/10 [00:00<?, ?trial/s, best loss=?]"
     ]
    },
    {
     "name": "stdout",
     "output_type": "stream",
     "text": [
      "100%|██████████| 10/10 [00:08<00:00,  1.15trial/s, best loss: 0.39331892932520185]\n",
      "model_rf_best MAE: 0.40162574136776885\n",
      " Accuracy of the model_rf_best is 0.08\n"
     ]
    }
   ],
   "source": [
    "best_model_rf = fmin(fn=model_rf, space=space_rf, algo=tpe.suggest, max_evals=10)\n",
    "model_rf_best(best_model_rf)"
   ]
  },
  {
   "cell_type": "markdown",
   "metadata": {},
   "source": [
    "---"
   ]
  },
  {
   "cell_type": "markdown",
   "metadata": {},
   "source": [
    "#### *C.3 <br> <u>* *DecisionTreeRegressor:*</u>"
   ]
  },
  {
   "cell_type": "code",
   "execution_count": 68,
   "metadata": {},
   "outputs": [],
   "source": [
    "def model_DT(space_dt):\n",
    "    model_opt = Pipeline(\n",
    "        steps=[\n",
    "            #('preprocessor', preprocessor),\n",
    "            (\"DecisionTreeRegressor\",DecisionTreeRegressor(\n",
    "                                    #criterion=str(space_dt['criterion']),\n",
    "                                    #splitter=str(space_dt[\"splitter\"]),                                           \n",
    "                                    max_depth=int(space_dt['max_depth']),\n",
    "                                    min_samples_split=float(space_dt['min_samples_split']),\n",
    "                                    min_samples_leaf=float(space_dt['min_samples_leaf']),\n",
    "                                    #max_features=int(space_dt['max_features'])\n",
    "                                    ))\n",
    "\n",
    "                                    ])\n",
    "\n",
    "                                  \n",
    "    model_opt.fit(xtrain,ytrain)\n",
    "    mae_scores =[]\n",
    "    mae=mean_absolute_error(ytest,model_opt.predict(xtest))\n",
    "    mae_scores.append(mae)                         \n",
    "    mean_mae=np.mean(mae_scores)                          \n",
    "    return { \n",
    "           'loss': mean_mae,\n",
    "           'status': STATUS_OK\n",
    "            } \n"
   ]
  },
  {
   "cell_type": "code",
   "execution_count": 69,
   "metadata": {},
   "outputs": [],
   "source": [
    "def model_DT_best(best_model_DT):\n",
    "    y_DT_best=[]\n",
    "    model_opt_best = Pipeline(\n",
    "        steps=[\n",
    "            #('preprocessor', preprocessor),\n",
    "            (\"DecisionTreeRegressor\",DecisionTreeRegressor(\n",
    "                                    #criterion=str(best_model_DT['criterion']),\n",
    "                                    #splitter=str(best_model_DT[\"splitter\"]),                                           \n",
    "                                    max_depth=int(best_model_DT['max_depth']),\n",
    "                                    min_samples_split=float(best_model_DT['min_samples_split']),\n",
    "                                    min_samples_leaf=float(best_model_DT['min_samples_leaf'])\n",
    "                                    #max_features=int(best_model_DT['max_features'])\n",
    "                                    ))])\n",
    "\n",
    "\n",
    "    model_opt_best.fit(xtrain,ytrain)    \n",
    "    y_pred = model_opt_best.predict(xtest)\n",
    "    y_DT_best.append(y_pred)\n",
    "\n",
    "    score = mean_absolute_error(ytest, y_pred)\n",
    "    print('DecisionTreeRegressor MAE:', score)\n",
    "    score = r2_score(ytest, y_pred)*100\n",
    "    print(\" Accuracy of the model_DecisionTreeRegressor_best is %.2f\" %score)                                \n",
    "    "
   ]
  },
  {
   "cell_type": "code",
   "execution_count": 70,
   "metadata": {},
   "outputs": [
    {
     "name": "stdout",
     "output_type": "stream",
     "text": [
      "100%|██████████| 10/10 [00:00<00:00, 33.44trial/s, best loss: 0.40035929716301116]\n",
      "DecisionTreeRegressor MAE: 0.4003592971630117\n",
      " Accuracy of the model_DecisionTreeRegressor_best is 0.07\n"
     ]
    }
   ],
   "source": [
    "best_model_DT = fmin(fn=model_DT, space=space_dt, algo=tpe.suggest, max_evals=10)\n",
    "model_DT_best(best_model_DT)"
   ]
  },
  {
   "cell_type": "markdown",
   "metadata": {},
   "source": [
    "---"
   ]
  },
  {
   "cell_type": "markdown",
   "metadata": {},
   "source": [
    "#### *C.4 <br> <u>* *CatBoostRegressor:*</u>"
   ]
  },
  {
   "cell_type": "code",
   "execution_count": 72,
   "metadata": {},
   "outputs": [],
   "source": [
    "def model_catboost(space_catboost):\n",
    "    model_opt = Pipeline(\n",
    "        steps=[\n",
    "            #('preprocessor', preprocessor),\n",
    "            (\"CatBoostRegressor\",CatBoostRegressor(\n",
    "                                    learning_rate=float(space_catboost['learning_rate']),\n",
    "                                    depth=int(space_catboost[\"depth\"]),                                                       \n",
    "                                    iterations=int(space_catboost['iterations']),\n",
    "                                    l2_leaf_reg=float(space_catboost['l2_leaf_reg']),\n",
    "                                    border_count=int(space_catboost['border_count']),\n",
    "                                    bagging_temperature=float(space_catboost['bagging_temperature']),\n",
    "                                    random_strength=float(space_catboost['random_strength'])\n",
    "                                    ))\n",
    "\n",
    "                                    ])\n",
    "                                              \n",
    "                                  \n",
    "    model_opt.fit(xtrain,ytrain)\n",
    "    mae_scores =[]\n",
    "    mae=mean_absolute_error(ytest,model_opt.predict(xtest))\n",
    "    mae_scores.append(mae)                         \n",
    "    mean_mae=np.mean(mae_scores)                          \n",
    "    return { \n",
    "           'loss': mean_mae,\n",
    "           'status': STATUS_OK\n",
    "            } "
   ]
  },
  {
   "cell_type": "code",
   "execution_count": 73,
   "metadata": {},
   "outputs": [],
   "source": [
    "def model_catboost_best(best_space_catboost):\n",
    "    y_catboost_best=[]\n",
    "    model_opt_best = Pipeline(\n",
    "        steps=[\n",
    "            #('preprocessor', preprocessor),\n",
    "            (\"CatBoostRegressor\",CatBoostRegressor(\n",
    "                                    learning_rate=float(best_space_catboost['learning_rate']),\n",
    "                                    depth=int(best_space_catboost[\"depth\"]),                                                       \n",
    "                                    iterations=int(best_space_catboost['iterations']),\n",
    "                                    l2_leaf_reg=float(best_space_catboost['l2_leaf_reg']),\n",
    "                                    border_count=int(best_space_catboost['border_count']),\n",
    "                                    bagging_temperature=float(best_space_catboost['bagging_temperature']),\n",
    "                                    random_strength=float(best_space_catboost['random_strength'])))\n",
    "                                    ])\n",
    "    \n",
    "\n",
    "    model_opt_best.fit(xtrain,ytrain)    \n",
    "    y_pred = model_opt_best.predict(xtest)\n",
    "    y_catboost_best.append(y_pred)\n",
    "\n",
    "    score = mean_absolute_error(ytest, y_pred)\n",
    "    print('catboost MAE:', score)\n",
    "    score = r2_score(ytest, y_pred)*100\n",
    "    print(\" Accuracy of the y_catboost_best is %.2f\" %score)  "
   ]
  },
  {
   "cell_type": "code",
   "execution_count": null,
   "metadata": {},
   "outputs": [],
   "source": [
    "best_model_catboost = fmin(fn=model_catboost, space=space_catboost, algo=tpe.suggest, max_evals=10)"
   ]
  },
  {
   "cell_type": "code",
   "execution_count": 77,
   "metadata": {},
   "outputs": [
    {
     "name": "stdout",
     "output_type": "stream",
     "text": [
      "0:\tlearn: 3.0286435\ttotal: 8.27ms\tremaining: 678ms\n",
      "1:\tlearn: 2.9852209\ttotal: 13.2ms\tremaining: 536ms\n",
      "2:\tlearn: 2.9477705\ttotal: 19.9ms\tremaining: 530ms\n",
      "3:\tlearn: 2.9235296\ttotal: 26.7ms\tremaining: 528ms\n",
      "4:\tlearn: 2.9101672\ttotal: 31ms\tremaining: 483ms\n",
      "5:\tlearn: 2.9012990\ttotal: 34.9ms\tremaining: 448ms\n",
      "6:\tlearn: 2.8954848\ttotal: 38.6ms\tremaining: 419ms\n",
      "7:\tlearn: 2.8863139\ttotal: 45.1ms\tremaining: 423ms\n",
      "8:\tlearn: 2.8837235\ttotal: 48.7ms\tremaining: 401ms\n",
      "9:\tlearn: 2.8787301\ttotal: 55.4ms\tremaining: 404ms\n",
      "10:\tlearn: 2.8775749\ttotal: 58.9ms\tremaining: 385ms\n",
      "11:\tlearn: 2.8735703\ttotal: 65.5ms\tremaining: 388ms\n",
      "12:\tlearn: 2.8710252\ttotal: 72.3ms\tremaining: 389ms\n",
      "13:\tlearn: 2.8689418\ttotal: 78.8ms\tremaining: 388ms\n",
      "14:\tlearn: 2.8670583\ttotal: 85.2ms\tremaining: 386ms\n",
      "15:\tlearn: 2.8656850\ttotal: 91.7ms\tremaining: 384ms\n",
      "16:\tlearn: 2.8655770\ttotal: 95.2ms\tremaining: 370ms\n",
      "17:\tlearn: 2.8655228\ttotal: 99.3ms\tremaining: 359ms\n",
      "18:\tlearn: 2.8654652\ttotal: 103ms\tremaining: 346ms\n",
      "19:\tlearn: 2.8654485\ttotal: 106ms\tremaining: 333ms\n",
      "20:\tlearn: 2.8643739\ttotal: 114ms\tremaining: 336ms\n",
      "21:\tlearn: 2.8643663\ttotal: 117ms\tremaining: 324ms\n",
      "22:\tlearn: 2.8643610\ttotal: 120ms\tremaining: 313ms\n",
      "23:\tlearn: 2.8633186\ttotal: 127ms\tremaining: 312ms\n",
      "24:\tlearn: 2.8633163\ttotal: 130ms\tremaining: 301ms\n",
      "25:\tlearn: 2.8632154\ttotal: 134ms\tremaining: 294ms\n",
      "26:\tlearn: 2.8620501\ttotal: 141ms\tremaining: 292ms\n",
      "27:\tlearn: 2.8620296\ttotal: 146ms\tremaining: 286ms\n",
      "28:\tlearn: 2.8613659\ttotal: 152ms\tremaining: 283ms\n",
      "29:\tlearn: 2.8607709\ttotal: 159ms\tremaining: 281ms\n",
      "30:\tlearn: 2.8607650\ttotal: 163ms\tremaining: 274ms\n",
      "31:\tlearn: 2.8600131\ttotal: 170ms\tremaining: 271ms\n",
      "32:\tlearn: 2.8600100\ttotal: 174ms\tremaining: 263ms\n",
      "33:\tlearn: 2.8600091\ttotal: 178ms\tremaining: 256ms\n",
      "34:\tlearn: 2.8600091\ttotal: 181ms\tremaining: 248ms\n",
      "35:\tlearn: 2.8600091\ttotal: 184ms\tremaining: 240ms\n",
      "36:\tlearn: 2.8594957\ttotal: 190ms\tremaining: 237ms\n",
      "37:\tlearn: 2.8594956\ttotal: 194ms\tremaining: 230ms\n",
      "38:\tlearn: 2.8594947\ttotal: 197ms\tremaining: 223ms\n",
      "39:\tlearn: 2.8591290\ttotal: 205ms\tremaining: 220ms\n"
     ]
    },
    {
     "name": "stdout",
     "output_type": "stream",
     "text": [
      "40:\tlearn: 2.8591290\ttotal: 208ms\tremaining: 214ms\n",
      "41:\tlearn: 2.8590938\ttotal: 214ms\tremaining: 209ms\n",
      "42:\tlearn: 2.8590938\ttotal: 217ms\tremaining: 202ms\n",
      "43:\tlearn: 2.8590938\ttotal: 220ms\tremaining: 195ms\n",
      "44:\tlearn: 2.8590937\ttotal: 223ms\tremaining: 188ms\n",
      "45:\tlearn: 2.8587114\ttotal: 229ms\tremaining: 184ms\n",
      "46:\tlearn: 2.8587114\ttotal: 232ms\tremaining: 178ms\n",
      "47:\tlearn: 2.8587113\ttotal: 235ms\tremaining: 171ms\n",
      "48:\tlearn: 2.8587113\ttotal: 238ms\tremaining: 165ms\n",
      "49:\tlearn: 2.8587000\ttotal: 243ms\tremaining: 160ms\n",
      "50:\tlearn: 2.8587000\ttotal: 246ms\tremaining: 154ms\n",
      "51:\tlearn: 2.8587000\ttotal: 249ms\tremaining: 148ms\n",
      "52:\tlearn: 2.8584077\ttotal: 255ms\tremaining: 144ms\n",
      "53:\tlearn: 2.8584076\ttotal: 259ms\tremaining: 139ms\n",
      "54:\tlearn: 2.8584074\ttotal: 262ms\tremaining: 133ms\n",
      "55:\tlearn: 2.8584074\ttotal: 265ms\tremaining: 128ms\n",
      "56:\tlearn: 2.8581871\ttotal: 271ms\tremaining: 124ms\n",
      "57:\tlearn: 2.8581871\ttotal: 274ms\tremaining: 118ms\n",
      "58:\tlearn: 2.8581865\ttotal: 278ms\tremaining: 113ms\n",
      "59:\tlearn: 2.8579532\ttotal: 285ms\tremaining: 109ms\n",
      "60:\tlearn: 2.8579531\ttotal: 288ms\tremaining: 104ms\n",
      "61:\tlearn: 2.8576705\ttotal: 295ms\tremaining: 99.8ms\n",
      "62:\tlearn: 2.8576702\ttotal: 300ms\tremaining: 95.2ms\n",
      "63:\tlearn: 2.8576702\ttotal: 304ms\tremaining: 90.2ms\n",
      "64:\tlearn: 2.8572984\ttotal: 310ms\tremaining: 85.9ms\n",
      "65:\tlearn: 2.8572984\ttotal: 314ms\tremaining: 80.8ms\n",
      "66:\tlearn: 2.8570012\ttotal: 320ms\tremaining: 76.4ms\n",
      "67:\tlearn: 2.8567982\ttotal: 327ms\tremaining: 72.1ms\n",
      "68:\tlearn: 2.8565387\ttotal: 333ms\tremaining: 67.6ms\n",
      "69:\tlearn: 2.8563869\ttotal: 340ms\tremaining: 63.1ms\n",
      "70:\tlearn: 2.8561803\ttotal: 346ms\tremaining: 58.5ms\n",
      "71:\tlearn: 2.8561803\ttotal: 350ms\tremaining: 53.4ms\n",
      "72:\tlearn: 2.8561803\ttotal: 353ms\tremaining: 48.3ms\n",
      "73:\tlearn: 2.8559987\ttotal: 359ms\tremaining: 43.7ms\n",
      "74:\tlearn: 2.8558876\ttotal: 366ms\tremaining: 39ms\n",
      "75:\tlearn: 2.8557297\ttotal: 373ms\tremaining: 34.3ms\n",
      "76:\tlearn: 2.8556456\ttotal: 380ms\tremaining: 29.6ms\n",
      "77:\tlearn: 2.8555396\ttotal: 387ms\tremaining: 24.8ms\n",
      "78:\tlearn: 2.8554267\ttotal: 396ms\tremaining: 20.1ms\n",
      "79:\tlearn: 2.8553269\ttotal: 404ms\tremaining: 15.1ms\n",
      "80:\tlearn: 2.8552458\ttotal: 411ms\tremaining: 10.2ms\n",
      "81:\tlearn: 2.8551823\ttotal: 460ms\tremaining: 5.61ms\n",
      "82:\tlearn: 2.8551309\ttotal: 479ms\tremaining: 0us\n",
      "catboost MAE: 0.14606267690147703\n",
      " Accuracy of the y_catboost_best is 11.65\n"
     ]
    }
   ],
   "source": [
    "model_catboost_best(best_model_catboost)"
   ]
  },
  {
   "cell_type": "markdown",
   "metadata": {},
   "source": [
    "---"
   ]
  },
  {
   "cell_type": "markdown",
   "metadata": {},
   "source": [
    "#### *C.5 <br> <u>* *AdaBoostRegressor:*</u>"
   ]
  },
  {
   "cell_type": "code",
   "execution_count": 90,
   "metadata": {},
   "outputs": [],
   "source": [
    "def model_adaboost(space_adaboost):\n",
    "    model_opt = Pipeline(\n",
    "        steps=[\n",
    "            #('preprocessor', preprocessor),\n",
    "            (\"AdaBoostRegressor\",AdaBoostRegressor(\n",
    "                                    n_estimators=int(space_adaboost['n_estimators']),\n",
    "                                    learning_rate=float(space_adaboost[\"learning_rate\"])\n",
    "    \n",
    "                                    ))\n",
    "\n",
    "                                    ])\n",
    "\n",
    "                                  \n",
    "    model_opt.fit(xtrain,ytrain)\n",
    "    mae_scores =[]\n",
    "    mae=mean_absolute_error(ytest,model_opt.predict(xtest))\n",
    "    mae_scores.append(mae)                         \n",
    "    mean_mae=np.mean(mae_scores)                          \n",
    "    return { \n",
    "           'loss': mean_mae,\n",
    "           'status': STATUS_OK\n",
    "            } "
   ]
  },
  {
   "cell_type": "code",
   "execution_count": 91,
   "metadata": {},
   "outputs": [],
   "source": [
    "def model_adaboost_best(best_space_adaboost):\n",
    "    y_adaboost_best=[]\n",
    "    model_opt_best = Pipeline(\n",
    "        steps=[\n",
    "            #('preprocessor', preprocessor),\n",
    "            (\"AdaBoostRegressor\",AdaBoostRegressor(\n",
    "                                    n_estimators=int(best_space_adaboost['n_estimators']),\n",
    "                                    learning_rate=float(best_space_adaboost[\"learning_rate\"])\n",
    "                                    ))])\n",
    "    \n",
    "\n",
    "    model_opt_best.fit(xtrain,ytrain)    \n",
    "    y_pred = model_opt_best.predict(xtest)\n",
    "    y_adaboost_best.append(y_pred)\n",
    "\n",
    "    score = mean_absolute_error(ytest, y_pred)\n",
    "    print('adaboost MAE:', score)\n",
    "    score = r2_score(ytest, y_pred)*100\n",
    "    print(\" Accuracy of the y_adaboost_best is %.2f\" %score)  "
   ]
  },
  {
   "cell_type": "code",
   "execution_count": 92,
   "metadata": {},
   "outputs": [
    {
     "name": "stdout",
     "output_type": "stream",
     "text": [
      "  0%|          | 0/10 [00:00<?, ?trial/s, best loss=?]"
     ]
    },
    {
     "name": "stdout",
     "output_type": "stream",
     "text": [
      "100%|██████████| 10/10 [00:48<00:00,  4.80s/trial, best loss: 0.10276112987723858]\n",
      "adaboost MAE: 0.5102813697043628\n",
      " Accuracy of the y_adaboost_best is 68.98\n"
     ]
    }
   ],
   "source": [
    "best_model_adaboost = fmin(fn=model_adaboost, space=space_adaboost, algo=tpe.suggest, max_evals=10)\n",
    "model_adaboost_best(best_model_adaboost)"
   ]
  },
  {
   "cell_type": "markdown",
   "metadata": {},
   "source": [
    "---"
   ]
  },
  {
   "cell_type": "markdown",
   "metadata": {},
   "source": [
    "### *D <br> <u>* *running Results:*</u>"
   ]
  },
  {
   "cell_type": "markdown",
   "metadata": {},
   "source": [
    "### *D.1 <br> <u>* *best Results:*</u>"
   ]
  },
  {
   "cell_type": "markdown",
   "metadata": {},
   "source": [
    "---"
   ]
  },
  {
   "cell_type": "code",
   "execution_count": 17,
   "metadata": {},
   "outputs": [
    {
     "name": "stdout",
     "output_type": "stream",
     "text": [
      "0.1186106713763616\n",
      " r2_score of the model is 88.75\n"
     ]
    }
   ],
   "source": [
    "y_XGBRFRegressor_model_best=[]\n",
    "XGBRFRegressor_model = XGBRFRegressor(\n",
    "                n_estimators=int(best_model_XGBRFRegressor['n_estimators']),\n",
    "                learning_rate=float(best_model_XGBRFRegressor[\"learning_rate\"]), \n",
    "                max_depth=int(best_model_XGBRFRegressor['max_depth']),\n",
    "                min_child_weight=int(best_model_XGBRFRegressor['min_child_weight']),\n",
    "                subsample=float(best_model_XGBRFRegressor['subsample']),\n",
    "                gamma=float(best_model_XGBRFRegressor['gamma']),\n",
    "                colsample_bynode=float(best_model_XGBRFRegressor['colsample_bynode']),\n",
    "                reg_alpha=float(best_model_XGBRFRegressor['reg_alpha']),\n",
    "                reg_lambda=float(best_model_XGBRFRegressor['reg_lambda']))\n",
    "\n",
    "                                                                               \n",
    "XGBRFRegressor_model.fit(xtrain,ytrain)\n",
    "mae_result=mean_absolute_error(ytest,XGBRFRegressor_model.predict(xtest))\n",
    "y_pred=XGBRFRegressor_model.predict(xtest)\n",
    "y_XGBRFRegressor_model_best.append(y_pred)\n",
    "print(mae_result)\n",
    "score = r2_score(ytest, y_pred)*100\n",
    "print(\" r2_score of the model is %.2f\" %score)"
   ]
  },
  {
   "cell_type": "code",
   "execution_count": 18,
   "metadata": {},
   "outputs": [
    {
     "data": {
      "image/png": "[encoded data removed]",
      "text/plain": [
       "<Figure size 2000x1000 with 2 Axes>"
      ]
     },
     "metadata": {},
     "output_type": "display_data"
    }
   ],
   "source": [
    "plt.subplot(221)\n",
    "plt.scatter(ytest,y_pred);\n",
    "\n",
    "plt.xlabel('Actual');\n",
    "plt.ylabel('frequency');\n",
    "\n",
    "plt.subplot(222)\n",
    "sns.regplot(x=ytest,y=y_pred,ci=None,color ='red');"
   ]
  },
  {
   "cell_type": "code",
   "execution_count": 19,
   "metadata": {},
   "outputs": [],
   "source": [
    "importance=pd.concat([pd.DataFrame(XGBRFRegressor_model.feature_names_in_,columns=[\"feature_names\"]),\n",
    "           pd.DataFrame(XGBRFRegressor_model.feature_importances_,columns=[\"feature_importances\"])],axis=1)"
   ]
  },
  {
   "cell_type": "code",
   "execution_count": 20,
   "metadata": {},
   "outputs": [
    {
     "data": {
      "image/png": "[encoded data removed]",
      "text/plain": [
       "<Figure size 2000x700 with 1 Axes>"
      ]
     },
     "metadata": {},
     "output_type": "display_data"
    }
   ],
   "source": [
    "matplotlib.rcParams[\"figure.figsize\"]=(20,7)\n",
    "ax=sns.barplot(x=np.round(importance[\"feature_importances\"],3),y=importance[\"feature_names\"])\n",
    "plt.title('Features importance for Frequency feature')\n",
    "ax.bar_label(ax.containers[0]);"
   ]
  },
  {
   "cell_type": "code",
   "execution_count": 21,
   "metadata": {},
   "outputs": [],
   "source": [
    "import pickle\n",
    "with open (\"C:/Users/Omar/Desktop/Omar_Files/Python_Analysis/Auto_Insurance/final_models/Frequency_final_model.pkl\",\"wb\") as f:\n",
    "    pickle.dump(XGBRFRegressor_model,f)"
   ]
  },
  {
   "cell_type": "code",
   "execution_count": 24,
   "metadata": {},
   "outputs": [],
   "source": [
    "import joblib\n",
    "with open (\"C:/Users/Omar/Desktop/Omar_Files/Python_Analysis/Auto_Insurance/final_models/Frequency_final_model_joblib.joblib\",\"wb\") as f:\n",
    "    pickle.dump(XGBRFRegressor_model,f)"
   ]
  },
  {
   "cell_type": "markdown",
   "metadata": {},
   "source": [
    "---"
   ]
  }
 ],
 "metadata": {
  "kernelspec": {
   "display_name": "Python 3",
   "language": "python",
   "name": "python3"
  },
  "language_info": {
   "codemirror_mode": {
    "name": "ipython",
    "version": 3
   },
   "file_extension": ".py",
   "mimetype": "text/x-python",
   "name": "python",
   "nbconvert_exporter": "python",
   "pygments_lexer": "ipython3",
   "version": "3.10.8"
  }
 },
 "nbformat": 4,
 "nbformat_minor": 2
}
