{
 "cells": [
  {
   "cell_type": "markdown",
   "metadata": {},
   "source": [
    "## <u>*Regression Modelling for Pure Premium as a Target Feature*</u>"
   ]
  },
  {
   "cell_type": "code",
   "execution_count": 2,
   "metadata": {},
   "outputs": [],
   "source": [
    "import pandas as pd\n",
    "import numpy as np\n",
    "from matplotlib import pyplot as plt\n",
    "%matplotlib inline\n",
    "import matplotlib\n",
    "matplotlib.rcParams[\"figure.figsize\"]=(20,10)\n",
    "import seaborn as sns;sns.set()\n",
    "import warnings\n",
    "warnings.filterwarnings('ignore')\n",
    "import plotly.express as px\n",
    "from datetime import datetime,time\n",
    "import os"
   ]
  },
  {
   "cell_type": "code",
   "execution_count": 3,
   "metadata": {
    "slideshow": {
     "slide_type": "fragment"
    }
   },
   "outputs": [],
   "source": [
    "df=pd.read_csv(r\"C:/Users/Omar/Desktop/Omar_Files/Python_Analysis/Auto_Insurance/Data_Sets/new_cleaned_df.csv\")"
   ]
  },
  {
   "cell_type": "code",
   "execution_count": 4,
   "metadata": {},
   "outputs": [],
   "source": [
    "df.drop([\"clm\"],axis=1,inplace=True)"
   ]
  },
  {
   "cell_type": "code",
   "execution_count": 5,
   "metadata": {},
   "outputs": [],
   "source": [
    "from sklearn.metrics import mean_squared_error,mean_absolute_percentage_error,r2_score,mean_absolute_error,accuracy_score,root_mean_squared_error\n",
    "from sklearn.ensemble import RandomForestRegressor,GradientBoostingRegressor,AdaBoostRegressor\n",
    "from sklearn.tree import DecisionTreeRegressor\n",
    "import xgboost as xgb\n",
    "from xgboost import XGBRFRegressor\n",
    "import graphviz\n",
    "from sklearn.linear_model import LinearRegression\n",
    "from sklearn.svm import SVR\n",
    "from sklearn.model_selection import train_test_split, GridSearchCV,RandomizedSearchCV,cross_val_score,KFold\n",
    "import warnings                                  \n",
    "warnings.filterwarnings('ignore')\n",
    "from sklearn.preprocessing import LabelEncoder,StandardScaler\n",
    "from tqdm import tqdm"
   ]
  },
  {
   "cell_type": "markdown",
   "metadata": {},
   "source": [
    "---"
   ]
  },
  {
   "cell_type": "markdown",
   "metadata": {},
   "source": [
    "*Date preprocessing*"
   ]
  },
  {
   "cell_type": "code",
   "execution_count": 6,
   "metadata": {},
   "outputs": [],
   "source": [
    "categories_encoder=LabelEncoder()\n",
    "for col in df:\n",
    "    if col in list(df.select_dtypes(include=\"object\").columns):\n",
    "        df[col]=categories_encoder.fit_transform(df[col])"
   ]
  },
  {
   "cell_type": "code",
   "execution_count": 7,
   "metadata": {},
   "outputs": [
    {
     "data": {
      "text/html": [
       "<div>\n",
       "<style scoped>\n",
       "    .dataframe tbody tr th:only-of-type {\n",
       "        vertical-align: middle;\n",
       "    }\n",
       "\n",
       "    .dataframe tbody tr th {\n",
       "        vertical-align: top;\n",
       "    }\n",
       "\n",
       "    .dataframe thead th {\n",
       "        text-align: right;\n",
       "    }\n",
       "</style>\n",
       "<table border=\"1\" class=\"dataframe\">\n",
       "  <thead>\n",
       "    <tr style=\"text-align: right;\">\n",
       "      <th></th>\n",
       "      <th>veh_value</th>\n",
       "      <th>exposure</th>\n",
       "      <th>numclaims</th>\n",
       "      <th>claimcst0</th>\n",
       "      <th>veh_body</th>\n",
       "      <th>veh_age</th>\n",
       "      <th>gender</th>\n",
       "      <th>area</th>\n",
       "      <th>agecat</th>\n",
       "      <th>severity</th>\n",
       "      <th>frequincy</th>\n",
       "      <th>pure_premium</th>\n",
       "    </tr>\n",
       "  </thead>\n",
       "  <tbody>\n",
       "    <tr>\n",
       "      <th>14</th>\n",
       "      <td>1660.0</td>\n",
       "      <td>0.48</td>\n",
       "      <td>1</td>\n",
       "      <td>669.509999</td>\n",
       "      <td>9</td>\n",
       "      <td>3</td>\n",
       "      <td>1</td>\n",
       "      <td>1</td>\n",
       "      <td>6</td>\n",
       "      <td>670.0</td>\n",
       "      <td>2.06</td>\n",
       "      <td>1382.0</td>\n",
       "    </tr>\n",
       "    <tr>\n",
       "      <th>16</th>\n",
       "      <td>1510.0</td>\n",
       "      <td>0.99</td>\n",
       "      <td>1</td>\n",
       "      <td>806.609999</td>\n",
       "      <td>9</td>\n",
       "      <td>3</td>\n",
       "      <td>0</td>\n",
       "      <td>5</td>\n",
       "      <td>4</td>\n",
       "      <td>807.0</td>\n",
       "      <td>1.01</td>\n",
       "      <td>812.0</td>\n",
       "    </tr>\n",
       "    <tr>\n",
       "      <th>17</th>\n",
       "      <td>760.0</td>\n",
       "      <td>0.54</td>\n",
       "      <td>1</td>\n",
       "      <td>401.805451</td>\n",
       "      <td>3</td>\n",
       "      <td>3</td>\n",
       "      <td>1</td>\n",
       "      <td>2</td>\n",
       "      <td>4</td>\n",
       "      <td>402.0</td>\n",
       "      <td>1.85</td>\n",
       "      <td>745.0</td>\n",
       "    </tr>\n",
       "    <tr>\n",
       "      <th>40</th>\n",
       "      <td>1890.0</td>\n",
       "      <td>0.65</td>\n",
       "      <td>2</td>\n",
       "      <td>1811.709997</td>\n",
       "      <td>10</td>\n",
       "      <td>3</td>\n",
       "      <td>1</td>\n",
       "      <td>5</td>\n",
       "      <td>2</td>\n",
       "      <td>906.0</td>\n",
       "      <td>3.06</td>\n",
       "      <td>2769.0</td>\n",
       "    </tr>\n",
       "    <tr>\n",
       "      <th>64</th>\n",
       "      <td>4060.0</td>\n",
       "      <td>0.85</td>\n",
       "      <td>1</td>\n",
       "      <td>5434.439987</td>\n",
       "      <td>10</td>\n",
       "      <td>2</td>\n",
       "      <td>1</td>\n",
       "      <td>5</td>\n",
       "      <td>3</td>\n",
       "      <td>5434.0</td>\n",
       "      <td>1.17</td>\n",
       "      <td>6382.0</td>\n",
       "    </tr>\n",
       "  </tbody>\n",
       "</table>\n",
       "</div>"
      ],
      "text/plain": [
       "    veh_value  exposure  numclaims    claimcst0  veh_body  veh_age  gender  \\\n",
       "14     1660.0      0.48          1   669.509999         9        3       1   \n",
       "16     1510.0      0.99          1   806.609999         9        3       0   \n",
       "17      760.0      0.54          1   401.805451         3        3       1   \n",
       "40     1890.0      0.65          2  1811.709997        10        3       1   \n",
       "64     4060.0      0.85          1  5434.439987        10        2       1   \n",
       "\n",
       "    area  agecat  severity  frequincy  pure_premium  \n",
       "14     1       6     670.0       2.06        1382.0  \n",
       "16     5       4     807.0       1.01         812.0  \n",
       "17     2       4     402.0       1.85         745.0  \n",
       "40     5       2     906.0       3.06        2769.0  \n",
       "64     5       3    5434.0       1.17        6382.0  "
      ]
     },
     "execution_count": 7,
     "metadata": {},
     "output_type": "execute_result"
    }
   ],
   "source": [
    "df=df[df[\"claimcst0\"]>0]\n",
    "df.head()"
   ]
  },
  {
   "cell_type": "markdown",
   "metadata": {},
   "source": [
    "*Define x and y*"
   ]
  },
  {
   "cell_type": "code",
   "execution_count": 8,
   "metadata": {},
   "outputs": [],
   "source": [
    "x=df.drop(\"frequincy\",axis=1)\n",
    "y=df[\"frequincy\"]"
   ]
  },
  {
   "cell_type": "markdown",
   "metadata": {},
   "source": [
    "*Splitting data into training and testing subsets*"
   ]
  },
  {
   "cell_type": "code",
   "execution_count": 9,
   "metadata": {},
   "outputs": [
    {
     "name": "stdout",
     "output_type": "stream",
     "text": [
      "Train data shape of X = (3699, 11) and Y = (3699,) : \n",
      "Test data shape of X = (925, 11) and Y = (925,) : \n"
     ]
    }
   ],
   "source": [
    "x_train, x_test, y_train, y_test = train_test_split(x,y ,test_size= 0.20)\n",
    "\n",
    "print(\"Train data shape of X = % s and Y = % s : \"%(\n",
    "\tx_train.shape, y_train.shape))\n",
    "\n",
    "print(\"Test data shape of X = % s and Y = % s : \"%(\n",
    "\tx_test.shape, y_test.shape))"
   ]
  },
  {
   "cell_type": "markdown",
   "metadata": {},
   "source": [
    "*Data Scaling*"
   ]
  },
  {
   "cell_type": "code",
   "execution_count": 10,
   "metadata": {},
   "outputs": [],
   "source": [
    "sc=StandardScaler()\n",
    "x_train=sc.fit_transform(x_train)\n",
    "x_test=sc.transform(x_test)"
   ]
  },
  {
   "cell_type": "code",
   "execution_count": 11,
   "metadata": {},
   "outputs": [],
   "source": [
    "models = {\n",
    "                \"RandomForestRegressor\": RandomForestRegressor(),\n",
    "                \"DecisionTreeRegressor\": DecisionTreeRegressor(),\n",
    "                \"LinearRegression\": LinearRegression(),\n",
    "                \"XGBRFRegressor\": XGBRFRegressor(),\n",
    "                \"GradientBoostingRegressor\":GradientBoostingRegressor(),\n",
    "                \"AdaBoostRegressor\": AdaBoostRegressor()\n",
    "                \n",
    "            }\n",
    "\n",
    "params={        \n",
    "                \"RandomForestRegressor\":{\n",
    "                    \"n_estimators\":[90,100,110], \n",
    "                    \"min_samples_split\":[2,4,6],\n",
    "                    \"min_samples_leaf\":[0.8,1],\n",
    "                    \"bootstrap\":[True, False],                                                                                                    \n",
    "                    \"max_features\":[\"sqrt\",\"log2\",\"auto\"],                                     \n",
    "                    \"max_depth\":[2,3,4],\n",
    "                    \"criterion\":['poisson', 'squared_error','friedman_mse','absolute_error']\n",
    "                    },\n",
    "\n",
    "                \"DecisionTreeRegressor\": {\n",
    "                    'criterion':['poisson', 'squared_error','friedman_mse','absolute_error'],\n",
    "                    'splitter': ['best', 'random'],\n",
    "                    \"max_depth\":[2,3,4], \n",
    "                    \"min_samples_split\":[2,4,6],\n",
    "                    \"min_samples_leaf\":[0.5,0.8],\n",
    "                    #'max_features': [1,2,3,4],\n",
    "                },\n",
    "                \"LinearRegression\":{\n",
    "\n",
    "                },\n",
    "                \"XGBRFRegressor\":{\n",
    "                    'learning_rate': [0.001,0.1,1],\n",
    "                    'n_estimators': [90, 100, 110], \n",
    "                    \"booster\":[\"gbtree\"],\n",
    "                    'colsample_bytree': [0.5,0.8], \n",
    "                    'colsample_bynode': [0.5,0.8],\n",
    "                    'random_state':[42]\n",
    "                },\n",
    "\n",
    "                \n",
    "                \"GradientBoostingRegressor\":{\n",
    "                    #'loss':['squared_error', 'huber', 'absolute_error', 'quantile'],\n",
    "                    'learning_rate': [0.01,0.1,1],\n",
    "                    'n_estimators': [90, 100, 110],\n",
    "                    'subsample': [0.8,1],\n",
    "                    #'criterion':['squared_error', 'friedman_mse'],\n",
    "                    'min_samples_split': [2, 4, 6],\n",
    "                    'min_samples_leaf': [0.8, 1],\n",
    "                    'max_depth':[2,3,4],\n",
    "                    #'max_features': ['sqrt', 'log2', 'auto']\n",
    "                },\n",
    "                \"AdaBoostRegressor\":{\n",
    "                    'n_estimators': [45,50,55],\n",
    "                    'learning_rate': [0.0001,0.001,0.01],\n",
    "                    'loss':['linear','square','exponential'],\n",
    "                    #'random_state':[42]\n",
    "                    \n",
    "                }\n",
    "                \n",
    "            }"
   ]
  },
  {
   "cell_type": "code",
   "execution_count": 12,
   "metadata": {},
   "outputs": [],
   "source": [
    "def evaluate_models(x_train,y_train,x_test,y_test,models,params):            \n",
    "                report = {}\n",
    "                #report2={}\n",
    "                for i in tqdm(range(len(list(models)))):\n",
    "                    model=list(models.values())[i]\n",
    "                    para=params[list(models.keys())[i]]\n",
    "\n",
    "                    RandomSearchCV=RandomizedSearchCV(model,param_distributions= para,cv=3)\n",
    "                    RandomSearchCV.fit(x_train,y_train)\n",
    "\n",
    "                    model.set_params(**RandomSearchCV.best_params_)\n",
    "                    model.fit(x_train,y_train)\n",
    "\n",
    "                    y_train_prediction=model.predict(x_train)\n",
    "                    y_test_prediction=model.predict(x_test)\n",
    "\n",
    "                    model_train_mean_absolute_percentage_error=mean_absolute_percentage_error(y_train,y_train_prediction)\n",
    "                    model_test_mean_absolute_percentage_error=mean_absolute_percentage_error(y_test,y_test_prediction)\n",
    "\n",
    "                    model_train_r2_score=r2_score(y_train,y_train_prediction)\n",
    "                    model_test_r2_score=r2_score(y_test,y_test_prediction)\n",
    "\n",
    "                    #report[list(models.keys())[i]] = model_train_mean_absolute_percentage_error\n",
    "                    report[list(models.keys())[i]] = (model_train_mean_absolute_percentage_error,model_test_mean_absolute_percentage_error,model_train_r2_score,model_test_r2_score,\n",
    "                                                      RandomSearchCV.best_params_)\n",
    "\n",
    "\n",
    "                return report"
   ]
  },
  {
   "cell_type": "code",
   "execution_count": 13,
   "metadata": {},
   "outputs": [
    {
     "name": "stderr",
     "output_type": "stream",
     "text": [
      "100%|██████████| 6/6 [00:56<00:00,  9.34s/it]\n"
     ]
    }
   ],
   "source": [
    "model_report:dict=evaluate_models(x_train, y_train, x_test, y_test,models=models,params=params)"
   ]
  },
  {
   "cell_type": "code",
   "execution_count": 14,
   "metadata": {},
   "outputs": [
    {
     "data": {
      "text/plain": [
       "{'RandomForestRegressor': (0.6187068107816284,\n",
       "  0.6527933704479971,\n",
       "  0.8600718846886246,\n",
       "  0.641994937659383,\n",
       "  {'n_estimators': 90,\n",
       "   'min_samples_split': 6,\n",
       "   'min_samples_leaf': 1,\n",
       "   'max_features': 'log2',\n",
       "   'max_depth': 4,\n",
       "   'criterion': 'friedman_mse',\n",
       "   'bootstrap': True}),\n",
       " 'DecisionTreeRegressor': (1.0523264253268128,\n",
       "  1.0435572336784844,\n",
       "  2.220446049250313e-16,\n",
       "  -0.016506666880487852,\n",
       "  {'splitter': 'best',\n",
       "   'min_samples_split': 6,\n",
       "   'min_samples_leaf': 0.5,\n",
       "   'max_depth': 3,\n",
       "   'criterion': 'squared_error'}),\n",
       " 'LinearRegression': (0.6800942124810138,\n",
       "  0.6944786699160433,\n",
       "  0.7615188140417322,\n",
       "  0.5492944432969727,\n",
       "  {}),\n",
       " 'XGBRFRegressor': (0.2063256070988023,\n",
       "  0.23222699706868316,\n",
       "  0.9878290284379088,\n",
       "  0.8181207242669135,\n",
       "  {'random_state': 42,\n",
       "   'n_estimators': 110,\n",
       "   'learning_rate': 1,\n",
       "   'colsample_bytree': 0.8,\n",
       "   'colsample_bynode': 0.8,\n",
       "   'booster': 'gbtree'}),\n",
       " 'GradientBoostingRegressor': (0.05112934438453538,\n",
       "  0.05214145426895181,\n",
       "  0.9971453905745048,\n",
       "  0.9583627285164984,\n",
       "  {'subsample': 0.8,\n",
       "   'n_estimators': 100,\n",
       "   'min_samples_split': 6,\n",
       "   'min_samples_leaf': 1,\n",
       "   'max_depth': 2,\n",
       "   'learning_rate': 0.1}),\n",
       " 'AdaBoostRegressor': (0.3705958937954073,\n",
       "  0.3671161627354269,\n",
       "  0.9831668470355986,\n",
       "  0.9263568612833228,\n",
       "  {'n_estimators': 45, 'loss': 'square', 'learning_rate': 0.0001})}"
      ]
     },
     "execution_count": 14,
     "metadata": {},
     "output_type": "execute_result"
    }
   ],
   "source": [
    "model_report"
   ]
  },
  {
   "cell_type": "code",
   "execution_count": 15,
   "metadata": {},
   "outputs": [],
   "source": [
    "model_report_df=pd.DataFrame(model_report).iloc[:-1] "
   ]
  },
  {
   "cell_type": "code",
   "execution_count": 16,
   "metadata": {},
   "outputs": [
    {
     "data": {
      "text/html": [
       "<div>\n",
       "<style scoped>\n",
       "    .dataframe tbody tr th:only-of-type {\n",
       "        vertical-align: middle;\n",
       "    }\n",
       "\n",
       "    .dataframe tbody tr th {\n",
       "        vertical-align: top;\n",
       "    }\n",
       "\n",
       "    .dataframe thead th {\n",
       "        text-align: right;\n",
       "    }\n",
       "</style>\n",
       "<table border=\"1\" class=\"dataframe\">\n",
       "  <thead>\n",
       "    <tr style=\"text-align: right;\">\n",
       "      <th></th>\n",
       "      <th>RandomForestRegressor</th>\n",
       "      <th>DecisionTreeRegressor</th>\n",
       "      <th>LinearRegression</th>\n",
       "      <th>XGBRFRegressor</th>\n",
       "      <th>GradientBoostingRegressor</th>\n",
       "      <th>AdaBoostRegressor</th>\n",
       "    </tr>\n",
       "  </thead>\n",
       "  <tbody>\n",
       "    <tr>\n",
       "      <th>0</th>\n",
       "      <td>0.618707</td>\n",
       "      <td>1.052326</td>\n",
       "      <td>0.680094</td>\n",
       "      <td>0.206326</td>\n",
       "      <td>0.051129</td>\n",
       "      <td>0.370596</td>\n",
       "    </tr>\n",
       "    <tr>\n",
       "      <th>1</th>\n",
       "      <td>0.652793</td>\n",
       "      <td>1.043557</td>\n",
       "      <td>0.694479</td>\n",
       "      <td>0.232227</td>\n",
       "      <td>0.052141</td>\n",
       "      <td>0.367116</td>\n",
       "    </tr>\n",
       "    <tr>\n",
       "      <th>2</th>\n",
       "      <td>0.860072</td>\n",
       "      <td>0.0</td>\n",
       "      <td>0.761519</td>\n",
       "      <td>0.987829</td>\n",
       "      <td>0.997145</td>\n",
       "      <td>0.983167</td>\n",
       "    </tr>\n",
       "    <tr>\n",
       "      <th>3</th>\n",
       "      <td>0.641995</td>\n",
       "      <td>-0.016507</td>\n",
       "      <td>0.549294</td>\n",
       "      <td>0.818121</td>\n",
       "      <td>0.958363</td>\n",
       "      <td>0.926357</td>\n",
       "    </tr>\n",
       "  </tbody>\n",
       "</table>\n",
       "</div>"
      ],
      "text/plain": [
       "  RandomForestRegressor DecisionTreeRegressor LinearRegression XGBRFRegressor  \\\n",
       "0              0.618707              1.052326         0.680094       0.206326   \n",
       "1              0.652793              1.043557         0.694479       0.232227   \n",
       "2              0.860072                   0.0         0.761519       0.987829   \n",
       "3              0.641995             -0.016507         0.549294       0.818121   \n",
       "\n",
       "  GradientBoostingRegressor AdaBoostRegressor  \n",
       "0                  0.051129          0.370596  \n",
       "1                  0.052141          0.367116  \n",
       "2                  0.997145          0.983167  \n",
       "3                  0.958363          0.926357  "
      ]
     },
     "execution_count": 16,
     "metadata": {},
     "output_type": "execute_result"
    }
   ],
   "source": [
    "model_report_df"
   ]
  },
  {
   "cell_type": "code",
   "execution_count": 17,
   "metadata": {},
   "outputs": [],
   "source": [
    "model_report_df[\"metrices\"]=[\"model_train_mean_absolute_percentage_error\",\"model_test_mean_absolute_percentage_error\",\"model_train_r2_score\",\"model_test_r2_score\"]"
   ]
  },
  {
   "cell_type": "code",
   "execution_count": 18,
   "metadata": {},
   "outputs": [
    {
     "data": {
      "text/html": [
       "<div>\n",
       "<style scoped>\n",
       "    .dataframe tbody tr th:only-of-type {\n",
       "        vertical-align: middle;\n",
       "    }\n",
       "\n",
       "    .dataframe tbody tr th {\n",
       "        vertical-align: top;\n",
       "    }\n",
       "\n",
       "    .dataframe thead th {\n",
       "        text-align: right;\n",
       "    }\n",
       "</style>\n",
       "<table border=\"1\" class=\"dataframe\">\n",
       "  <thead>\n",
       "    <tr style=\"text-align: right;\">\n",
       "      <th></th>\n",
       "      <th>RandomForestRegressor</th>\n",
       "      <th>DecisionTreeRegressor</th>\n",
       "      <th>LinearRegression</th>\n",
       "      <th>XGBRFRegressor</th>\n",
       "      <th>GradientBoostingRegressor</th>\n",
       "      <th>AdaBoostRegressor</th>\n",
       "      <th>metrices</th>\n",
       "    </tr>\n",
       "  </thead>\n",
       "  <tbody>\n",
       "    <tr>\n",
       "      <th>0</th>\n",
       "      <td>0.618707</td>\n",
       "      <td>1.052326</td>\n",
       "      <td>0.680094</td>\n",
       "      <td>0.206326</td>\n",
       "      <td>0.051129</td>\n",
       "      <td>0.370596</td>\n",
       "      <td>model_train_mean_absolute_percentage_error</td>\n",
       "    </tr>\n",
       "    <tr>\n",
       "      <th>1</th>\n",
       "      <td>0.652793</td>\n",
       "      <td>1.043557</td>\n",
       "      <td>0.694479</td>\n",
       "      <td>0.232227</td>\n",
       "      <td>0.052141</td>\n",
       "      <td>0.367116</td>\n",
       "      <td>model_test_mean_absolute_percentage_error</td>\n",
       "    </tr>\n",
       "    <tr>\n",
       "      <th>2</th>\n",
       "      <td>0.860072</td>\n",
       "      <td>0.0</td>\n",
       "      <td>0.761519</td>\n",
       "      <td>0.987829</td>\n",
       "      <td>0.997145</td>\n",
       "      <td>0.983167</td>\n",
       "      <td>model_train_r2_score</td>\n",
       "    </tr>\n",
       "    <tr>\n",
       "      <th>3</th>\n",
       "      <td>0.641995</td>\n",
       "      <td>-0.016507</td>\n",
       "      <td>0.549294</td>\n",
       "      <td>0.818121</td>\n",
       "      <td>0.958363</td>\n",
       "      <td>0.926357</td>\n",
       "      <td>model_test_r2_score</td>\n",
       "    </tr>\n",
       "  </tbody>\n",
       "</table>\n",
       "</div>"
      ],
      "text/plain": [
       "  RandomForestRegressor DecisionTreeRegressor LinearRegression XGBRFRegressor  \\\n",
       "0              0.618707              1.052326         0.680094       0.206326   \n",
       "1              0.652793              1.043557         0.694479       0.232227   \n",
       "2              0.860072                   0.0         0.761519       0.987829   \n",
       "3              0.641995             -0.016507         0.549294       0.818121   \n",
       "\n",
       "  GradientBoostingRegressor AdaBoostRegressor  \\\n",
       "0                  0.051129          0.370596   \n",
       "1                  0.052141          0.367116   \n",
       "2                  0.997145          0.983167   \n",
       "3                  0.958363          0.926357   \n",
       "\n",
       "                                     metrices  \n",
       "0  model_train_mean_absolute_percentage_error  \n",
       "1   model_test_mean_absolute_percentage_error  \n",
       "2                        model_train_r2_score  \n",
       "3                         model_test_r2_score  "
      ]
     },
     "execution_count": 18,
     "metadata": {},
     "output_type": "execute_result"
    }
   ],
   "source": [
    "model_report_df"
   ]
  },
  {
   "cell_type": "code",
   "execution_count": 19,
   "metadata": {},
   "outputs": [
    {
     "data": {
      "text/plain": [
       "[{'subsample': 0.8,\n",
       "  'n_estimators': 100,\n",
       "  'min_samples_split': 6,\n",
       "  'min_samples_leaf': 1,\n",
       "  'max_depth': 2,\n",
       "  'learning_rate': 0.1}]"
      ]
     },
     "execution_count": 19,
     "metadata": {},
     "output_type": "execute_result"
    }
   ],
   "source": [
    "GradientBoostingRegressor_best_paramerts=[k[4] for i,k in model_report.items() if i==\"GradientBoostingRegressor\"]\n",
    "GradientBoostingRegressor_best_paramerts"
   ]
  },
  {
   "cell_type": "code",
   "execution_count": 20,
   "metadata": {},
   "outputs": [],
   "source": [
    "model=GradientBoostingRegressor(\n",
    "    subsample=0.8,\n",
    "    n_estimators= 110,\n",
    "    min_samples_split= 6,\n",
    "    min_samples_leaf= 1,\n",
    "    max_depth= 2,\n",
    "    learning_rate=0.1).fit(x_train,y_train)"
   ]
  },
  {
   "cell_type": "code",
   "execution_count": 21,
   "metadata": {},
   "outputs": [],
   "source": [
    "predicted=model.predict(x_test)"
   ]
  },
  {
   "cell_type": "code",
   "execution_count": 22,
   "metadata": {},
   "outputs": [
    {
     "data": {
      "image/png": "[encoded data removed]",
      "text/plain": [
       "<Figure size 2000x1000 with 2 Axes>"
      ]
     },
     "metadata": {},
     "output_type": "display_data"
    }
   ],
   "source": [
    "plt.subplot(221)\n",
    "plt.scatter(y_test,predicted);\n",
    "\n",
    "plt.xlabel('Actual');\n",
    "plt.ylabel('frequincy');\n",
    "\n",
    "plt.subplot(222)\n",
    "sns.regplot(x=y_test,y=predicted,ci=None,color ='red');"
   ]
  },
  {
   "cell_type": "code",
   "execution_count": 23,
   "metadata": {},
   "outputs": [],
   "source": [
    "model.feature_names_in_=x.columns"
   ]
  },
  {
   "cell_type": "code",
   "execution_count": 24,
   "metadata": {},
   "outputs": [],
   "source": [
    "importance=pd.concat([pd.DataFrame(model.feature_names_in_,columns=[\"feature_names\"]),\n",
    "           pd.DataFrame(model.feature_importances_,columns=[\"feature_importances\"])],axis=1)"
   ]
  },
  {
   "cell_type": "code",
   "execution_count": 25,
   "metadata": {},
   "outputs": [
    {
     "data": {
      "text/html": [
       "<div>\n",
       "<style scoped>\n",
       "    .dataframe tbody tr th:only-of-type {\n",
       "        vertical-align: middle;\n",
       "    }\n",
       "\n",
       "    .dataframe tbody tr th {\n",
       "        vertical-align: top;\n",
       "    }\n",
       "\n",
       "    .dataframe thead th {\n",
       "        text-align: right;\n",
       "    }\n",
       "</style>\n",
       "<table border=\"1\" class=\"dataframe\">\n",
       "  <thead>\n",
       "    <tr style=\"text-align: right;\">\n",
       "      <th></th>\n",
       "      <th>feature_names</th>\n",
       "      <th>feature_importances</th>\n",
       "    </tr>\n",
       "  </thead>\n",
       "  <tbody>\n",
       "    <tr>\n",
       "      <th>0</th>\n",
       "      <td>veh_value</td>\n",
       "      <td>0.008505</td>\n",
       "    </tr>\n",
       "    <tr>\n",
       "      <th>1</th>\n",
       "      <td>exposure</td>\n",
       "      <td>0.686949</td>\n",
       "    </tr>\n",
       "    <tr>\n",
       "      <th>2</th>\n",
       "      <td>numclaims</td>\n",
       "      <td>0.001732</td>\n",
       "    </tr>\n",
       "    <tr>\n",
       "      <th>3</th>\n",
       "      <td>claimcst0</td>\n",
       "      <td>0.006578</td>\n",
       "    </tr>\n",
       "    <tr>\n",
       "      <th>4</th>\n",
       "      <td>veh_body</td>\n",
       "      <td>0.000051</td>\n",
       "    </tr>\n",
       "    <tr>\n",
       "      <th>5</th>\n",
       "      <td>veh_age</td>\n",
       "      <td>0.000058</td>\n",
       "    </tr>\n",
       "    <tr>\n",
       "      <th>6</th>\n",
       "      <td>gender</td>\n",
       "      <td>0.000000</td>\n",
       "    </tr>\n",
       "    <tr>\n",
       "      <th>7</th>\n",
       "      <td>area</td>\n",
       "      <td>0.005166</td>\n",
       "    </tr>\n",
       "    <tr>\n",
       "      <th>8</th>\n",
       "      <td>agecat</td>\n",
       "      <td>0.000224</td>\n",
       "    </tr>\n",
       "    <tr>\n",
       "      <th>9</th>\n",
       "      <td>severity</td>\n",
       "      <td>0.013365</td>\n",
       "    </tr>\n",
       "    <tr>\n",
       "      <th>10</th>\n",
       "      <td>pure_premium</td>\n",
       "      <td>0.277374</td>\n",
       "    </tr>\n",
       "  </tbody>\n",
       "</table>\n",
       "</div>"
      ],
      "text/plain": [
       "   feature_names  feature_importances\n",
       "0      veh_value             0.008505\n",
       "1       exposure             0.686949\n",
       "2      numclaims             0.001732\n",
       "3      claimcst0             0.006578\n",
       "4       veh_body             0.000051\n",
       "5        veh_age             0.000058\n",
       "6         gender             0.000000\n",
       "7           area             0.005166\n",
       "8         agecat             0.000224\n",
       "9       severity             0.013365\n",
       "10  pure_premium             0.277374"
      ]
     },
     "execution_count": 25,
     "metadata": {},
     "output_type": "execute_result"
    }
   ],
   "source": [
    "importance"
   ]
  },
  {
   "cell_type": "code",
   "execution_count": 26,
   "metadata": {},
   "outputs": [],
   "source": [
    "PurePremiumImportanceTabel=importance.sort_values(by='feature_importances',ascending=False)\n",
    "PurePremiumImportanceTabel.to_pickle(\"C:/Users/Omar/Desktop/Omar_Files/Python_Analysis/Auto_Insurance/App/Feature_importance_Table/PurePremiumImportanceTabel.pkl\")"
   ]
  },
  {
   "cell_type": "code",
   "execution_count": 27,
   "metadata": {},
   "outputs": [
    {
     "data": {
      "image/png": "[encoded data removed]",
      "text/plain": [
       "<Figure size 2000x700 with 1 Axes>"
      ]
     },
     "metadata": {},
     "output_type": "display_data"
    }
   ],
   "source": [
    "matplotlib.rcParams[\"figure.figsize\"]=(20,7)\n",
    "ax=sns.barplot(x=np.round(importance[\"feature_importances\"],3),y=importance[\"feature_names\"])\n",
    "plt.title('Features importance for Pure Premium feature')\n",
    "ax.bar_label(ax.containers[0]);\n",
    "plt.savefig('C:/Users/Omar/Desktop/Omar_Files/Python_Analysis/Auto_Insurance/App/Feature_importance_Graph/PurePremium_featureImportanc',dpi=500);"
   ]
  },
  {
   "cell_type": "code",
   "execution_count": 28,
   "metadata": {},
   "outputs": [],
   "source": [
    "import pickle\n",
    "with open (\"C:/Users/Omar/Desktop/Omar_Files/Python_Analysis/Auto_Insurance/final_models/PurePremium_final_model.pkl\",\"wb\") as f:\n",
    "    pickle.dump(model,f)"
   ]
  },
  {
   "cell_type": "markdown",
   "metadata": {},
   "source": [
    "---"
   ]
  }
 ],
 "metadata": {
  "kernelspec": {
   "display_name": "Python 3",
   "language": "python",
   "name": "python3"
  },
  "language_info": {
   "codemirror_mode": {
    "name": "ipython",
    "version": 3
   },
   "file_extension": ".py",
   "mimetype": "text/x-python",
   "name": "python",
   "nbconvert_exporter": "python",
   "pygments_lexer": "ipython3",
   "version": "3.10.8"
  }
 },
 "nbformat": 4,
 "nbformat_minor": 2
}
