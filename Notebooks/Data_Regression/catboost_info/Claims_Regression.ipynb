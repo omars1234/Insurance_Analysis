{
 "cells": [
  {
   "cell_type": "markdown",
   "metadata": {},
   "source": [
    "## <u>*Regression Modelling for claims cost as a Target Feature*</u>"
   ]
  },
  {
   "cell_type": "code",
   "execution_count": 31,
   "metadata": {},
   "outputs": [],
   "source": [
    "import pandas as pd\n",
    "import numpy as np\n",
    "from matplotlib import pyplot as plt\n",
    "%matplotlib inline\n",
    "import matplotlib\n",
    "matplotlib.rcParams[\"figure.figsize\"]=(20,10)\n",
    "import seaborn as sns;sns.set()\n",
    "import warnings\n",
    "warnings.filterwarnings('ignore')\n",
    "\n",
    "\n",
    "from sklearn.metrics import (\n",
    "    root_mean_squared_error,r2_score\n",
    ")\n",
    "\n",
    "from sklearn.ensemble import (\n",
    "    RandomForestRegressor,GradientBoostingRegressor,AdaBoostRegressor,BaggingRegressor\n",
    ")\n",
    "\n",
    "from sklearn.tree import DecisionTreeRegressor\n",
    "\n",
    "import xgboost as xgb\n",
    "from xgboost import XGBRFRegressor\n",
    "\n",
    "from sklearn.linear_model import (\n",
    "    LinearRegression,GammaRegressor,ElasticNet\n",
    ")\n",
    "\n",
    "from sklearn.model_selection import (\n",
    "    train_test_split, GridSearchCV,RandomizedSearchCV,cross_val_score,KFold\n",
    ")\n",
    "\n",
    "from sklearn.preprocessing import (\n",
    "        LabelEncoder,StandardScaler,PowerTransformer,StandardScaler,OneHotEncoder,OrdinalEncoder\n",
    "        )\n",
    "\n",
    "from sklearn.compose import ColumnTransformer\n",
    "\n",
    "from sklearn.pipeline import Pipeline\n",
    "\n",
    "from tqdm import tqdm\n",
    "\n",
    "from sklearn.neighbors import KNeighborsRegressor\n",
    "\n",
    "from sklearn.svm import SVR\n",
    "\n",
    "from hyperopt import (\n",
    "    fmin, tpe, hp, SparkTrials, STATUS_OK,Trials\n",
    ")"
   ]
  },
  {
   "cell_type": "code",
   "execution_count": 32,
   "metadata": {
    "slideshow": {
     "slide_type": "fragment"
    }
   },
   "outputs": [
    {
     "data": {
      "text/html": [
       "<div>\n",
       "<style scoped>\n",
       "    .dataframe tbody tr th:only-of-type {\n",
       "        vertical-align: middle;\n",
       "    }\n",
       "\n",
       "    .dataframe tbody tr th {\n",
       "        vertical-align: top;\n",
       "    }\n",
       "\n",
       "    .dataframe thead th {\n",
       "        text-align: right;\n",
       "    }\n",
       "</style>\n",
       "<table border=\"1\" class=\"dataframe\">\n",
       "  <thead>\n",
       "    <tr style=\"text-align: right;\">\n",
       "      <th></th>\n",
       "      <th>veh_value</th>\n",
       "      <th>exposure</th>\n",
       "      <th>claimcst0</th>\n",
       "      <th>veh_body</th>\n",
       "      <th>veh_age</th>\n",
       "      <th>gender</th>\n",
       "      <th>area</th>\n",
       "      <th>agecat</th>\n",
       "    </tr>\n",
       "  </thead>\n",
       "  <tbody>\n",
       "    <tr>\n",
       "      <th>0</th>\n",
       "      <td>1.06</td>\n",
       "      <td>0.303901</td>\n",
       "      <td>0.0</td>\n",
       "      <td>HBACK</td>\n",
       "      <td>3</td>\n",
       "      <td>F</td>\n",
       "      <td>C</td>\n",
       "      <td>2</td>\n",
       "    </tr>\n",
       "    <tr>\n",
       "      <th>1</th>\n",
       "      <td>1.03</td>\n",
       "      <td>0.648871</td>\n",
       "      <td>0.0</td>\n",
       "      <td>HBACK</td>\n",
       "      <td>2</td>\n",
       "      <td>F</td>\n",
       "      <td>A</td>\n",
       "      <td>4</td>\n",
       "    </tr>\n",
       "    <tr>\n",
       "      <th>2</th>\n",
       "      <td>3.26</td>\n",
       "      <td>0.569473</td>\n",
       "      <td>0.0</td>\n",
       "      <td>UTE</td>\n",
       "      <td>2</td>\n",
       "      <td>F</td>\n",
       "      <td>E</td>\n",
       "      <td>2</td>\n",
       "    </tr>\n",
       "    <tr>\n",
       "      <th>3</th>\n",
       "      <td>4.14</td>\n",
       "      <td>0.317591</td>\n",
       "      <td>0.0</td>\n",
       "      <td>STNWG</td>\n",
       "      <td>2</td>\n",
       "      <td>F</td>\n",
       "      <td>D</td>\n",
       "      <td>2</td>\n",
       "    </tr>\n",
       "    <tr>\n",
       "      <th>4</th>\n",
       "      <td>0.72</td>\n",
       "      <td>0.648871</td>\n",
       "      <td>0.0</td>\n",
       "      <td>HBACK</td>\n",
       "      <td>4</td>\n",
       "      <td>F</td>\n",
       "      <td>C</td>\n",
       "      <td>2</td>\n",
       "    </tr>\n",
       "  </tbody>\n",
       "</table>\n",
       "</div>"
      ],
      "text/plain": [
       "   veh_value  exposure  claimcst0 veh_body veh_age gender area agecat\n",
       "0       1.06  0.303901        0.0    HBACK       3      F    C      2\n",
       "1       1.03  0.648871        0.0    HBACK       2      F    A      4\n",
       "2       3.26  0.569473        0.0      UTE       2      F    E      2\n",
       "3       4.14  0.317591        0.0    STNWG       2      F    D      2\n",
       "4       0.72  0.648871        0.0    HBACK       4      F    C      2"
      ]
     },
     "execution_count": 32,
     "metadata": {},
     "output_type": "execute_result"
    }
   ],
   "source": [
    "df=pd.read_csv(r\"C:/Users/Omar/Desktop/Omar_Files/Python_Analysis/Auto_Insurance/Data_Sets/data_car.csv\")\n",
    "df=df.drop([\"X_OBSTAT_\",\"clm\",\"numclaims\"],axis=1)\n",
    "df[\"agecat\"]=df[\"agecat\"].astype(\"object\")\n",
    "df[\"veh_age\"]=df[\"veh_age\"].astype(\"object\")\n",
    "df.head()"
   ]
  },
  {
   "cell_type": "code",
   "execution_count": 33,
   "metadata": {},
   "outputs": [
    {
     "data": {
      "text/plain": [
       "(67856, 8)"
      ]
     },
     "execution_count": 33,
     "metadata": {},
     "output_type": "execute_result"
    }
   ],
   "source": [
    "df.shape"
   ]
  },
  {
   "cell_type": "markdown",
   "metadata": {},
   "source": [
    "---"
   ]
  },
  {
   "cell_type": "code",
   "execution_count": 34,
   "metadata": {},
   "outputs": [
    {
     "data": {
      "text/html": [
       "<div>\n",
       "<style scoped>\n",
       "    .dataframe tbody tr th:only-of-type {\n",
       "        vertical-align: middle;\n",
       "    }\n",
       "\n",
       "    .dataframe tbody tr th {\n",
       "        vertical-align: top;\n",
       "    }\n",
       "\n",
       "    .dataframe thead th {\n",
       "        text-align: right;\n",
       "    }\n",
       "</style>\n",
       "<table border=\"1\" class=\"dataframe\">\n",
       "  <thead>\n",
       "    <tr style=\"text-align: right;\">\n",
       "      <th></th>\n",
       "      <th>veh_value</th>\n",
       "      <th>exposure</th>\n",
       "      <th>claimcst0</th>\n",
       "      <th>veh_body</th>\n",
       "      <th>veh_age</th>\n",
       "      <th>gender</th>\n",
       "      <th>area</th>\n",
       "      <th>agecat</th>\n",
       "    </tr>\n",
       "  </thead>\n",
       "  <tbody>\n",
       "    <tr>\n",
       "      <th>0</th>\n",
       "      <td>1.59</td>\n",
       "      <td>0.229979</td>\n",
       "      <td>0.0</td>\n",
       "      <td>SEDAN</td>\n",
       "      <td>1</td>\n",
       "      <td>F</td>\n",
       "      <td>A</td>\n",
       "      <td>1</td>\n",
       "    </tr>\n",
       "    <tr>\n",
       "      <th>1</th>\n",
       "      <td>1.46</td>\n",
       "      <td>0.221766</td>\n",
       "      <td>0.0</td>\n",
       "      <td>HBACK</td>\n",
       "      <td>1</td>\n",
       "      <td>F</td>\n",
       "      <td>A</td>\n",
       "      <td>1</td>\n",
       "    </tr>\n",
       "    <tr>\n",
       "      <th>2</th>\n",
       "      <td>1.54</td>\n",
       "      <td>0.238193</td>\n",
       "      <td>0.0</td>\n",
       "      <td>SEDAN</td>\n",
       "      <td>1</td>\n",
       "      <td>F</td>\n",
       "      <td>A</td>\n",
       "      <td>1</td>\n",
       "    </tr>\n",
       "    <tr>\n",
       "      <th>3</th>\n",
       "      <td>1.57</td>\n",
       "      <td>0.522930</td>\n",
       "      <td>0.0</td>\n",
       "      <td>SEDAN</td>\n",
       "      <td>1</td>\n",
       "      <td>F</td>\n",
       "      <td>A</td>\n",
       "      <td>1</td>\n",
       "    </tr>\n",
       "    <tr>\n",
       "      <th>4</th>\n",
       "      <td>1.41</td>\n",
       "      <td>0.219028</td>\n",
       "      <td>0.0</td>\n",
       "      <td>HBACK</td>\n",
       "      <td>1</td>\n",
       "      <td>F</td>\n",
       "      <td>A</td>\n",
       "      <td>1</td>\n",
       "    </tr>\n",
       "  </tbody>\n",
       "</table>\n",
       "</div>"
      ],
      "text/plain": [
       "   veh_value  exposure  claimcst0 veh_body veh_age gender area agecat\n",
       "0       1.59  0.229979        0.0    SEDAN       1      F    A      1\n",
       "1       1.46  0.221766        0.0    HBACK       1      F    A      1\n",
       "2       1.54  0.238193        0.0    SEDAN       1      F    A      1\n",
       "3       1.57  0.522930        0.0    SEDAN       1      F    A      1\n",
       "4       1.41  0.219028        0.0    HBACK       1      F    A      1"
      ]
     },
     "execution_count": 34,
     "metadata": {},
     "output_type": "execute_result"
    }
   ],
   "source": [
    "df=df.sort_values(by=['veh_age', 'agecat','area','gender']).reset_index().drop(\"index\",axis=1)\n",
    "df.head()"
   ]
  },
  {
   "cell_type": "code",
   "execution_count": 35,
   "metadata": {},
   "outputs": [
    {
     "data": {
      "text/html": [
       "<div>\n",
       "<style scoped>\n",
       "    .dataframe tbody tr th:only-of-type {\n",
       "        vertical-align: middle;\n",
       "    }\n",
       "\n",
       "    .dataframe tbody tr th {\n",
       "        vertical-align: top;\n",
       "    }\n",
       "\n",
       "    .dataframe thead th {\n",
       "        text-align: right;\n",
       "    }\n",
       "</style>\n",
       "<table border=\"1\" class=\"dataframe\">\n",
       "  <thead>\n",
       "    <tr style=\"text-align: right;\">\n",
       "      <th>gender</th>\n",
       "      <th>F</th>\n",
       "      <th>M</th>\n",
       "    </tr>\n",
       "  </thead>\n",
       "  <tbody>\n",
       "    <tr>\n",
       "      <th>claimcst0</th>\n",
       "      <td>127.159782</td>\n",
       "      <td>150.612087</td>\n",
       "    </tr>\n",
       "  </tbody>\n",
       "</table>\n",
       "</div>"
      ],
      "text/plain": [
       "gender              F           M\n",
       "claimcst0  127.159782  150.612087"
      ]
     },
     "execution_count": 35,
     "metadata": {},
     "output_type": "execute_result"
    }
   ],
   "source": [
    "df.groupby(\"gender\")[\"claimcst0\"].mean().to_frame().T"
   ]
  },
  {
   "cell_type": "code",
   "execution_count": 36,
   "metadata": {},
   "outputs": [
    {
     "data": {
      "text/html": [
       "<div>\n",
       "<style scoped>\n",
       "    .dataframe tbody tr th:only-of-type {\n",
       "        vertical-align: middle;\n",
       "    }\n",
       "\n",
       "    .dataframe tbody tr th {\n",
       "        vertical-align: top;\n",
       "    }\n",
       "\n",
       "    .dataframe thead th {\n",
       "        text-align: right;\n",
       "    }\n",
       "</style>\n",
       "<table border=\"1\" class=\"dataframe\">\n",
       "  <thead>\n",
       "    <tr style=\"text-align: right;\">\n",
       "      <th>agecat</th>\n",
       "      <th>1</th>\n",
       "      <th>2</th>\n",
       "      <th>3</th>\n",
       "      <th>4</th>\n",
       "      <th>5</th>\n",
       "      <th>6</th>\n",
       "    </tr>\n",
       "  </thead>\n",
       "  <tbody>\n",
       "    <tr>\n",
       "      <th>claimcst0</th>\n",
       "      <td>227.68598</td>\n",
       "      <td>154.162388</td>\n",
       "      <td>135.22592</td>\n",
       "      <td>132.516093</td>\n",
       "      <td>98.864771</td>\n",
       "      <td>104.409426</td>\n",
       "    </tr>\n",
       "  </tbody>\n",
       "</table>\n",
       "</div>"
      ],
      "text/plain": [
       "agecat             1           2          3           4          5           6\n",
       "claimcst0  227.68598  154.162388  135.22592  132.516093  98.864771  104.409426"
      ]
     },
     "execution_count": 36,
     "metadata": {},
     "output_type": "execute_result"
    }
   ],
   "source": [
    "df.groupby(\"agecat\")[\"claimcst0\"].mean().to_frame().T"
   ]
  },
  {
   "cell_type": "code",
   "execution_count": 37,
   "metadata": {},
   "outputs": [
    {
     "data": {
      "text/html": [
       "<div>\n",
       "<style scoped>\n",
       "    .dataframe tbody tr th:only-of-type {\n",
       "        vertical-align: middle;\n",
       "    }\n",
       "\n",
       "    .dataframe tbody tr th {\n",
       "        vertical-align: top;\n",
       "    }\n",
       "\n",
       "    .dataframe thead th {\n",
       "        text-align: right;\n",
       "    }\n",
       "</style>\n",
       "<table border=\"1\" class=\"dataframe\">\n",
       "  <thead>\n",
       "    <tr style=\"text-align: right;\">\n",
       "      <th>veh_age</th>\n",
       "      <th>1</th>\n",
       "      <th>2</th>\n",
       "      <th>3</th>\n",
       "      <th>4</th>\n",
       "    </tr>\n",
       "  </thead>\n",
       "  <tbody>\n",
       "    <tr>\n",
       "      <th>claimcst0</th>\n",
       "      <td>126.887077</td>\n",
       "      <td>149.889496</td>\n",
       "      <td>135.478319</td>\n",
       "      <td>134.837211</td>\n",
       "    </tr>\n",
       "  </tbody>\n",
       "</table>\n",
       "</div>"
      ],
      "text/plain": [
       "veh_age             1           2           3           4\n",
       "claimcst0  126.887077  149.889496  135.478319  134.837211"
      ]
     },
     "execution_count": 37,
     "metadata": {},
     "output_type": "execute_result"
    }
   ],
   "source": [
    "df.groupby(\"veh_age\")[\"claimcst0\"].mean().to_frame().T"
   ]
  },
  {
   "cell_type": "code",
   "execution_count": 38,
   "metadata": {},
   "outputs": [
    {
     "data": {
      "text/html": [
       "<div>\n",
       "<style scoped>\n",
       "    .dataframe tbody tr th:only-of-type {\n",
       "        vertical-align: middle;\n",
       "    }\n",
       "\n",
       "    .dataframe tbody tr th {\n",
       "        vertical-align: top;\n",
       "    }\n",
       "\n",
       "    .dataframe thead th {\n",
       "        text-align: right;\n",
       "    }\n",
       "</style>\n",
       "<table border=\"1\" class=\"dataframe\">\n",
       "  <thead>\n",
       "    <tr style=\"text-align: right;\">\n",
       "      <th>veh_body</th>\n",
       "      <th>BUS</th>\n",
       "      <th>CONVT</th>\n",
       "      <th>COUPE</th>\n",
       "      <th>HBACK</th>\n",
       "      <th>HDTOP</th>\n",
       "      <th>MCARA</th>\n",
       "      <th>MIBUS</th>\n",
       "      <th>PANVN</th>\n",
       "      <th>RDSTR</th>\n",
       "      <th>SEDAN</th>\n",
       "      <th>STNWG</th>\n",
       "      <th>TRUCK</th>\n",
       "      <th>UTE</th>\n",
       "    </tr>\n",
       "  </thead>\n",
       "  <tbody>\n",
       "    <tr>\n",
       "      <th>claimcst0</th>\n",
       "      <td>278.398333</td>\n",
       "      <td>85.047037</td>\n",
       "      <td>240.670834</td>\n",
       "      <td>136.882696</td>\n",
       "      <td>186.70796</td>\n",
       "      <td>84.04685</td>\n",
       "      <td>161.931492</td>\n",
       "      <td>177.012517</td>\n",
       "      <td>50.720673</td>\n",
       "      <td>120.614513</td>\n",
       "      <td>145.322625</td>\n",
       "      <td>182.569628</td>\n",
       "      <td>130.224371</td>\n",
       "    </tr>\n",
       "  </tbody>\n",
       "</table>\n",
       "</div>"
      ],
      "text/plain": [
       "veh_body          BUS      CONVT       COUPE       HBACK      HDTOP     MCARA  \\\n",
       "claimcst0  278.398333  85.047037  240.670834  136.882696  186.70796  84.04685   \n",
       "\n",
       "veh_body        MIBUS       PANVN      RDSTR       SEDAN       STNWG  \\\n",
       "claimcst0  161.931492  177.012517  50.720673  120.614513  145.322625   \n",
       "\n",
       "veh_body        TRUCK         UTE  \n",
       "claimcst0  182.569628  130.224371  "
      ]
     },
     "execution_count": 38,
     "metadata": {},
     "output_type": "execute_result"
    }
   ],
   "source": [
    "df.groupby(\"veh_body\")[\"claimcst0\"].mean().to_frame().T"
   ]
  },
  {
   "cell_type": "code",
   "execution_count": 39,
   "metadata": {},
   "outputs": [
    {
     "data": {
      "text/html": [
       "<div>\n",
       "<style scoped>\n",
       "    .dataframe tbody tr th:only-of-type {\n",
       "        vertical-align: middle;\n",
       "    }\n",
       "\n",
       "    .dataframe tbody tr th {\n",
       "        vertical-align: top;\n",
       "    }\n",
       "\n",
       "    .dataframe thead th {\n",
       "        text-align: right;\n",
       "    }\n",
       "</style>\n",
       "<table border=\"1\" class=\"dataframe\">\n",
       "  <thead>\n",
       "    <tr style=\"text-align: right;\">\n",
       "      <th>area</th>\n",
       "      <th>A</th>\n",
       "      <th>B</th>\n",
       "      <th>C</th>\n",
       "      <th>D</th>\n",
       "      <th>E</th>\n",
       "      <th>F</th>\n",
       "    </tr>\n",
       "  </thead>\n",
       "  <tbody>\n",
       "    <tr>\n",
       "      <th>claimcst0</th>\n",
       "      <td>127.008681</td>\n",
       "      <td>134.56976</td>\n",
       "      <td>139.518365</td>\n",
       "      <td>111.471694</td>\n",
       "      <td>146.959224</td>\n",
       "      <td>224.135098</td>\n",
       "    </tr>\n",
       "  </tbody>\n",
       "</table>\n",
       "</div>"
      ],
      "text/plain": [
       "area                A          B           C           D           E  \\\n",
       "claimcst0  127.008681  134.56976  139.518365  111.471694  146.959224   \n",
       "\n",
       "area                F  \n",
       "claimcst0  224.135098  "
      ]
     },
     "execution_count": 39,
     "metadata": {},
     "output_type": "execute_result"
    }
   ],
   "source": [
    "df.groupby(\"area\")[\"claimcst0\"].mean().to_frame().T"
   ]
  },
  {
   "cell_type": "code",
   "execution_count": 40,
   "metadata": {},
   "outputs": [
    {
     "data": {
      "image/png": "[encoded data removed]",
      "text/plain": [
       "<Figure size 2000x1400 with 6 Axes>"
      ]
     },
     "metadata": {},
     "output_type": "display_data"
    }
   ],
   "source": [
    "plt.subplots(figsize=(20,14))\n",
    "plt.suptitle(f\"Visualizing Categorical and numerical features by claimcst0\",fontsize=20,fontweight=\"bold\")\n",
    "plt.subplot(321)\n",
    "sns.violinplot(x=\"gender\",y=\"claimcst0\",data=df)\n",
    "plt.subplot(322)\n",
    "sns.violinplot(x=\"area\",y=\"claimcst0\",data=df)\n",
    "plt.subplot(323)\n",
    "sns.violinplot(x=\"agecat\",y=\"claimcst0\",data=df)\n",
    "plt.subplot(324)\n",
    "sns.violinplot(x=\"veh_age\",y=\"claimcst0\",data=df)\n",
    "plt.subplot(325)\n",
    "sns.violinplot(x=\"veh_body\",y=\"claimcst0\",data=df)\n",
    "\n",
    "plt.savefig('C:/Users/Omar/Desktop/Omar_Files/Python_Analysis/Auto_Insurance/outcomes/featuresbytargetGraphs/plot_features_by_claimcst0.png',dpi=500);"
   ]
  },
  {
   "cell_type": "markdown",
   "metadata": {},
   "source": [
    "---"
   ]
  },
  {
   "cell_type": "code",
   "execution_count": 41,
   "metadata": {},
   "outputs": [],
   "source": [
    "categories_encoder=LabelEncoder()\n",
    "for col in df:\n",
    "    if col in list(df.select_dtypes(include=\"object\").columns):\n",
    "        df[col]=categories_encoder.fit_transform(df[col])"
   ]
  },
  {
   "cell_type": "markdown",
   "metadata": {},
   "source": [
    "*Define x and y*"
   ]
  },
  {
   "cell_type": "code",
   "execution_count": 43,
   "metadata": {},
   "outputs": [],
   "source": [
    "x=df.drop(\"claimcst0\",axis=1)\n",
    "y=df[\"claimcst0\"]"
   ]
  },
  {
   "cell_type": "code",
   "execution_count": 44,
   "metadata": {},
   "outputs": [],
   "source": [
    "from sklearn.preprocessing import PowerTransformer\n",
    "pt=PowerTransformer(method=\"yeo-johnson\")\n",
    "transform_features=['veh_value']\n",
    "df[transform_features]=pt.fit_transform(x[transform_features])"
   ]
  },
  {
   "cell_type": "code",
   "execution_count": 45,
   "metadata": {},
   "outputs": [],
   "source": [
    "sc=StandardScaler()\n",
    "preprocessor=ColumnTransformer([\n",
    "    (\"StandardScaler\",sc,x.columns)\n",
    "]\n",
    ")"
   ]
  },
  {
   "cell_type": "code",
   "execution_count": 46,
   "metadata": {},
   "outputs": [],
   "source": [
    "x=preprocessor.fit_transform(x)"
   ]
  },
  {
   "cell_type": "code",
   "execution_count": 47,
   "metadata": {},
   "outputs": [
    {
     "name": "stdout",
     "output_type": "stream",
     "text": [
      "Train data shape of X = (54284, 7) and Y = (54284,) : \n",
      "Test data shape of X = (13572, 7) and Y = (13572,) : \n"
     ]
    }
   ],
   "source": [
    "x_train, x_test, y_train, y_test = train_test_split(x,y ,test_size= 0.2,random_state=42)\n",
    "\n",
    "print(\"Train data shape of X = % s and Y = % s : \"%(\n",
    "\tx_train.shape, y_train.shape))\n",
    "\n",
    "print(\"Test data shape of X = % s and Y = % s : \"%(\n",
    "\tx_test.shape, y_test.shape))"
   ]
  },
  {
   "cell_type": "markdown",
   "metadata": {},
   "source": [
    "---"
   ]
  },
  {
   "cell_type": "markdown",
   "metadata": {},
   "source": [
    "*Define models :*"
   ]
  },
  {
   "cell_type": "code",
   "execution_count": 54,
   "metadata": {},
   "outputs": [],
   "source": [
    "models = {\n",
    "                \"RandomForestRegressor\": RandomForestRegressor(),\n",
    "                \"DecisionTreeRegressor\": DecisionTreeRegressor(),\n",
    "                \"XGBRFRegressor\": XGBRFRegressor(),\n",
    "                \"GradientBoostingRegressor\":GradientBoostingRegressor(),\n",
    "                \"AdaBoostRegressor\": AdaBoostRegressor(),\n",
    "                \"KNeighborsRegressor\":KNeighborsRegressor()              \n",
    "}"
   ]
  },
  {
   "cell_type": "markdown",
   "metadata": {},
   "source": [
    "*Create cross validation evaluation_fucntion*"
   ]
  },
  {
   "cell_type": "code",
   "execution_count": 55,
   "metadata": {},
   "outputs": [],
   "source": [
    "def evaluation_preds_list(y_true,predicted):\n",
    "    RMSE=root_mean_squared_error(y_true,predicted)\n",
    "    r2score=r2_score(y_true,predicted)\n",
    "    metrics_dict={\n",
    "       \"RMSE\": round(RMSE,3),\n",
    "       \"r2score\": round(r2score,3)\n",
    "    }\n",
    "   \n",
    "    return metrics_dict"
   ]
  },
  {
   "cell_type": "code",
   "execution_count": 56,
   "metadata": {},
   "outputs": [],
   "source": [
    "def evaluation_preds(y_true,predicted):\n",
    "    RMSE=root_mean_squared_error(y_true,predicted)\n",
    "    return RMSE"
   ]
  },
  {
   "cell_type": "code",
   "execution_count": 57,
   "metadata": {},
   "outputs": [],
   "source": [
    "def evalua_models(x_train,y_train,models):\n",
    "    #x_train, x_test, y_train, y_test = train_test_split(x,y ,test_size= 0.20,random_state=42)\n",
    "    models_list=[]\n",
    "    RMSE_list=[]\n",
    "    for i in  range(len(list(models))):\n",
    "        model=list(models.values())[i]\n",
    "        model.fit(x_train,y_train)\n",
    "\n",
    "        train_predicted=model.predict(x_train)\n",
    "        test_predicted=model.predict(x_test)      \n",
    "        \n",
    "        test_predicted_RMSE=evaluation_preds(y_test,test_predicted)\n",
    "       \n",
    "        RMSE_list.append(test_predicted_RMSE)\n",
    "\n",
    "        print(list(models.keys())[i])\n",
    "        \n",
    "        models_list.append(list(models.keys())[i])\n",
    "        \n",
    "        print( test_predicted_RMSE)\n",
    "        print(\"===========================\")\n",
    "\n",
    "    report=pd.DataFrame(list(zip(models_list,RMSE_list)),columns=[\"model\",\"RMSE\"]).sort_values(by=\"RMSE\",ascending=True) \n",
    "    return report\n",
    "  "
   ]
  },
  {
   "cell_type": "code",
   "execution_count": 58,
   "metadata": {},
   "outputs": [
    {
     "name": "stdout",
     "output_type": "stream",
     "text": [
      "RandomForestRegressor\n",
      "1136.3803114773434\n",
      "===========================\n",
      "DecisionTreeRegressor\n",
      "1537.9635858177116\n",
      "===========================\n",
      "XGBRFRegressor\n",
      "1080.3053587265895\n",
      "===========================\n",
      "GradientBoostingRegressor\n",
      "1076.708671499445\n",
      "===========================\n",
      "AdaBoostRegressor\n",
      "6625.737616454179\n",
      "===========================\n",
      "KNeighborsRegressor\n",
      "1167.0756089622955\n",
      "===========================\n"
     ]
    },
    {
     "data": {
      "text/html": [
       "<div>\n",
       "<style scoped>\n",
       "    .dataframe tbody tr th:only-of-type {\n",
       "        vertical-align: middle;\n",
       "    }\n",
       "\n",
       "    .dataframe tbody tr th {\n",
       "        vertical-align: top;\n",
       "    }\n",
       "\n",
       "    .dataframe thead th {\n",
       "        text-align: right;\n",
       "    }\n",
       "</style>\n",
       "<table border=\"1\" class=\"dataframe\">\n",
       "  <thead>\n",
       "    <tr style=\"text-align: right;\">\n",
       "      <th></th>\n",
       "      <th>model</th>\n",
       "      <th>RMSE</th>\n",
       "    </tr>\n",
       "  </thead>\n",
       "  <tbody>\n",
       "    <tr>\n",
       "      <th>3</th>\n",
       "      <td>GradientBoostingRegressor</td>\n",
       "      <td>1076.708671</td>\n",
       "    </tr>\n",
       "    <tr>\n",
       "      <th>2</th>\n",
       "      <td>XGBRFRegressor</td>\n",
       "      <td>1080.305359</td>\n",
       "    </tr>\n",
       "    <tr>\n",
       "      <th>0</th>\n",
       "      <td>RandomForestRegressor</td>\n",
       "      <td>1136.380311</td>\n",
       "    </tr>\n",
       "    <tr>\n",
       "      <th>5</th>\n",
       "      <td>KNeighborsRegressor</td>\n",
       "      <td>1167.075609</td>\n",
       "    </tr>\n",
       "    <tr>\n",
       "      <th>1</th>\n",
       "      <td>DecisionTreeRegressor</td>\n",
       "      <td>1537.963586</td>\n",
       "    </tr>\n",
       "    <tr>\n",
       "      <th>4</th>\n",
       "      <td>AdaBoostRegressor</td>\n",
       "      <td>6625.737616</td>\n",
       "    </tr>\n",
       "  </tbody>\n",
       "</table>\n",
       "</div>"
      ],
      "text/plain": [
       "                       model         RMSE\n",
       "3  GradientBoostingRegressor  1076.708671\n",
       "2             XGBRFRegressor  1080.305359\n",
       "0      RandomForestRegressor  1136.380311\n",
       "5        KNeighborsRegressor  1167.075609\n",
       "1      DecisionTreeRegressor  1537.963586\n",
       "4          AdaBoostRegressor  6625.737616"
      ]
     },
     "execution_count": 58,
     "metadata": {},
     "output_type": "execute_result"
    }
   ],
   "source": [
    "evalua_models(x_train,y_train,models)"
   ]
  },
  {
   "cell_type": "code",
   "execution_count": 59,
   "metadata": {},
   "outputs": [],
   "source": [
    "np.random.seed(42)\n",
    "clf=GradientBoostingRegressor()\n",
    "clf.fit(x_train,y_train)\n",
    "predicted=clf.predict(x_test)"
   ]
  },
  {
   "cell_type": "code",
   "execution_count": 60,
   "metadata": {},
   "outputs": [
    {
     "data": {
      "text/html": [
       "<div>\n",
       "<style scoped>\n",
       "    .dataframe tbody tr th:only-of-type {\n",
       "        vertical-align: middle;\n",
       "    }\n",
       "\n",
       "    .dataframe tbody tr th {\n",
       "        vertical-align: top;\n",
       "    }\n",
       "\n",
       "    .dataframe thead th {\n",
       "        text-align: right;\n",
       "    }\n",
       "</style>\n",
       "<table border=\"1\" class=\"dataframe\">\n",
       "  <thead>\n",
       "    <tr style=\"text-align: right;\">\n",
       "      <th></th>\n",
       "      <th>feature_names</th>\n",
       "      <th>feature_importances</th>\n",
       "    </tr>\n",
       "  </thead>\n",
       "  <tbody>\n",
       "    <tr>\n",
       "      <th>0</th>\n",
       "      <td>veh_value</td>\n",
       "      <td>0.588330</td>\n",
       "    </tr>\n",
       "    <tr>\n",
       "      <th>1</th>\n",
       "      <td>exposure</td>\n",
       "      <td>0.183289</td>\n",
       "    </tr>\n",
       "    <tr>\n",
       "      <th>2</th>\n",
       "      <td>veh_body</td>\n",
       "      <td>0.009159</td>\n",
       "    </tr>\n",
       "    <tr>\n",
       "      <th>3</th>\n",
       "      <td>veh_age</td>\n",
       "      <td>0.029849</td>\n",
       "    </tr>\n",
       "    <tr>\n",
       "      <th>4</th>\n",
       "      <td>gender</td>\n",
       "      <td>0.011275</td>\n",
       "    </tr>\n",
       "    <tr>\n",
       "      <th>5</th>\n",
       "      <td>area</td>\n",
       "      <td>0.136554</td>\n",
       "    </tr>\n",
       "    <tr>\n",
       "      <th>6</th>\n",
       "      <td>agecat</td>\n",
       "      <td>0.041543</td>\n",
       "    </tr>\n",
       "  </tbody>\n",
       "</table>\n",
       "</div>"
      ],
      "text/plain": [
       "  feature_names  feature_importances\n",
       "0     veh_value             0.588330\n",
       "1      exposure             0.183289\n",
       "2      veh_body             0.009159\n",
       "3       veh_age             0.029849\n",
       "4        gender             0.011275\n",
       "5          area             0.136554\n",
       "6        agecat             0.041543"
      ]
     },
     "execution_count": 60,
     "metadata": {},
     "output_type": "execute_result"
    }
   ],
   "source": [
    "clf.feature_names=list(df.drop(\"claimcst0\",axis=1).columns)\n",
    "importance=pd.concat([pd.DataFrame(clf.feature_names,columns=[\"feature_names\"]),\n",
    "           pd.DataFrame(clf.feature_importances_,columns=[\"feature_importances\"])],axis=1)\n",
    "importance"
   ]
  },
  {
   "cell_type": "code",
   "execution_count": 61,
   "metadata": {},
   "outputs": [
    {
     "data": {
      "image/png": "[encoded data removed]",
      "text/plain": [
       "<Figure size 2000x700 with 1 Axes>"
      ]
     },
     "metadata": {},
     "output_type": "display_data"
    }
   ],
   "source": [
    "matplotlib.rcParams[\"figure.figsize\"]=(20,7)\n",
    "ax=sns.barplot(x=np.round(importance[\"feature_importances\"],3),y=importance[\"feature_names\"])\n",
    "plt.title('Features importance for claimcst0 feature')\n",
    "ax.bar_label(ax.containers[0]);\n",
    "plt.savefig('C:/Users/Omar/Desktop/Omar_Files/Python_Analysis/Auto_Insurance/outcomes/featuresImportanceGraphs/claimcst0_featureImportanc.png',dpi=500);"
   ]
  },
  {
   "cell_type": "code",
   "execution_count": 62,
   "metadata": {},
   "outputs": [],
   "source": [
    "import pickle\n",
    "with open (\"C:/Users/Omar/Desktop/Omar_Files/Python_Analysis/Auto_Insurance/outcomes/bestModels/claimcst0_prediction_model.pkl\",\"wb\") as f:\n",
    "    pickle.dump(clf,f)"
   ]
  },
  {
   "cell_type": "markdown",
   "metadata": {},
   "source": [
    "---"
   ]
  }
 ],
 "metadata": {
  "kernelspec": {
   "display_name": "Python 3",
   "language": "python",
   "name": "python3"
  },
  "language_info": {
   "codemirror_mode": {
    "name": "ipython",
    "version": 3
   },
   "file_extension": ".py",
   "mimetype": "text/x-python",
   "name": "python",
   "nbconvert_exporter": "python",
   "pygments_lexer": "ipython3",
   "version": "3.10.8"
  }
 },
 "nbformat": 4,
 "nbformat_minor": 2
}
